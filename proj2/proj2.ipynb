{
 "cells": [
  {
   "cell_type": "markdown",
   "metadata": {},
   "source": [
    "# Humor Detection"
   ]
  },
  {
   "cell_type": "code",
   "execution_count": 1,
   "metadata": {
    "scrolled": true
   },
   "outputs": [
    {
     "name": "stdout",
     "output_type": "stream",
     "text": [
      "(8000, 6)\n",
      "   id                                               text  is_humor  \\\n",
      "0   1  TENNESSEE: We're the best state. Nobody even c...         1   \n",
      "1   2  A man inserted an advertisement in the classif...         1   \n",
      "2   3  How many men does it take to open a can of bee...         1   \n",
      "3   4  Told my mom I hit 1200 Twitter followers. She ...         1   \n",
      "4   5  Roses are dead. Love is fake. Weddings are bas...         1   \n",
      "\n",
      "   humor_rating  humor_controversy  offense_rating  \n",
      "0          2.42                1.0             0.2  \n",
      "1          2.50                1.0             1.1  \n",
      "2          1.95                0.0             2.4  \n",
      "3          2.11                1.0             0.0  \n",
      "4          2.78                0.0             0.1  \n"
     ]
    }
   ],
   "source": [
    "import pandas as pd\n",
    "import numpy as np\n",
    "import re\n",
    "import nltk\n",
    "from nltk.corpus import stopwords\n",
    "from nltk.tokenize import word_tokenize\n",
    "from nltk.stem import PorterStemmer, LancasterStemmer, SnowballStemmer\n",
    "from nltk.corpus import wordnet\n",
    "from nltk.tokenize import PunktSentenceTokenizer # unsupervised machine learning sentence tokenizer , can be trained, but we use the default\n",
    "from nltk.stem import WordNetLemmatizer\n",
    "\n",
    "lemmatizer = WordNetLemmatizer()\n",
    "\n",
    "# Importing dataset\n",
    "dataset = pd.read_csv('files/train.csv', nrows=8000)\n",
    "print(dataset.shape)\n",
    "print(dataset.head())\n"
   ]
  },
  {
   "cell_type": "markdown",
   "metadata": {},
   "source": [
    "## Exploratory Data Analysis"
   ]
  },
  {
   "cell_type": "markdown",
   "metadata": {},
   "source": [
    "### Initial data selection"
   ]
  },
  {
   "cell_type": "code",
   "execution_count": 2,
   "metadata": {},
   "outputs": [
    {
     "name": "stdout",
     "output_type": "stream",
     "text": [
      "(8000, 5)\n",
      "   id                                               text  is_humor  \\\n",
      "0   1  TENNESSEE: We're the best state. Nobody even c...         1   \n",
      "1   2  A man inserted an advertisement in the classif...         1   \n",
      "2   3  How many men does it take to open a can of bee...         1   \n",
      "3   4  Told my mom I hit 1200 Twitter followers. She ...         1   \n",
      "4   5  Roses are dead. Love is fake. Weddings are bas...         1   \n",
      "\n",
      "   humor_rating  humor_controversy  \n",
      "0          2.42                1.0  \n",
      "1          2.50                1.0  \n",
      "2          1.95                0.0  \n",
      "3          2.11                1.0  \n",
      "4          2.78                0.0  \n",
      "\n",
      "----- Describe ------\n",
      "               id     is_humor  humor_rating  humor_controversy\n",
      "count  8000.00000  8000.000000   4932.000000        4932.000000\n",
      "mean   4000.50000     0.616500      2.260525           0.499797\n",
      "std    2309.54541     0.486269      0.566974           0.500051\n",
      "min       1.00000     0.000000      0.100000           0.000000\n",
      "25%    2000.75000     0.000000      1.890000           0.000000\n",
      "50%    4000.50000     1.000000      2.280000           0.000000\n",
      "75%    6000.25000     1.000000      2.650000           1.000000\n",
      "max    8000.00000     1.000000      4.000000           1.000000\n"
     ]
    }
   ],
   "source": [
    "\n",
    "# selecting important columns only\n",
    "# dropping 'offense_rating'\n",
    "dataset = dataset[['id', 'text', 'is_humor', 'humor_rating', 'humor_controversy']]\n",
    "print(dataset.shape)\n",
    "print(dataset.head())\n",
    "\n",
    "print(\"\\n----- Describe ------\")\n",
    "print(dataset.describe())"
   ]
  },
  {
   "cell_type": "code",
   "execution_count": 3,
   "metadata": {},
   "outputs": [
    {
     "data": {
      "text/plain": [
       "id                      0\n",
       "text                    0\n",
       "is_humor                0\n",
       "humor_rating         3068\n",
       "humor_controversy    3068\n",
       "dtype: int64"
      ]
     },
     "execution_count": 3,
     "metadata": {},
     "output_type": "execute_result"
    }
   ],
   "source": [
    "# checks if there are null values\n",
    "\n",
    "dataset.isnull().sum()"
   ]
  },
  {
   "cell_type": "markdown",
   "metadata": {},
   "source": [
    "This means we have to process these null values..."
   ]
  },
  {
   "cell_type": "code",
   "execution_count": 4,
   "metadata": {},
   "outputs": [
    {
     "data": {
      "text/html": [
       "<div>\n",
       "<style scoped>\n",
       "    .dataframe tbody tr th:only-of-type {\n",
       "        vertical-align: middle;\n",
       "    }\n",
       "\n",
       "    .dataframe tbody tr th {\n",
       "        vertical-align: top;\n",
       "    }\n",
       "\n",
       "    .dataframe thead th {\n",
       "        text-align: right;\n",
       "    }\n",
       "</style>\n",
       "<table border=\"1\" class=\"dataframe\">\n",
       "  <thead>\n",
       "    <tr style=\"text-align: right;\">\n",
       "      <th></th>\n",
       "      <th>id</th>\n",
       "      <th>text</th>\n",
       "      <th>is_humor</th>\n",
       "      <th>humor_rating</th>\n",
       "      <th>humor_controversy</th>\n",
       "    </tr>\n",
       "  </thead>\n",
       "  <tbody>\n",
       "    <tr>\n",
       "      <th>5</th>\n",
       "      <td>6</td>\n",
       "      <td>'Trabajo,' the Spanish word for work, comes fr...</td>\n",
       "      <td>0</td>\n",
       "      <td>NaN</td>\n",
       "      <td>NaN</td>\n",
       "    </tr>\n",
       "    <tr>\n",
       "      <th>6</th>\n",
       "      <td>7</td>\n",
       "      <td>I enrolled on some skill training and extra cu...</td>\n",
       "      <td>0</td>\n",
       "      <td>NaN</td>\n",
       "      <td>NaN</td>\n",
       "    </tr>\n",
       "    <tr>\n",
       "      <th>8</th>\n",
       "      <td>9</td>\n",
       "      <td>Men who ejaculated 21 times or more a month ha...</td>\n",
       "      <td>0</td>\n",
       "      <td>NaN</td>\n",
       "      <td>NaN</td>\n",
       "    </tr>\n",
       "    <tr>\n",
       "      <th>9</th>\n",
       "      <td>10</td>\n",
       "      <td>I got REALLY angry today and it wasn't about n...</td>\n",
       "      <td>0</td>\n",
       "      <td>NaN</td>\n",
       "      <td>NaN</td>\n",
       "    </tr>\n",
       "    <tr>\n",
       "      <th>10</th>\n",
       "      <td>11</td>\n",
       "      <td>A dog in Mexico named Frida saved the lives of...</td>\n",
       "      <td>0</td>\n",
       "      <td>NaN</td>\n",
       "      <td>NaN</td>\n",
       "    </tr>\n",
       "  </tbody>\n",
       "</table>\n",
       "</div>"
      ],
      "text/plain": [
       "    id                                               text  is_humor  \\\n",
       "5    6  'Trabajo,' the Spanish word for work, comes fr...         0   \n",
       "6    7  I enrolled on some skill training and extra cu...         0   \n",
       "8    9  Men who ejaculated 21 times or more a month ha...         0   \n",
       "9   10  I got REALLY angry today and it wasn't about n...         0   \n",
       "10  11  A dog in Mexico named Frida saved the lives of...         0   \n",
       "\n",
       "    humor_rating  humor_controversy  \n",
       "5            NaN                NaN  \n",
       "6            NaN                NaN  \n",
       "8            NaN                NaN  \n",
       "9            NaN                NaN  \n",
       "10           NaN                NaN  "
      ]
     },
     "execution_count": 4,
     "metadata": {},
     "output_type": "execute_result"
    }
   ],
   "source": [
    "dataset[dataset['is_humor']==0].head()"
   ]
  },
  {
   "cell_type": "code",
   "execution_count": 5,
   "metadata": {},
   "outputs": [
    {
     "data": {
      "text/plain": [
       "(3068, 5)"
      ]
     },
     "execution_count": 5,
     "metadata": {},
     "output_type": "execute_result"
    }
   ],
   "source": [
    "dataset[dataset['is_humor']==0].shape"
   ]
  },
  {
   "cell_type": "markdown",
   "metadata": {},
   "source": [
    "As the number of null values is equal to the rows classifying the text as not humor, dropping these lines would drop important data for the models."
   ]
  },
  {
   "cell_type": "markdown",
   "metadata": {},
   "source": [
    "### Data types"
   ]
  },
  {
   "cell_type": "code",
   "execution_count": 6,
   "metadata": {},
   "outputs": [
    {
     "data": {
      "text/plain": [
       "id                     int64\n",
       "text                  object\n",
       "is_humor               int64\n",
       "humor_rating         float64\n",
       "humor_controversy    float64\n",
       "dtype: object"
      ]
     },
     "execution_count": 6,
     "metadata": {},
     "output_type": "execute_result"
    }
   ],
   "source": [
    "dataset.dtypes"
   ]
  },
  {
   "cell_type": "markdown",
   "metadata": {},
   "source": [
    "And it's done! Now some graphics to analyse text statictics... (in progress)"
   ]
  },
  {
   "cell_type": "markdown",
   "metadata": {},
   "source": [
    "### Text statistics analysis"
   ]
  },
  {
   "cell_type": "markdown",
   "metadata": {},
   "source": [
    "#### No. of characters by each line"
   ]
  },
  {
   "cell_type": "code",
   "execution_count": 7,
   "metadata": {},
   "outputs": [
    {
     "data": {
      "text/plain": [
       "<AxesSubplot:>"
      ]
     },
     "execution_count": 7,
     "metadata": {},
     "output_type": "execute_result"
    },
    {
     "data": {
      "image/png": "[encoded data removed]",
      "text/plain": [
       "<Figure size 432x288 with 1 Axes>"
      ]
     },
     "metadata": {
      "needs_background": "light"
     },
     "output_type": "display_data"
    }
   ],
   "source": [
    "dataset['text'].str.len().hist()"
   ]
  },
  {
   "cell_type": "markdown",
   "metadata": {},
   "source": [
    "This histogram shows that each line has, generally, between 40 to 150 characters."
   ]
  },
  {
   "cell_type": "markdown",
   "metadata": {},
   "source": [
    "#### No. of words by each line"
   ]
  },
  {
   "cell_type": "code",
   "execution_count": 8,
   "metadata": {},
   "outputs": [
    {
     "data": {
      "text/plain": [
       "<AxesSubplot:>"
      ]
     },
     "execution_count": 8,
     "metadata": {},
     "output_type": "execute_result"
    },
    {
     "data": {
      "image/png": "[encoded data removed]",
      "text/plain": [
       "<Figure size 432x288 with 1 Axes>"
      ]
     },
     "metadata": {
      "needs_background": "light"
     },
     "output_type": "display_data"
    }
   ],
   "source": [
    "dataset['text'].str.split().\\\n",
    "    map(lambda x: len(x)).\\\n",
    "    hist()"
   ]
  },
  {
   "cell_type": "markdown",
   "metadata": {},
   "source": [
    "For instance, this histogram shows that each line has, generally, between 10 and 30 words. "
   ]
  },
  {
   "cell_type": "markdown",
   "metadata": {},
   "source": [
    "#### Average word length"
   ]
  },
  {
   "cell_type": "code",
   "execution_count": 9,
   "metadata": {},
   "outputs": [
    {
     "data": {
      "text/plain": [
       "<AxesSubplot:>"
      ]
     },
     "execution_count": 9,
     "metadata": {},
     "output_type": "execute_result"
    },
    {
     "data": {
      "image/png": "[encoded data removed]",
      "text/plain": [
       "<Figure size 432x288 with 1 Axes>"
      ]
     },
     "metadata": {
      "needs_background": "light"
     },
     "output_type": "display_data"
    }
   ],
   "source": [
    "dataset['text'].str.split().\\\n",
    "   apply(lambda x : [len(i) for i in x]). \\\n",
    "   map(lambda x: np.mean(x)).hist()"
   ]
  },
  {
   "cell_type": "markdown",
   "metadata": {},
   "source": [
    "This histogram shows that the average word length is mostly, between, 3 to 6 characters (with 4 and 5 being the most common length). So, this may show that the dataset has a high amount of stopwords and analyzing its amount and types can give a good insight about the data."
   ]
  },
  {
   "cell_type": "markdown",
   "metadata": {},
   "source": [
    "### Most common stopwords"
   ]
  },
  {
   "cell_type": "code",
   "execution_count": 10,
   "metadata": {},
   "outputs": [
    {
     "data": {
      "text/plain": [
       "<BarContainer object of 10 artists>"
      ]
     },
     "execution_count": 10,
     "metadata": {},
     "output_type": "execute_result"
    },
    {
     "data": {
      "image/png": "[encoded data removed]",
      "text/plain": [
       "<Figure size 432x288 with 1 Axes>"
      ]
     },
     "metadata": {
      "needs_background": "light"
     },
     "output_type": "display_data"
    }
   ],
   "source": [
    "'''https://towardsdatascience.com/exploratory-data-analysis-for-natural-language-processing-ff0046ab3571'''\n",
    "\n",
    "import matplotlib.pyplot as plt\n",
    "\n",
    "corpus=[]\n",
    "stop = set(stopwords.words('english'))\n",
    "words = dataset['text'].str.split()\n",
    "words = words.values.tolist()\n",
    "corpus = [word for i in words for word in i]\n",
    "\n",
    "from collections import defaultdict\n",
    "dic = defaultdict(int)\n",
    "for word in corpus:\n",
    "    if word in stop:\n",
    "        dic[word] += 1\n",
    "        \n",
    "top=sorted(dic.items(), key=lambda x:x[1],reverse=True)[:10] \n",
    "x,y=zip(*top)\n",
    "plt.bar(x,y)"
   ]
  },
  {
   "cell_type": "markdown",
   "metadata": {},
   "source": [
    "This plot shows that is important to remove stopwords, due to its frequency."
   ]
  },
  {
   "cell_type": "markdown",
   "metadata": {},
   "source": [
    "### Most common words (excluding stopwords)"
   ]
  },
  {
   "cell_type": "markdown",
   "metadata": {},
   "source": [
    "After a initial analysis, we concluded that there were some common words with contractions. Therefore, we must first expand these contractions first and plot the common words after."
   ]
  },
  {
   "cell_type": "code",
   "execution_count": 11,
   "metadata": {},
   "outputs": [
    {
     "name": "stdout",
     "output_type": "stream",
     "text": [
      "0    TENNESSEE: We are the best state. Nobody even ...\n",
      "1    A man inserted an advertisement in the classif...\n",
      "2    How many men does it take to open a can of bee...\n",
      "3    Told my mom I hit 1200 Twitter followers. She ...\n",
      "4    Roses are dead. Love is fake. Weddings are bas...\n",
      "Name: text, dtype: object\n"
     ]
    }
   ],
   "source": [
    "'''adapted from https://www.analyticsvidhya.com/blog/2020/04/beginners-guide-exploratory-data-analysis-text-data/'''\n",
    "from collections import Counter\n",
    "import seaborn as sns\n",
    "\n",
    "contractions_dict = {\n",
    "     'I\\'m': 'I am',\n",
    "     'can\\'t': 'can not',\n",
    "     'We\\'re': 'We are',\n",
    "     'wasn\\'t': 'was not',\n",
    "     'you\\'ve': 'you have',\n",
    "     'What\\'s': 'What is',\n",
    "}\n",
    "\n",
    "# Regular expression for finding contractions\n",
    "contractions_re=re.compile('(%s)' % '|'.join(contractions_dict.keys()))\n",
    "\n",
    "# function for expanding contractions\n",
    "def expand_contractions(text, contractions_dict=contractions_dict):\n",
    "    return contractions_re.sub(lambda match : contractions_dict[match.group(0)], text)\n",
    "\n",
    "dataset['text'] = dataset['text'].apply(lambda x : expand_contractions(x))\n",
    "print(dataset['text'].head(5))\n",
    "\n",
    "words = dataset['text'].str.split()\n",
    "words = words.values.tolist()\n",
    "corpus = [word for i in words for word in i]\n",
    "\n"
   ]
  },
  {
   "cell_type": "code",
   "execution_count": 12,
   "metadata": {},
   "outputs": [
    {
     "data": {
      "text/plain": [
       "<AxesSubplot:>"
      ]
     },
     "execution_count": 12,
     "metadata": {},
     "output_type": "execute_result"
    },
    {
     "data": {
      "image/png": "[encoded data removed]",
      "text/plain": [
       "<Figure size 432x288 with 1 Axes>"
      ]
     },
     "metadata": {
      "needs_background": "light"
     },
     "output_type": "display_data"
    }
   ],
   "source": [
    "'''https://towardsdatascience.com/exploratory-data-analysis-for-natural-language-processing-ff0046ab3571'''\n",
    "\n",
    "counter = Counter(corpus)\n",
    "most = counter.most_common()\n",
    "x, y = [], []\n",
    "for word, count in most[:100]:\n",
    "    if (word.lower() not in stop):\n",
    "        x.append(word)\n",
    "        y.append(count)\n",
    "        \n",
    "sns.barplot(x=y,y=x)"
   ]
  },
  {
   "cell_type": "markdown",
   "metadata": {},
   "source": [
    "This plot means that 'me:', 'wife' and 'black', generally indicate that the sentence has humor. (temos que fazer matching disto com o is_humor)"
   ]
  },
  {
   "cell_type": "markdown",
   "metadata": {},
   "source": [
    "### Humor rating distribution"
   ]
  },
  {
   "cell_type": "code",
   "execution_count": 13,
   "metadata": {},
   "outputs": [
    {
     "data": {
      "text/plain": [
       "<AxesSubplot:>"
      ]
     },
     "execution_count": 13,
     "metadata": {},
     "output_type": "execute_result"
    },
    {
     "data": {
      "image/png": "[encoded data removed]",
      "text/plain": [
       "<Figure size 432x288 with 1 Axes>"
      ]
     },
     "metadata": {
      "needs_background": "light"
     },
     "output_type": "display_data"
    }
   ],
   "source": [
    "dataset['humor_rating'].hist()"
   ]
  },
  {
   "cell_type": "markdown",
   "metadata": {},
   "source": [
    "## Data preprocessing"
   ]
  },
  {
   "cell_type": "code",
   "execution_count": 14,
   "metadata": {},
   "outputs": [],
   "source": [
    "\n",
    "\n",
    "data_list =[]\n",
    "data_list2 =[]\n",
    "\n",
    "raw_text =\"\"\n",
    "stop_words = tuple(set(stopwords.words(\"english\")))\n",
    "\n",
    "def lemmatization(token_sentence):\n",
    "    res = []\n",
    "    for word in token_sentence:\n",
    "        lemmatizer.lemmatize(word)\n",
    "        res.append(word)\n",
    "    return res\n",
    "\n",
    "\n",
    "def get_wordnet_pos(word):\n",
    "    \"\"\"Map POS tag to first character lemmatize() accepts\"\"\"\n",
    "    tag = nltk.pos_tag([word])[0][1][0].upper()\n",
    "    tag_dict = {\"J\": wordnet.ADJ,\n",
    "                \"N\": wordnet.NOUN,\n",
    "                \"V\": wordnet.VERB,\n",
    "                \"R\": wordnet.ADV}\n",
    "    return tag_dict.get(tag, wordnet.NOUN)\n",
    "\n",
    "\n",
    "# Simple test\n",
    "def input_test(classifier):\n",
    "    sample_text = input(\"Enter joke: \")\n",
    "    sample_text = re.sub(r'[-.?!,:;()|0-9]', ' ', sample_text).lower().split()\n",
    "    sample_text = ' '.join([lemmatizer.lemmatize(word, get_wordnet_pos(word)) for word in sample_text])\n",
    "    aux_X = vectorizer.transform([sample_text]).toarray()\n",
    "    \n",
    "    #testing------------------------\n",
    "    dfTesting = pd.DataFrame(aux_X.tolist())\n",
    "    print(dfTesting)\n",
    "    dfTesting[\"is_humor\"] = float(input(\"Enter rating: \"))\n",
    "    dfTesting[\"controversial\"] = int(input(\"Enter controversy: \"))\n",
    "    aux_X = dfTesting.to_numpy()\n",
    "    np.nan_to_num(aux_X, copy=False)\n",
    "    #testing------------------------\n",
    "    \n",
    "\n",
    "   # print(aux_X.shape)\n",
    "    print(aux_X)\n",
    "\n",
    "    if(classifier.predict(aux_X) == [1]):\n",
    "        print(\"It's a joke! (+)\")\n",
    "    else:\n",
    "        print(\"It's not a joke! (-)\")\n",
    "\n",
    "# range = dataset range\n",
    "for i in range(0,dataset.shape[0]):\n",
    "    \n",
    "   humor_sentence = dataset['text'][i]\n",
    "\n",
    "   #Tokenization by words or sentences\n",
    "   humor_sentence = word_tokenize(humor_sentence)\n",
    "   #remove stopwords and lemmatization with pos_tag\n",
    "   humor_sentence = \" \".join([lemmatizer.lemmatize(word, get_wordnet_pos(word)) for word in humor_sentence if word not in set(stopwords.words('english'))])  \n",
    "      \n",
    "   # remove alpha chars/not alphabetical caracters \n",
    "   humor_sentence2 = re.sub(r'[-.?!,:;()|0-9]', ' ', dataset['text'][i])\n",
    "   \n",
    "   humor_sentence2 = humor_sentence2.lower()\n",
    "   humor_sentence2 = word_tokenize(humor_sentence2)\n",
    "   humor_sentence2 = \" \".join([lemmatizer.lemmatize(word, get_wordnet_pos(word)) for word in humor_sentence2 if word not in set(stopwords.words('english'))])  \n",
    "      \n",
    "   #raw_text += aux_reader+ \"\\n\"\n",
    "   \n",
    "    \n",
    "    # aggregate all the rows of the dataset in one corpus ('data_list')\n",
    "   data_list.append(humor_sentence)\n",
    "    \n",
    "    # how data_list2 is different from data_list?\n",
    "   data_list2.append(humor_sentence2)\n"
   ]
  },
  {
   "cell_type": "markdown",
   "metadata": {},
   "source": [
    "## Extract features from data"
   ]
  },
  {
   "cell_type": "code",
   "execution_count": 15,
   "metadata": {},
   "outputs": [
    {
     "name": "stdout",
     "output_type": "stream",
     "text": [
      "['00', '000', '03', '10', '100', '1000', '100th', '10k', '10yr', '11', '11th', '12', '1200', '13', '14', '15', '150', '153', '16', '17', '18', '180', '19', '1928', '1940', '1945', '1948', '1950s', '1953', '1963', '1967', '1969', '1970s', '1975', '1977', '1981', '1984', '1985', '1991', '1992', '1995', '1996', '1998', '1st', '20', '200', '2000', '2001', '2003', '2006', '2007', '200thepisode', '2010', '2011', '2012', '2013', '2014', '2015', '2016', '2017', '2018', '2019', '2020', '21', '22', '23', '239', '24', '25', '26', '28', '29', '2nd', '2x', '30', '300', '30pm', '31', '32', '33', '34', '35', '36', '360', '3629', '37', '3d', '3rd', '40', '400', '41', '42', '43', '45', '46', '48', '49', '4th', '50', '500', '51', '52', '55', '56', '57', '5am', '5pm', '5sos', '5th', '60', '64', '65', '666', '67', '68', '70', '72', '75', '76', '79', '7th', '80', '800', '85', '87', '88', '90', '911', '93', '94', '97', '99', '999', '9pm', 'aaa', 'aaaa', 'aap', 'abandon', 'abc', 'abduct', 'abdul', 'ability', 'able', 'abnormal', 'abortion', 'about', 'abraham', 'abroad', 'absolutely', 'absorb', 'absorbed', 'absorption', 'abu', 'abuse', 'academic', 'academy', 'accent', 'accept', 'acceptable', 'accepted', 'access', 'accessible', 'accident', 'accidentally', 'accord', 'according', 'account', 'accountable', 'accountant', 'accuracy', 'accurate', 'accuse', 'achieve', 'achievement', 'acid', 'ackles', 'acknowledge', 'acne', 'acquire', 'across', 'act', 'action', 'activate', 'active', 'activist', 'activity', 'actor', 'actual', 'actually', 'ad', 'adam', 'adapt', 'adapts', 'add', 'added', 'addict', 'addiction', 'addition', 'additional', 'address', 'adele', 'adept', 'adhd', 'adhesive', 'adjust', 'admit', 'adolf', 'adopt', 'adoption', 'adorable', 'adrenal', 'adrenaline', 'ads', 'adult', 'adulting', 'adults', 'advantage', 'adventure', 'adversity', 'advert', 'advertisement', 'advice', 'advise', 'advises', 'advocate', 'aerobics', 'af', 'affair', 'affect', 'affected', 'affirm', 'afford', 'affordable', 'afraid', 'africa', 'african', 'africans', 'afropunk', 'after', 'afternoon', 'again', 'age', 'agency', 'agent', 'ages', 'aggression', 'aggressive', 'aging', 'ago', 'agree', 'ah', 'aha', 'ahead', 'ai', 'aid', 'aide', 'aids', 'ailment', 'aim', 'air', 'aircraft', 'airline', 'airlines', 'airplane', 'airport', 'aisle', 'ak', 'al', 'alabama', 'alan', 'alarm', 'alaska', 'albert', 'albinos', 'album', 'alcohol', 'alcoholic', 'aldrin', 'alert', 'alexa', 'algorithm', 'ali', 'alice', 'alien', 'align', 'alive', 'all', 'allah', 'allahu', 'allergy', 'alley', 'alligator', 'allow', 'allows', 'ally', 'almond', 'almost', 'alone', 'along', 'alphabet', 'already', 'alright', 'also', 'alter', 'alternative', 'although', 'aluminum', 'always', 'alzheimer', 'am', 'ama', 'amaze', 'amazing', 'amazingly', 'amazon', 'amber', 'ambition', 'ambulance', 'amendment', 'america', 'american', 'americans', 'amino', 'among', 'amongst', 'amount', 'amplify', 'amputate', 'amputee', 'amy', 'an', 'anal', 'anatomy', 'ancestor', 'ancient', 'and', 'anemia', 'aneurysm', 'angel', 'angeles', 'angels', 'anger', 'angie', 'angle', 'angrily', 'angry', 'animal', 'animator', 'anime', 'ankle', 'ann', 'anne', 'anniversary', 'announce', 'announcement', 'announces', 'annoy', 'annoyed', 'anorexic', 'another', 'answer', 'ant', 'antarctica', 'anti', 'antibiotic', 'antidepressant', 'antifreeze', 'antioxidant', 'anxiety', 'anxious', 'any', 'anybody', 'anymore', 'anyone', 'anything', 'anytime', 'anyway', 'anyways', 'anywhere', 'apart', 'apartment', 'apathy', 'apollo', 'apologize', 'apologizes', 'apology', 'app', 'apparently', 'appear', 'appearance', 'appetite', 'applaud', 'applause', 'apple', 'apples', 'application', 'applies', 'apply', 'appointment', 'appreciate', 'approach', 'appropriate', 'approve', 'approximately', 'april', 'aquatics', 'arab', 'arabia', 'arabic', 'arabs', 'arava', 'arcade', 'architecture', 'arctic', 'are', 'area', 'aretha', 'argue', 'argument', 'ariana', 'arizona', 'arkansas', 'arm', 'armageddon', 'armpit', 'armstrong', 'army', 'arnold', 'around', 'arouse', 'arrange', 'arrangement', 'arrest', 'arrival', 'arrive', 'arrives', 'arrogance', 'arrow', 'arson', 'art', 'arthur', 'article', 'artificial', 'artist', 'aryan', 'as', 'asap', 'ash', 'ashamed', 'ashtray', 'asia', 'asian', 'asiana', 'asians', 'aside', 'ask', 'asked', 'asking', 'asks', 'asleep', 'ass', 'assassin', 'assassinate', 'assault', 'assemble', 'asshole', 'assistant', 'associate', 'association', 'assume', 'assure', 'astronaut', 'astronomical', 'asylum', 'at', 'ate', 'atheist', 'athlete', 'atomic', 'attach', 'attack', 'attempt', 'attend', 'attendant', 'attention', 'attic', 'attitude', 'attorney', 'attract', 'attraction', 'attractive', 'audience', 'audition', 'august', 'auntie', 'aunties', 'aunty', 'austen', 'austin', 'australia', 'australians', 'authentic', 'author', 'authority', 'autism', 'auto', 'automatic', 'automatically', 'autonomy', 'autumn', 'available', 'average', 'avocado', 'avocados', 'avoid', 'aw', 'awake', 'awaken', 'award', 'awards', 'awareness', 'away', 'awesome', 'awful', 'awkward', 'axis', 'aye', 'b3', 'b6', 'ba', 'babe', 'babies', 'baby', 'bachelor', 'back', 'backpack', 'backup', 'backwards', 'bacon', 'bacteria', 'bad', 'badass', 'badge', 'badly', 'bae', 'bag', 'bagel', 'bagging', 'baghdad', 'bailey', 'bake', 'baked', 'baker', 'bakery', 'balance', 'bald', 'baldwin', 'ball', 'balsamic', 'bambi', 'ban', 'banana', 'band', 'bandit', 'bang', 'banger', 'banging', 'bank', 'banker', 'bar', 'barack', 'barbara', 'barbecue', 'barber', 'barbie', 'barely', 'barista', 'bark', 'barman', 'barn', 'barrel', 'bartender', 'base', 'baseball', 'based', 'basement', 'basic', 'basically', 'basis', 'basket', 'basketball', 'bastard', 'bat', 'bath', 'bathing', 'bathroom', 'bathtub', 'batman', 'battery', 'battle', 'bbq', 'bc', 'bday', 'be', 'beach', 'bead', 'beam', 'bean', 'bear', 'beard', 'beast', 'beat', 'beaten', 'beating', 'beatles', 'beautiful', 'beauty', 'bebe', 'because', 'become', 'becomes', 'bed', 'bedroom', 'bee', 'beef', 'beehive', 'beekeeper', 'been', 'beep', 'beer', 'bees', 'beethoven', 'before', 'beg', 'begin', 'behalf', 'behave', 'behavior', 'behavioral', 'behaviour', 'behind', 'being', 'belief', 'believe', 'believer', 'belittle', 'bell', 'belly', 'belong', 'belonging', 'belongs', 'beloved', 'belt', 'ben', 'bench', 'beneficial', 'benefit', 'benign', 'berry', 'beside', 'besides', 'best', 'bet', 'beta', 'better', 'betty', 'between', 'beverage', 'beware', 'beyonce', 'beyond', 'bfs', 'bgs', 'bhism', 'bi', 'bias', 'bible', 'bicarbonate', 'bicycle', 'bieber', 'big', 'bike', 'biker', 'bilbo', 'bill', 'billion', 'billionaire', 'billy', 'binary', 'binge', 'bingo', 'bio', 'biologist', 'biology', 'biotin', 'bipoc', 'bipolar', 'bird', 'birds', 'birth', 'birthday', 'bisexual', 'bit', 'bitch', 'bite', 'bitten', 'bitter', 'bizarre', 'bk', 'bks', 'black', 'blackgirlmagic', 'blackish', 'blacksmith', 'bladder', 'blade', 'blame', 'bland', 'blanket', 'blast', 'bless', 'blessing', 'blew', 'blind', 'blindfold', 'blindly', 'blindness', 'blk', 'bloating', 'block', 'blog', 'blond', 'blonde', 'blood', 'bloodstream', 'blow', 'blowing', 'blowjob', 'blown', 'blue', 'blueberry', 'bluetooth', 'blur', 'bmhn', 'board', 'boarding', 'boat', 'bob', 'body', 'boil', 'bold', 'bolt', 'bomb', 'bomber', 'bond', 'bone', 'boner', 'bonita', 'bonus', 'boo', 'boob', 'booby', 'book', 'books', 'boom', 'boomer', 'boomerang', 'boost', 'boot', 'booty', 'bop', 'border', 'bore', 'boredom', 'boring', 'born', 'borrow', 'bos', 'boseman', 'boss', 'both', 'bother', 'bottle', 'bottom', 'bought', 'bounce', 'bouncy', 'boundary', 'bouquet', 'bout', 'bow', 'bowl', 'bowling', 'box', 'boy', 'boyfriend', 'boys', 'bra', 'brace', 'brad', 'brag', 'bragging', 'braille', 'brain', 'bran', 'brand', 'brave', 'bravery', 'brazilian', 'bread', 'break', 'breaker', 'breakfast', 'breaking', 'breakup', 'breast', 'breath', 'breathe', 'breathing', 'breed', 'brew', 'brewery', 'brian', 'brick', 'bride', 'bridge', 'brief', 'briefcase', 'bright', 'brighten', 'brighter', 'brilliant', 'bring', 'brings', 'brink', 'britain', 'british', 'bro', 'broad', 'broadcast', 'broadcasting', 'broccoli', 'broke', 'broken', 'brooklyn', 'broom', 'bros', 'brothel', 'brother', 'brought', 'brown', 'brownie', 'browser', 'bruce', 'bruise', 'bruising', 'brunette', 'bruno', 'brush', 'bubble', 'buck', 'bucket', 'bud', 'buddha', 'buddy', 'budget', 'buff', 'buffalo', 'buffet', 'bug', 'build', 'builder', 'building', 'built', 'bulb', 'bulk', 'bullet', 'bulletproof', 'bullets', 'bulls', 'bullshit', 'bully', 'bumblebee', 'bump', 'bumped', 'bumper', 'bun', 'bunch', 'bundy', 'bunny', 'burden', 'burger', 'burgle', 'burial', 'burn', 'burnett', 'burning', 'burnout', 'burnt', 'burp', 'burrito', 'burst', 'bury', 'bus', 'bush', 'business', 'bust', 'busy', 'but', 'butler', 'butt', 'butter', 'butterfly', 'button', 'buy', 'buying', 'buzz', 'buzzing', 'by', 'ca', 'cabbage', 'cabinet', 'cable', 'caesar', 'cafe', 'caffeine', 'cage', 'cairns', 'caitlyn', 'cake', 'calcium', 'calendar', 'california', 'call', 'callie', 'calm', 'calorie', 'camel', 'cameo', 'camera', 'camouflage', 'camp', 'campaign', 'campbell', 'campus', 'can', 'canada', 'canadian', 'canadians', 'canary', 'cancel', 'cancer', 'cancerous', 'candidate', 'candle', 'candy', 'cannabis', 'cannelloni', 'cannibal', 'canoe', 'cant', 'cantaloupe', 'cap', 'capacity', 'cape', 'capillary', 'capital', 'captain', 'caption', 'capture', 'car', 'carbohydrate', 'carbon', 'carbs', 'card', 'cardboard', 'care', 'career', 'careful', 'carefully', 'careless', 'cargo', 'carol', 'carotene', 'carotenoid', 'carpenter', 'carpet', 'carrey', 'carrot', 'carry', 'cars', 'cart', 'carter', 'carton', 'cartoon', 'carving', 'casa', 'case', 'cash', 'cashier', 'casino', 'cason', 'cassette', 'cast', 'castle', 'casual', 'cat', 'catalog', 'cataract', 'catch', 'catchy', 'category', 'caterpillar', 'catfishing', 'catholic', 'catholics', 'cats', 'cauc', 'caucasian', 'caught', 'cause', 'cave', 'caveman', 'cavity', 'cd', 'cease', 'ceiling', 'celebrate', 'celebration', 'celebrity', 'cell', 'cement', 'cemetery', 'cent', 'center', 'central', 'centre', 'century', 'ceo', 'cereal', 'ceremony', 'certain', 'chaca', 'chadwick', 'chain', 'chainsaw', 'chair', 'challenge', 'chameleon', 'champagne', 'champion', 'championship', 'chan', 'chance', 'change', 'channel', 'chaos', 'character', 'charade', 'charge', 'charity', 'charles', 'charlie', 'charlotte', 'charm', 'chase', 'chat', 'chauffeur', 'cheap', 'cheapest', 'cheat', 'check', 'checked', 'checkout', 'cheek', 'cheer', 'cheers', 'cheese', 'cheetah', 'cheetos', 'cheez', 'chef', 'chemical', 'cher', 'cherish', 'chernobyl', 'cherry', 'cheryl', 'chess', 'chest', 'chew', 'chewbacca', 'chi', 'chicago', 'chick', 'chicken', 'chief', 'child', 'childbirth', 'childhood', 'childlike', 'children', 'chill', 'chilli', 'chimney', 'chin', 'china', 'chinese', 'ching', 'chip', 'chipotle', 'chiropractor', 'chirp', 'chocolate', 'choice', 'choke', 'cholesterol', 'cholo', 'choose', 'chooses', 'chop', 'chosen', 'chp', 'chris', 'christ', 'christian', 'christians', 'christina', 'christmas', 'christopher', 'chromatica', 'chromosome', 'chu', 'chubby', 'chuck', 'church', 'ci', 'cia', 'cigarette', 'cinderella', 'cinnamon', 'circle', 'circulation', 'circumcise', 'citizen', 'city', 'civic', 'civil', 'civilian', 'claim', 'clam', 'clap', 'clarity', 'clark', 'clarke', 'clarkson', 'class', 'classic', 'classy', 'claudia', 'claus', 'claw', 'clay', 'clean', 'cleaner', 'cleaning', 'clear', 'clearly', 'clerk', 'clever', 'click', 'clicked', 'client', 'cliff', 'climate', 'climb', 'clinic', 'clinical', 'clinton', 'clip', 'clock', 'clog', 'clone', 'close', 'closely', 'closer', 'closest', 'closet', 'closing', 'clot', 'clothes', 'clothing', 'cloud', 'clouds', 'clown', 'club', 'clue', 'cnn', 'co', 'coach', 'coal', 'coast', 'coat', 'cob', 'cobweb', 'coca', 'cocaine', 'cock', 'cockatoo', 'cockroach', 'cocktail', 'coconut', 'code', 'coffee', 'coffin', 'cognitive', 'coin', 'coincidence', 'coke', 'cola', 'cold', 'coldest', 'coldplay', 'cole', 'collage', 'collagen', 'collapse', 'colleague', 'collect', 'collection', 'collective', 'collectively', 'college', 'collide', 'cologne', 'colon', 'colonoscopy', 'color', 'colorado', 'colorblind', 'colorism', 'colour', 'columbia', 'columbus', 'column', 'coma', 'comb', 'combat', 'combination', 'combine', 'combo', 'come', 'comeback', 'comedian', 'comedy', 'comet', 'comfort', 'comfortable', 'comic', 'coming', 'comm', 'command', 'comment', 'commentary', 'commercial', 'commit', 'commitment', 'common', 'commonly', 'communicate', 'communication', 'community', 'company', 'compare', 'compass', 'compensate', 'compete', 'competition', 'competitive', 'competitor', 'complain', 'complaint', 'complete', 'completely', 'complex', 'complicate', 'compliment', 'comprehend', 'compromise', 'computer', 'con', 'conan', 'concentrate', 'concentration', 'concept', 'concern', 'concerned', 'concert', 'conclusion', 'condescend', 'condition', 'condolence', 'condom', 'conduct', 'cone', 'confederate', 'conference', 'confession', 'confidence', 'confident', 'confirm', 'confront', 'confuse', 'confusion', 'congrats', 'congratulations', 'congress', 'congressional', 'conjoin', 'connect', 'connection', 'conquer', 'conscious', 'consent', 'consequence', 'conserve', 'consider', 'consistent', 'consists', 'console', 'conspiracy', 'constant', 'constantly', 'constellation', 'constipate', 'constipation', 'constitution', 'construction', 'consume', 'consumer', 'contact', 'contagious', 'contain', 'contains', 'content', 'contentment', 'contest', 'contestant', 'context', 'continent', 'continually', 'continue', 'continued', 'contract', 'contraction', 'contribute', 'contribution', 'control', 'controversy', 'conversation', 'conversations', 'convert', 'convey', 'convict', 'convince', 'convinces', 'convincing', 'convo', 'cook', 'cookbook', 'cooked', 'cooking', 'cooky', 'cool', 'cooler', 'cooperative', 'coordination', 'cop', 'cope', 'copied', 'copper', 'copy', 'cord', 'core', 'corn', 'corner', 'corny', 'corporate', 'corps', 'correct', 'correction', 'correctly', 'corrects', 'cos', 'cosmetic', 'cost', 'costco', 'costume', 'cotton', 'couch', 'cough', 'could', 'coumaric', 'council', 'counsel', 'counselor', 'count', 'countdown', 'counter', 'counting', 'country', 'countryside', 'couple', 'courage', 'course', 'court', 'courteous', 'cousin', 'cover', 'covid', 'cow', 'cowboy', 'cowboys', 'cowgirl', 'coworker', 'coworkers', 'crab', 'crack', 'cracker', 'craft', 'craig', 'craigslist', 'cranny', 'crap', 'crash', 'crashed', 'crave', 'crawl', 'crayon', 'crazy', 'cream', 'create', 'creates', 'creation', 'creative', 'creativity', 'creator', 'creature', 'credit', 'creep', 'creepy', 'cremate', 'cremation', 'crew', 'crime', 'criminal', 'crisis', 'crisp', 'critical', 'criticism', 'criticize', 'crocodile', 'crocs', 'cross', 'crossfit', 'crotch', 'crow', 'crowd', 'crucify', 'cruise', 'crush', 'crust', 'cry', 'crystal', 'cub', 'cube', 'cucumber', 'cuddle', 'cult', 'cultural', 'culturally', 'culture', 'cum', 'cumin', 'cunt', 'cup', 'cupid', 'curb', 'cure', 'curiosity', 'curious', 'current', 'currently', 'curry', 'curse', 'curtain', 'curve', 'custom', 'customer', 'cut', 'cute', 'cuz', 'cycle', 'cyrus', 'czech', 'da', 'dad', 'daddy', 'dagger', 'daily', 'dairy', 'dalai', 'dallas', 'damage', 'dammit', 'damn', 'damnit', 'dan', 'dance', 'dancer', 'dancing', 'dandruff', 'danger', 'dangerous', 'dangerously', 'daniel', 'danke', 'dare', 'dark', 'darkest', 'darkness', 'dart', 'darth', 'dartmouth', 'darwin', 'dash', 'dashboard', 'data', 'date', 'dates', 'dating', 'daughter', 'dav', 'dave', 'david', 'dawn', 'day', 'daytime', 'dc', 'de', 'dead', 'deadline', 'deadly', 'deaf', 'deafness', 'deal', 'dealer', 'dealership', 'dean', 'deanmon', 'dear', 'death', 'deathbed', 'debate', 'decade', 'decapitate', 'decay', 'december', 'decide', 'decision', 'declaration', 'declare', 'decline', 'decoration', 'decrease', 'dedicate', 'deed', 'deen', 'deep', 'deeper', 'deepest', 'deeply', 'deer', 'def', 'defeat', 'defend', 'defense', 'defenseless', 'defensive', 'deficiency', 'define', 'defines', 'definitely', 'definition', 'degeneration', 'degrasse', 'degree', 'dehydration', 'del', 'delaware', 'delay', 'delete', 'deliberately', 'delicious', 'delight', 'deliver', 'delivers', 'delivery', 'demand', 'demi', 'demon', 'denial', 'density', 'dental', 'dentist', 'denver', 'deny', 'deodorant', 'department', 'depend', 'dependent', 'depends', 'depot', 'depress', 'depressant', 'depressed', 'depression', 'deprivation', 'deprive', 'derby', 'desalination', 'describe', 'described', 'description', 'desert', 'deserve', 'deserves', 'design', 'designate', 'designer', 'desire', 'desk', 'desktop', 'desperate', 'despite', 'dessert', 'destroy', 'destroyed', 'destroys', 'destruct', 'destruction', 'detail', 'detect', 'detective', 'detector', 'deter', 'determine', 'detox', 'detroit', 'deux', 'develop', 'developed', 'development', 'develops', 'devil', 'dhabi', 'diabetes', 'diabetic', 'diagnose', 'diagnosis', 'dial', 'diamond', 'diana', 'diaper', 'diary', 'dick', 'dictate', 'dictionary', 'did', 'didnt', 'die', 'diet', 'difference', 'different', 'differential', 'difficult', 'dig', 'digest', 'digestion', 'digital', 'dilate', 'dildo', 'dill', 'dime', 'diminish', 'dimly', 'din', 'ding', 'dinner', 'dinosaur', 'dioxide', 'dip', 'dipped', 'direct', 'direction', 'directly', 'director', 'dirt', 'dirty', 'dis', 'disability', 'disabled', 'disagree', 'disappear', 'disappears', 'disappoint', 'disappointed', 'disappointment', 'disaster', 'discern', 'discord', 'discount', 'discourage', 'discover', 'discriminate', 'discrimination', 'discus', 'discuss', 'disease', 'disguise', 'disgust', 'dish', 'dishwasher', 'dismiss', 'disney', 'disorder', 'disorient', 'display', 'distance', 'distinct', 'distract', 'distress', 'distribute', 'district', 'disturb', 'ditch', 'diuretic', 'dive', 'diver', 'division', 'divorce', 'divorced', 'dizzy', 'dm', 'dms', 'dna', 'do', 'doc', 'dock', 'doctor', 'doctors', 'documentary', 'dodgers', 'does', 'doesnt', 'dog', 'dogs', 'doing', 'doll', 'dollar', 'dollop', 'dolphin', 'dome', 'dominant', 'don', 'donate', 'donation', 'done', 'donkey', 'donor', 'dont', 'donut', 'doo', 'doobie', 'doodle', 'doom', 'doomsday', 'door', 'doorway', 'dope', 'dora', 'dot', 'double', 'doubt', 'dough', 'down', 'download', 'downs', 'downstairs', 'dozen', 'dr', 'dracula', 'draft', 'drag', 'dragon', 'dragons', 'drain', 'drama', 'dramatic', 'drank', 'draw', 'drawer', 'drawn', 'dream', 'dreams', 'dreamt', 'dress', 'dressed', 'dressing', 'drew', 'dried', 'drill', 'drink', 'drinker', 'drinking', 'drive', 'driver', 'driveway', 'driving', 'drizzly', 'drone', 'drop', 'drought', 'drove', 'drown', 'drug', 'drum', 'drummer', 'drumstick', 'drunk', 'dry', 'dryer', 'dt', 'dubai', 'dubbed', 'dublin', 'duck', 'duct', 'dude', 'due', 'dumb', 'dumbass', 'dumped', 'dumpty', 'duncan', 'dunk', 'during', 'dust', 'duty', 'dwarf', 'dwayne', 'dy', 'dyk', 'dynamite', 'dynasty', 'dysfunction', 'dyslexia', 'dyslexic', 'each', 'eachother', 'eager', 'eagle', 'ear', 'earl', 'earlier', 'early', 'earmuff', 'earn', 'earnings', 'earth', 'earther', 'earthquake', 'ease', 'easily', 'east', 'easter', 'eastern', 'easy', 'eat', 'eating', 'eats', 'ebay', 'ebola', 'eclipse', 'economics', 'ed', 'edge', 'editor', 'educate', 'education', 'educator', 'edward', 'eeyore', 'effect', 'effective', 'effeminate', 'efficient', 'efficiently', 'effort', 'effortlessly', 'egg', 'ego', 'egyptian', 'egyptians', 'eid', 'eight', 'einstein', 'eis', 'either', 'ejaculate', 'ejaculation', 'el', 'elasticity', 'elastin', 'elbow', 'elder', 'elderly', 'eleanor', 'elect', 'election', 'electric', 'electrical', 'electrician', 'electricity', 'elena', 'elephant', 'elephants', 'elevator', 'eliminate', 'elizabeth', 'ellen', 'elmo', 'else', 'elsewhere', 'elvis', 'em', 'email', 'emancipation', 'embark', 'embarrass', 'embarrassment', 'embrace', 'emergency', 'eminem', 'emojis', 'emotion', 'emotional', 'emotionally', 'empathy', 'emperor', 'empire', 'employ', 'employed', 'employee', 'employment', 'empty', 'encounter', 'encourage', 'end', 'endangered', 'ending', 'endless', 'endorphin', 'endure', 'enemy', 'energetic', 'energy', 'engage', 'engine', 'engineer', 'england', 'english', 'englishman', 'enhance', 'enhancing', 'enjoy', 'enjoyable', 'enjoys', 'enlarge', 'enough', 'enrol', 'ensure', 'entendre', 'enter', 'enters', 'entertain', 'entire', 'entrance', 'entrepreneur', 'entry', 'envelope', 'environment', 'environmental', 'envy', 'enzyme', 'ep', 'epileptic', 'episode', 'equal', 'equality', 'equally', 'equip', 'equipment', 'equity', 'equivalent', 'er', 'era', 'erase', 'erectile', 'erection', 'error', 'escape', 'escher', 'especially', 'essay', 'essential', 'establish', 'estate', 'esteem', 'estimate', 'estrogen', 'etc', 'ethiopian', 'ethnic', 'europe', 'european', 'evacuate', 'evans', 'eve', 'even', 'event', 'eventually', 'ever', 'every', 'everybody', 'everyday', 'everyone', 'everything', 'everytime', 'everywhere', 'evidence', 'evil', 'evolution', 'evolve', 'ew', 'ex', 'exact', 'exactly', 'exam', 'examination', 'examine', 'example', 'excellence', 'excellent', 'except', 'excess', 'excessive', 'exchange', 'excite', 'excuse', 'exec', 'execution', 'executive', 'exercise', 'exhaust', 'exhaustion', 'exist', 'existence', 'exists', 'exit', 'exorcise', 'exorcist', 'expand', 'expect', 'expectation', 'expensive', 'experience', 'experienced', 'experiment', 'experimental', 'expert', 'explain', 'explode', 'exploder', 'exploit', 'explore', 'explosion', 'expose', 'exposure', 'express', 'expression', 'exterior', 'extinct', 'extra', 'extract', 'extraordinary', 'extreme', 'extremely', 'extremist', 'extrovert', 'ey', 'eye', 'eyeball', 'eyebrow', 'eyed', 'eyelash', 'eyes', 'eyesight', 'fabric', 'face', 'facebook', 'facet', 'facial', 'facility', 'fact', 'factor', 'factory', 'faggot', 'fail', 'failure', 'fair', 'fairly', 'fairy', 'fairytale', 'faith', 'fake', 'falafel', 'falcon', 'fall', 'false', 'falsely', 'fami', 'familiar', 'family', 'famous', 'fan', 'fancy', 'fanny', 'fantastic', 'fantasy', 'far', 'farm', 'farmer', 'fart', 'farting', 'fascist', 'fashion', 'fashionable', 'fast', 'faster', 'fat', 'fate', 'father', 'fatigue', 'fatter', 'fatty', 'fault', 'faux', 'faves', 'favor', 'favorite', 'favourite', 'fb', 'fear', 'fearless', 'feast', 'feather', 'feature', 'february', 'fed', 'federal', 'fee', 'feed', 'feel', 'feelin', 'feeling', 'fell', 'fellas', 'fellow', 'felt', 'female', 'feminism', 'feminist', 'feminists', 'fence', 'ferrari', 'festival', 'fetish', 'fever', 'few', 'ff', 'fi', 'fiber', 'fibre', 'fiction', 'field', 'fifteen', 'fifth', 'fight', 'fighter', 'figure', 'file', 'fill', 'film', 'filter', 'fin', 'final', 'finale', 'finally', 'finance', 'financial', 'find', 'finding', 'fine', 'finer', 'finger', 'fingerprint', 'finish', 'fire', 'firefighter', 'fireproof', 'firewood', 'firework', 'first', 'fiscal', 'fish', 'fisherman', 'fishing', 'fist', 'fistfight', 'fit', 'fitness', 'five', 'fix', 'flag', 'flamingo', 'flash', 'flashlight', 'flask', 'flat', 'flatter', 'flatulence', 'flavonoid', 'flavor', 'flavour', 'flea', 'flew', 'flick', 'flight', 'flint', 'flip', 'flirt', 'float', 'flood', 'floor', 'flop', 'florida', 'floss', 'flour', 'flow', 'flower', 'flu', 'fluid', 'flush', 'fly', 'foam', 'focus', 'folate', 'folk', 'folks', 'follow', 'follower', 'folx', 'foo', 'food', 'fool', 'foot', 'footage', 'football', 'footprint', 'footstep', 'for', 'forbidden', 'force', 'ford', 'forehead', 'foreign', 'forest', 'forever', 'forge', 'forget', 'forgets', 'forgive', 'forgiveness', 'forgot', 'forgotten', 'fork', 'form', 'formal', 'formally', 'former', 'formula', 'forrest', 'fort', 'fortnite', 'fortunate', 'fortune', 'forty', 'forum', 'forward', 'foster', 'fought', 'foul', 'found', 'founder', 'four', 'fox', 'fraction', 'frame', 'france', 'frank', 'frankenstein', 'franklin', 'frankly', 'fraternity', 'fraud', 'freak', 'freakin', 'fred', 'freddie', 'free', 'freedom', 'freeman', 'freeway', 'freeze', 'freezer', 'french', 'frenchman', 'frequently', 'fresh', 'freshwater', 'fricken', 'friday', 'fridge', 'friend', 'friendly', 'friends', 'friendship', 'frighten', 'frisbee', 'from', 'front', 'frown', 'frozen', 'fruit', 'fruits', 'frumpy', 'frustrate', 'frustration', 'fry', 'ft', 'fu', 'fuck', 'fucker', 'fuckin', 'fucking', 'fuel', 'fulfillment', 'full', 'fully', 'fun', 'function', 'fund', 'fundamental', 'funeral', 'fungi', 'funniest', 'funny', 'fur', 'furious', 'furniture', 'furry', 'futurama', 'future', 'ga', 'gag', 'gaga', 'gain', 'gala', 'galaxy', 'gallon', 'gambler', 'game', 'gamer', 'games', 'gang', 'gap', 'garage', 'garbage', 'garbanzo', 'garden', 'garlic', 'gary', 'gas', 'gasp', 'gather', 'gay', 'gaze', 'gear', 'geez', 'geico', 'gel', 'gemstones', 'gen', 'gender', 'gene', 'general', 'generalize', 'generally', 'generation', 'generational', 'genetic', 'genetically', 'genie', 'genitals', 'genius', 'gent', 'gentle', 'gentleman', 'gently', 'genuinely', 'genx', 'george', 'georgia', 'german', 'germans', 'germany', 'get', 'getaway', 'gets', 'gettin', 'getting', 'gf', 'ghost', 'giant', 'gif', 'gift', 'gig', 'giggle', 'ginger', 'gingerbread', 'giraffe', 'girl', 'girlfriend', 'girls', 'give', 'giveaway', 'given', 'giving', 'glad', 'glance', 'gland', 'glare', 'glass', 'glasses', 'glitter', 'global', 'globe', 'glorious', 'glove', 'glow', 'glucose', 'glue', 'gluten', 'gnc', 'go', 'goal', 'goat', 'god', 'gods', 'gofundme', 'gogh', 'going', 'gold', 'golden', 'goldfish', 'golf', 'golfer', 'gon', 'good', 'goodbye', 'goodnight', 'goofy', 'google', 'goose', 'gorgeous', 'gorilla', 'gorillas', 'gossip', 'got', 'gotten', 'government', 'governmental', 'grab', 'grace', 'gracias', 'grade', 'graduate', 'graft', 'gram', 'grammar', 'grand', 'grande', 'grandfather', 'grandma', 'grandmother', 'grandpa', 'grandparent', 'grandson', 'granny', 'grant', 'grape', 'grapes', 'graph', 'grass', 'grateful', 'grater', 'gratitude', 'gratuity', 'grave', 'gravity', 'gravy', 'gray', 'grease', 'great', 'greece', 'greek', 'greeks', 'green', 'greenleaf', 'greet', 'greetings', 'greg', 'grenade', 'grey', 'grief', 'grieve', 'grill', 'grills', 'grip', 'grizzly', 'grocery', 'groom', 'gross', 'ground', 'group', 'grow', 'growing', 'grown', 'grows', 'growth', 'grudge', 'guarantee', 'guaranteed', 'guard', 'guess', 'guest', 'guide', 'guillotine', 'guilt', 'guilty', 'guinness', 'guitar', 'gummy', 'gump', 'gun', 'guns', 'gut', 'guy', 'guys', 'gym', 'gynecologist', 'ha', 'habibi', 'habit', 'hack', 'had', 'haha', 'hahaha', 'hahahaha', 'haig', 'hair', 'haircut', 'hairy', 'haiti', 'hakuna', 'half', 'halfway', 'hall', 'halley', 'halloween', 'hallucination', 'ham', 'hamburger', 'hammer', 'han', 'hand', 'handed', 'handedly', 'handful', 'handicapped', 'handle', 'hands', 'handsome', 'hang', 'hanks', 'hans', 'hanx', 'happen', 'happens', 'happier', 'happiest', 'happily', 'happiness', 'happy', 'hara', 'hard', 'harder', 'hardest', 'hardly', 'hardwood', 'harm', 'harmful', 'harmonica', 'harrison', 'harrow', 'harry', 'harsh', 'harvard', 'harvey', 'hashanah', 'hashtag', 'hat', 'hatch', 'hate', 'hater', 'haters', 'hath', 'hatred', 'haunt', 'have', 'having', 'hawaii', 'hawking', 'hay', 'hazel', 'hbcu', 'he', 'head', 'headache', 'headline', 'headquarters', 'heal', 'heals', 'health', 'healthcare', 'healthier', 'healthiest', 'healthy', 'hear', 'heard', 'hearing', 'hears', 'heart', 'heartache', 'heartbeat', 'heartbreaking', 'heartburn', 'heat', 'heating', 'heaven', 'heavier', 'heavily', 'heavy', 'heck', 'heee', 'heel', 'hegazi', 'heinz', 'held', 'helen', 'helium', 'hell', 'hello', 'helmet', 'help', 'helpful', 'hen', 'henry', 'hepatitis', 'her', 'herb', 'here', 'hereby', 'herman', 'hero', 'heroes', 'heroic', 'heroin', 'heroine', 'hesitate', 'hey', 'hi', 'hiatus', 'hibernation', 'hid', 'hidden', 'hide', 'hiding', 'high', 'highest', 'highly', 'highway', 'hijack', 'hilarious', 'hill', 'hillenburg', 'him', 'hint', 'hip', 'hippo', 'hipster', 'hire', 'hiroshima', 'his', 'hispanic', 'hiss', 'historic', 'historical', 'historically', 'history', 'hit', 'hitchhike', 'hitler', 'hiv', 'hive', 'hmm', 'ho', 'hobbit', 'hobby', 'hockey', 'hoedown', 'hold', 'hole', 'holes', 'holiday', 'hollywood', 'holmes', 'holocaust', 'holy', 'home', 'homeless', 'homemade', 'homework', 'homo', 'homophobia', 'homophobic', 'homosexual', 'homosexuality', 'honda', 'honest', 'honestly', 'honesty', 'honey', 'honeybee', 'honeymoon', 'hong', 'honk', 'honor', 'honorable', 'honour', 'hood', 'hook', 'hooked', 'hooker', 'hookup', 'hoot', 'hop', 'hope', 'hopeful', 'hopefully', 'hoppy', 'horizons', 'hormone', 'horn', 'horny', 'horoscope', 'horrible', 'horrific', 'horror', 'horse', 'horses', 'hose', 'hospital', 'host', 'hostage', 'hot', 'hotel', 'hotter', 'hottest', 'hour', 'hours', 'house', 'household', 'houston', 'how', 'however', 'hr', 'http', 'hubble', 'hug', 'huge', 'hugh', 'human', 'humanity', 'humans', 'humble', 'humidity', 'humility', 'hummus', 'humor', 'humour', 'humpty', 'hunch', 'hunchback', 'hundred', 'hung', 'hunger', 'hungry', 'hunt', 'hunter', 'hurricane', 'hurt', 'hurtful', 'husband', 'hydrate', 'hydration', 'hydrogen', 'hymn', 'hyper', 'hypertension', 'hypocrisy', 'hypocrite', 'hypocritical', 'ian', 'iatric', 'ibn', 'ice', 'iceberg', 'iced', 'iceland', 'icon', 'iconic', 'icu', 'icy', 'idea', 'ideal', 'identify', 'identity', 'idiot', 'idk', 'idle', 'idol', 'if', 'ig', 'ignorant', 'ignore', 'ignores', 'ii', 'ill', 'illegal', 'illness', 'illusion', 'im', 'image', 'imaginary', 'imagination', 'imagine', 'imitate', 'imma', 'immature', 'immediately', 'immigrant', 'imminent', 'immune', 'immunity', 'impact', 'impediment', 'imperfect', 'impersonate', 'implement', 'important', 'impossible', 'imposter', 'impress', 'impressed', 'impression', 'impressive', 'imprison', 'improve', 'improvement', 'improves', 'impulse', 'in', 'inability', 'inanimate', 'inappropriate', 'inbred', 'inc', 'incarcerate', 'incarceration', 'inch', 'include', 'income', 'incompetent', 'increase', 'incredible', 'incredibly', 'indeed', 'independence', 'independent', 'india', 'indian', 'indiana', 'indians', 'indication', 'indicator', 'indigenous', 'individual', 'induce', 'industry', 'inevitable', 'infamous', 'infant', 'infect', 'infection', 'inferiority', 'inflammatory', 'inflatable', 'inflation', 'influence', 'info', 'infomercial', 'inform', 'information', 'informed', 'inhaler', 'initial', 'initially', 'inject', 'injured', 'injury', 'injustice', 'inmate', 'inner', 'inning', 'innocent', 'innovation', 'insanely', 'insanity', 'insect', 'insecure', 'insecurity', 'inside', 'insight', 'insist', 'insomnia', 'inspiration', 'inspirational', 'inspire', 'insta', 'instagram', 'instal', 'instant', 'instantly', 'instead', 'instinct', 'institution', 'instruction', 'instructor', 'instrument', 'insult', 'insurance', 'intake', 'integrity', 'intelligence', 'intend', 'intense', 'intent', 'intention', 'intentional', 'intentionally', 'inter', 'interaction', 'intercom', 'interest', 'interested', 'interesting', 'internal', 'international', 'internet', 'interpreter', 'interracial', 'interrupt', 'intersection', 'intervention', 'interview', 'interviewer', 'intestinal', 'intestine', 'intimacy', 'intimate', 'intolerant', 'introduce', 'introduces', 'introvert', 'invent', 'invention', 'inventor', 'invents', 'invest', 'investment', 'invisible', 'invitation', 'invite', 'involuntarily', 'involuntary', 'involve', 'involves', 'iphone', 'iq', 'iqs', 'iran', 'iraq', 'ireland', 'irish', 'irishman', 'iron', 'ironic', 'irony', 'irrational', 'irresistible', 'irritated', 'irwin', 'is', 'isaac', 'ish', 'isis', 'islam', 'islamic', 'island', 'islands', 'isolation', 'israel', 'israeli', 'issue', 'issues', 'it', 'italian', 'italians', 'italy', 'itchy', 'item', 'its', 'iy', 'jack', 'jacket', 'jackie', 'jackson', 'jacuzzi', 'jail', 'jake', 'jalapeno', 'jamal', 'james', 'janitor', 'january', 'japan', 'japanese', 'jar', 'jason', 'jaws', 'jazz', 'jealous', 'jealousy', 'jean', 'jeff', 'jefferson', 'jehova', 'jehovah', 'jelly', 'jellyfish', 'jenner', 'jerk', 'jerry', 'jersey', 'jerusalem', 'jesse', 'jessie', 'jesus', 'jet', 'jew', 'jewish', 'jews', 'jfk', 'jim', 'jimmy', 'jnf', 'jnfnc', 'joaquin', 'job', 'jobless', 'jobs', 'joe', 'jog', 'jogging', 'john', 'johnny', 'johns', 'johnson', 'join', 'joint', 'joke', 'jokes', 'jon', 'jones', 'joneses', 'jong', 'jordan', 'joseph', 'josephus', 'josé', 'jourie', 'journal', 'journalist', 'journey', 'joy', 'joyful', 'jr', 'juan', 'juda', 'judge', 'jug', 'juggling', 'juice', 'july', 'jump', 'jumped', 'jumping', 'june', 'junior', 'junk', 'junky', 'jury', 'just', 'justice', 'justin', 'juvenile', 'kanye', 'karaoke', 'karate', 'karen', 'karma', 'katy', 'kayak', 'keanu', 'keep', 'keeper', 'keller', 'kellogg', 'kelly', 'kelp', 'ken', 'kennedy', 'kenny', 'kept', 'ketchup', 'kevin', 'key', 'keyboard', 'kfc', 'kick', 'kid', 'kidnap', 'kidney', 'kids', 'kill', 'killer', 'kim', 'kin', 'kind', 'kinda', 'kinder', 'kindergarten', 'kindness', 'king', 'kinky', 'kiss', 'kissed', 'kit', 'kitchen', 'kitten', 'kittens', 'kitty', 'kiwi', 'kkk', 'klan', 'klondike', 'knee', 'knew', 'knife', 'knight', 'knob', 'knock', 'know', 'knowing', 'knowledge', 'knuckle', 'kobe', 'kohls', 'kong', 'kool', 'korea', 'kraut', 'ku', 'kung', 'kwanzaa', 'kyle', 'la', 'lab', 'label', 'labor', 'labour', 'labracadabrador', 'labrador', 'lack', 'ladder', 'ladies', 'lady', 'laid', 'lake', 'lakers', 'lama', 'lamar', 'lamborghini', 'lame', 'lana', 'lance', 'land', 'landlord', 'landslide', 'lane', 'language', 'lap', 'laptop', 'large', 'lasagna', 'laser', 'last', 'late', 'lately', 'later', 'latest', 'latin', 'laugh', 'laughing', 'laughter', 'launch', 'laundry', 'laura', 'laurel', 'law', 'lawn', 'lawnmower', 'lawrence', 'lawsuit', 'lawyer', 'laxative', 'lay', 'layer', 'laziness', 'lazy', 'lb', 'lead', 'leader', 'leadership', 'leaf', 'league', 'leak', 'learn', 'learning', 'learns', 'lease', 'least', 'leather', 'leave', 'lee', 'left', 'leftover', 'leg', 'legal', 'legalize', 'legally', 'legend', 'legged', 'legit', 'legitimate', 'lego', 'lemon', 'length', 'lens', 'leopard', 'leper', 'lesbian', 'less', 'lesson', 'let', 'letter', 'lettuce', 'level', 'lewis', 'lexus', 'lgbt', 'lgbtq', 'liar', 'librarian', 'library', 'libs', 'license', 'lick', 'lid', 'lie', 'life', 'lifehack', 'lifespan', 'lifestyle', 'lifetime', 'lift', 'light', 'lightbulb', 'lighten', 'lighter', 'lightning', 'like', 'likely', 'lil', 'lilo', 'limit', 'lincoln', 'linda', 'line', 'link', 'lint', 'lion', 'lip', 'lipstick', 'liquid', 'liquor', 'lisa', 'list', 'listen', 'listener', 'listening', 'lit', 'literally', 'literature', 'litter', 'little', 'live', 'liver', 'lives', 'livestock', 'living', 'll', 'lloyd', 'load', 'loaf', 'loan', 'lobster', 'local', 'locate', 'location', 'lock', 'lockdown', 'locksmith', 'loco', 'locomotive', 'locust', 'lodge', 'log', 'logic', 'lol', 'london', 'lonelier', 'loneliness', 'lonely', 'long', 'longer', 'look', 'looking', 'looks', 'loosen', 'lord', 'los', 'lose', 'loser', 'loses', 'losing', 'loss', 'lost', 'lot', 'lotion', 'lottery', 'loud', 'louder', 'loudly', 'louis', 'louisiana', 'lov', 'lovato', 'love', 'loved', 'lovely', 'lover', 'lovin', 'loving', 'low', 'lower', 'loyal', 'lucas', 'lucille', 'luck', 'luckily', 'lucky', 'luggage', 'luke', 'lumberjack', 'lump', 'lunch', 'lung', 'lust', 'lutein', 'luther', 'luxury', 'lycopene', 'lying', 'lyric', 'ma', 'mac', 'macaroni', 'machine', 'macklemore', 'macular', 'mad', 'madam', 'madison', 'madly', 'mafia', 'mag', 'magazine', 'maggot', 'magic', 'magical', 'magician', 'magnesium', 'mai', 'mail', 'main', 'mainly', 'maintain', 'maintenance', 'major', 'majority', 'make', 'maker', 'makeup', 'making', 'male', 'mall', 'mama', 'mammal', 'man', 'manage', 'manager', 'manchester', 'mandalorian', 'manganese', 'mango', 'mankind', 'manly', 'manner', 'mantra', 'many', 'map', 'maple', 'mar', 'marathon', 'marble', 'march', 'margaret', 'marginalize', 'marie', 'marijuana', 'marine', 'mario', 'mark', 'market', 'marketing', 'maroon', 'marriage', 'married', 'marry', 'marrying', 'mars', 'mart', 'martha', 'martin', 'marvel', 'mary', 'masc', 'masculine', 'masculinity', 'mash', 'mask', 'mass', 'massacre', 'massage', 'masseuse', 'massive', 'master', 'masturbate', 'masturbation', 'mat', 'matata', 'match', 'mate', 'material', 'matey', 'math', 'mathematical', 'mathematician', 'matt', 'mattel', 'matter', 'matthew', 'mattress', 'mature', 'maturity', 'max', 'maximum', 'may', 'maya', 'maybe', 'mayonnaise', 'mc', 'mccartney', 'mcdonald', 'mcdonalds', 'mchat', 'md', 'me', 'meal', 'mean', 'meaning', 'meaningful', 'meaningless', 'meant', 'measure', 'meat', 'mechanic', 'med', 'medal', 'medical', 'medication', 'medicine', 'medieval', 'meditation', 'medium', 'meet', 'meeting', 'meg', 'mega', 'meh', 'melon', 'melt', 'melville', 'member', 'membership', 'membrane', 'meme', 'memoir', 'memorial', 'memory', 'memphis', 'men', 'mendes', 'menopause', 'mental', 'mentally', 'menthol', 'mention', 'mentor', 'menu', 'mercedes', 'mercury', 'merely', 'mermaid', 'merrily', 'merry', 'mess', 'message', 'messy', 'met', 'metabolism', 'metal', 'meter', 'meth', 'method', 'metro', 'mexican', 'mexicans', 'mexico', 'mg', 'mh', 'mhm2012', 'mia', 'mic', 'michael', 'michaela', 'michelle', 'michigan', 'mick', 'mickey', 'microphone', 'microwave', 'mid', 'middle', 'midget', 'midnight', 'midst', 'midwife', 'might', 'migraine', 'mike', 'mild', 'mile', 'milestone', 'miley', 'military', 'milk', 'millennial', 'millennials', 'million', 'millionaire', 'mime', 'mimic', 'min', 'mind', 'minded', 'mindfulness', 'minds', 'mindset', 'mine', 'miner', 'mineral', 'mini', 'minimalist', 'minimize', 'minimum', 'minister', 'minnesota', 'minor', 'minority', 'mint', 'minute', 'miracle', 'mirror', 'miserable', 'misfit', 'misplace', 'miss', 'missing', 'mission', 'missionary', 'mistake', 'mistaken', 'mistakes', 'mister', 'misunderstood', 'mitt', 'mitten', 'mitzvah', 'mix', 'mixed', 'mmh', 'mo', 'moan', 'moana', 'mob', 'mobile', 'moby', 'mock', 'mocked', 'mockingbird', 'model', 'modern', 'mogadishu', 'mohammed', 'mole', 'mom', 'moma', 'moment', 'momma', 'mommy', 'mon', 'monday', 'money', 'monkey', 'monogamy', 'monopoly', 'monoxide', 'monster', 'month', 'months', 'mood', 'moon', 'moore', 'moral', 'more', 'morgan', 'mormon', 'mormons', 'morning', 'moron', 'morse', 'mortal', 'mortgage', 'moshe', 'mosque', 'mosquito', 'most', 'mostly', 'moth', 'mother', 'motivate', 'motivation', 'motorcycle', 'motorway', 'motto', 'mount', 'mountain', 'mourning', 'mouse', 'mouth', 'move', 'movement', 'movie', 'mow', 'mph', 'mr', 'mrs', 'ms', 'mubarak', 'much', 'mug', 'mugger', 'mugshot', 'mulan', 'multi', 'multiple', 'mum', 'mumbai', 'mummy', 'murder', 'murderer', 'muscle', 'muscular', 'museum', 'mushroom', 'music', 'musical', 'musician', 'muslim', 'muslims', 'must', 'mustache', 'mutant', 'mute', 'my', 'myers', 'mysteries', 'mysterious', 'mystery', 'myth', 'mythology', 'na', 'naan', 'naesm2016', 'nah', 'nail', 'naked', 'name', 'nana', 'nap', 'napoleon', 'narnia', 'narrative', 'naruto', 'nasa', 'nasty', 'nathan', 'nation', 'national', 'nationality', 'native', 'natural', 'naturally', 'nature', 'nausea', 'navigate', 'navy', 'nazi', 'nazis', 'nbhcsm', 'near', 'nearby', 'nearly', 'necessarily', 'necessary', 'neck', 'nectar', 'need', 'needle', 'needy', 'negative', 'negatively', 'neglect', 'negotiator', 'neighbor', 'neighborhood', 'neighbour', 'neighbourhood', 'neil', 'neither', 'nelson', 'nemo', 'nephew', 'nerd', 'nerve', 'nervous', 'nervously', 'nest', 'net', 'netflix', 'network', 'neuroscientist', 'never', 'nevermind', 'new', 'newborn', 'newman', 'news', 'newspaper', 'newt', 'newton', 'next', 'nguyen', 'niacin', 'nice', 'nicer', 'nicholas', 'nickel', 'nickelback', 'nickelodeon', 'nickname', 'nigeria', 'nigga', 'nigger', 'night', 'nightmare', 'nights', 'nightstand', 'nina', 'nine', 'ninja', 'nintendo', 'nitrogen', 'nj', 'no', 'noa', 'nobel', 'nobody', 'nod', 'noise', 'noisy', 'nom', 'nominate', 'non', 'none', 'nonprofit', 'nonsense', 'noodle', 'nope', 'normal', 'normally', 'north', 'norway', 'norwegian', 'nose', 'not', 'note', 'notebook', 'notes', 'nothing', 'notice', 'nougat', 'noun', 'novel', 'november', 'now', 'nowadays', 'nowhere', 'nra', 'nuclear', 'nude', 'nudist', 'nudity', 'numb', 'number', 'numerous', 'nun', 'nurse', 'nut', 'nutrient', 'nutrition', 'nutritional', 'nuts', 'nyc', 'oat', 'ob', 'obama', 'obese', 'object', 'obscure', 'obsess', 'obsession', 'obvious', 'obviously', 'occasion', 'occasionally', 'occur', 'occurs', 'ocd', 'ocean', 'oct', 'october', 'octopus', 'odd', 'odds', 'odor', 'of', 'off', 'offend', 'offender', 'offends', 'offense', 'offensive', 'offer', 'offering', 'office', 'officer', 'official', 'officially', 'offspring', 'often', 'oh', 'ohana', 'ohio', 'oil', 'ok', 'okay', 'okra', 'old', 'olive', 'olympic', 'olympics', 'omega', 'omg', 'on', 'once', 'one', 'onion', 'online', 'only', 'onto', 'ooga', 'oooh', 'open', 'opener', 'opening', 'opera', 'operation', 'operator', 'opinion', 'opponent', 'opportunity', 'oppose', 'opposite', 'optimist', 'optimistic', 'optimus', 'option', 'optional', 'or', 'oral', 'orange', 'order', 'ordinary', 'org', 'organ', 'organization', 'organize', 'organizer', 'orgasm', 'origami', 'original', 'originally', 'originates', 'orlando', 'orphan', 'oscar', 'osteoporosis', 'other', 'others', 'otherwise', 'ouija', 'ounce', 'our', 'ourselves', 'ourselvesblack', 'out', 'outfit', 'outfitters', 'outrageous', 'outside', 'outstanding', 'outta', 'oven', 'over', 'overall', 'overcome', 'overestimate', 'overlook', 'overly', 'overnight', 'overthink', 'overweight', 'overwhelm', 'overwhelmed', 'overwhelmingly', 'owe', 'owl', 'own', 'owned', 'owner', 'oxygen', 'oyedepo', 'oz', 'pace', 'pacific', 'pack', 'package', 'packed', 'packet', 'paddy', 'page', 'pageant', 'paid', 'pain', 'painful', 'paint', 'painting', 'pair', 'pakistan', 'pakistani', 'pal', 'palm', 'pan', 'pancake', 'panda', 'pandas', 'panic', 'pant', 'panther', 'pants', 'paper', 'paprika', 'parachute', 'parade', 'paradise', 'paragraph', 'paralympics', 'paralysis', 'paralyze', 'paramedic', 'paramore', 'paranoia', 'pardon', 'parent', 'parents', 'paris', 'park', 'parking', 'parkinson', 'parrot', 'parsley', 'part', 'partially', 'participate', 'participation', 'particular', 'particularly', 'partner', 'party', 'pas', 'pass', 'passenger', 'passing', 'passionate', 'passive', 'passport', 'password', 'past', 'pasta', 'paste', 'pastor', 'pat', 'path', 'pathetic', 'patience', 'patient', 'patrick', 'patriotic', 'patrol', 'patron', 'pattern', 'paul', 'pause', 'pave', 'pavement', 'paw', 'pay', 'paycheck', 'payment', 'pbs', 'pea', 'peace', 'peaceful', 'peacefully', 'peach', 'peanut', 'peanuts', 'pearl', 'pebble', 'pediatrician', 'pedophile', 'pee', 'peed', 'peel', 'pelt', 'pen', 'pencil', 'penguin', 'penis', 'penny', 'people', 'pepper', 'pepsi', 'pepsico', 'per', 'perceive', 'percent', 'percentage', 'perception', 'perfect', 'perfectionist', 'perfectly', 'perform', 'performance', 'performer', 'perhaps', 'period', 'perishable', 'permanent', 'permission', 'permit', 'pero', 'perri', 'perry', 'person', 'personal', 'personality', 'personally', 'perspective', 'pessimist', 'pessimistic', 'pet', 'peter', 'petite', 'petras', 'ph', 'pharaoh', 'pharmacy', 'phase', 'phd', 'phenomenal', 'phenomenon', 'phil', 'philosophy', 'pho', 'phobia', 'phoebe', 'phoenix', 'phone', 'phosphorous', 'photo', 'photographer', 'photon', 'phrase', 'phylicia', 'physic', 'physical', 'physically', 'physician', 'physicist', 'piano', 'pic', 'pick', 'picked', 'pickle', 'pickup', 'picture', 'pie', 'piece', 'pierce', 'pig', 'pigeon', 'piglet', 'pigmentation', 'pile', 'pill', 'pillow', 'pilot', 'pin', 'pinch', 'pine', 'pineapple', 'ping', 'pink', 'pint', 'pipe', 'pirate', 'piss', 'pit', 'pita', 'pitch', 'pitching', 'pitt', 'pizza', 'place', 'plan', 'planck', 'plane', 'planet', 'planning', 'plans', 'plant', 'plantic', 'plants', 'plaque', 'plasma', 'plasse', 'plaster', 'plastic', 'plate', 'plateauing', 'platform', 'platinum', 'plato', 'platypus', 'play', 'played', 'player', 'playful', 'playground', 'playing', 'playlist', 'playstation', 'pleasant', 'please', 'pleased', 'pleaser', 'pleasure', 'plebeians', 'pledge', 'plenaries', 'plenty', 'plethora', 'plight', 'plot', 'plow', 'ploy', 'pls', 'pluck', 'plum', 'plumber', 'plumbing', 'plump', 'plunder', 'plunge', 'plunger', 'pluralism', 'plus', 'plz', 'pm', 'pms', 'poach', 'poacher', 'pocahontas', 'pochito', 'pocket', 'pod', 'podcast', 'podcasting', 'podcasts', 'poe', 'poehler', 'poem', 'poet', 'poetic', 'poetry', 'point', 'pointer', 'pointy', 'poison', 'poisonous', 'poke', 'pokemon', 'pokemongo', 'poker', 'poland', 'polar', 'polaroid', 'pole', 'police', 'policeman', 'policewoman', 'policey', 'policy', 'polio', 'polish', 'polite', 'politely', 'politeness', 'politic', 'political', 'politically', 'politician', 'politicks', 'politics', 'poll', 'pollen', 'polling', 'pollo', 'pollution', 'polo', 'poly', 'polyamory', 'polygamy', 'polygender', 'polyphenols', 'pomegranate', 'pompeo', 'poncho', 'pond', 'pong', 'pontiac', 'pony', 'poo', 'poof', 'poofreader', 'pooh', 'pool', 'poop', 'pooped', 'pooper', 'pooping', 'poor', 'poorly', 'pop', 'popcorn', 'pope', 'popeye', 'poppadom', 'popped', 'poppin', 'popsicle', 'popular', 'popularity', 'popularize', 'populate', 'population', 'porcelain', 'porch', 'porcupine', 'pore', 'pork', 'porn', 'pornhub', 'porno', 'pornography', 'pornstar', 'port', 'portable', 'portion', 'portsmouth', 'pose', 'poser', 'position', 'positive', 'positively', 'posse', 'possession', 'possibility', 'possible', 'possibly', 'possum', 'post', 'poster', 'posterior', 'postings', 'postman', 'postmen', 'postmenopausal', 'postpartum', 'posture', 'pot', 'potassium', 'potato', 'potatoes', 'potential', 'potter', 'pottery', 'potty', 'pouch', 'poultry', 'pound', 'poundmetoo', 'pounds', 'pour', 'pours', 'poverty', 'powder', 'power', 'powered', 'powerful', 'powerhouse', 'powerless', 'powerpuff', 'powers', 'pox', 'ppl', 'ppls', 'practically', 'practice', 'practitioner', 'practor', 'prairie', 'praise', 'prank', 'prawn', 'prawns', 'pray', 'pray2win', 'prayer', 'prayers', 'prayin', 'praying', 'pre', 'preach', 'precept', 'precious', 'precipitation', 'precision', 'precondition', 'precubescent', 'predator', 'predict', 'predictability', 'predictor', 'predominant', 'predominantly', 'preese', 'preface', 'prefer', 'preference', 'prefers', 'prefix', 'preform', 'prefrontal', 'pregnancy', 'pregnant', 'prejudice', 'premarital', 'premature', 'prematurely', 'prematurity', 'premier', 'premiere', 'premium', 'prenatal', 'prep', 'preparation', 'prepare', 'prepared', 'prequel', 'prescribed', 'prescribes', 'prescription', 'presence', 'present', 'presentation', 'presenting', 'preservation', 'preserve', 'preserver', 'presidency', 'president', 'presidential', 'presidents', 'presley', 'press', 'pressors', 'pressure', 'presume', 'presumptuous', 'pretend', 'pretending', 'pretentious', 'pretlow', 'pretreatment', 'prettiest', 'pretty', 'pretzel', 'prevent', 'prevention', 'prevents', 'previous', 'previously', 'prey', 'price', 'priceless', 'pricing', 'pride', 'prideand', 'priest', 'prieto', 'primal', 'primarily', 'primary', 'primate', 'prime', 'primer', 'prince', 'princess', 'principal', 'principle', 'pringles', 'print', 'printer', 'printing', 'prior', 'prioritize', 'prioritizes', 'priority', 'prism', 'prismatic', 'prison', 'prisoner', 'prisons', 'prius', 'privacy', 'private', 'privately', 'privilege', 'prize', 'pro', 'proactively', 'probably', 'problem', 'problems', 'probonoasl', 'procedure', 'proceed', 'proceedings', 'proceeds', 'process', 'processing', 'procession', 'procollagen', 'procrastinate', 'procrastination', 'proctologist', 'produce', 'producer', 'product', 'production', 'productive', 'prof', 'profanity', 'profession', 'professional', 'professor', 'profile', 'profit', 'profitable', 'profound', 'program', 'progress', 'progressive', 'prohibit', 'prohibition', 'project', 'prolong', 'prolongs', 'prom', 'promiscuous', 'promise', 'promises', 'promo', 'promote', 'promotes', 'promoting', 'promotion', 'prompt', 'promptly', 'pronoun', 'pronounce', 'proof', 'prop', 'proper', 'properly', 'property', 'prophecy', 'prophet', 'prophets', 'proportion', 'proposal', 'propose', 'prospector', 'prosper', 'prosperity', 'prostate', 'prosthetic', 'prosthetics', 'prostitue', 'prostitute', 'prostitution', 'protect', 'protection', 'protective', 'protects', 'protein', 'proteolytic', 'protest', 'protestants', 'protester', 'protestors', 'protip', 'protocol', 'proud', 'proudly', 'prove', 'proven', 'proverbs', 'provide', 'providence', 'provider', 'providers', 'provoke', 'prowl', 'prozac', 'prunes', 'ps', 'ps3', 'ps4', 'psa', 'psalm', 'psalms', 'psilocybin', 'pst', 'psychiatrist', 'psychiatrists', 'psychic', 'psycho', 'psychoactive', 'psychological', 'psychologically', 'psychologist', 'psychology', 'pterodactyl', 'pub', 'puberty', 'pubes', 'public', 'publication', 'publicist', 'publicly', 'publish', 'publisher', 'puddle', 'puffed', 'puffiness', 'pugnaciously', 'puke', 'puked', 'pull', 'pulled', 'pulley', 'pullin', 'pulling', 'pulp', 'puma', 'pump', 'pumpkin', 'pun', 'punch', 'punchline', 'punctuation', 'punish', 'punishes', 'punishment', 'punk', 'puns', 'pupil', 'puppet', 'puppy', 'purchase', 'pure', 'purnell', 'purple', 'purpose', 'purposely', 'purrrgatory', 'purse', 'pursue', 'pursuit', 'purty', 'push', 'puss', 'pussay', 'pussy', 'put', 'putin', 'putting', 'puzzle', 'pyfagoras', 'pygmy', 'pyramid', 'pyromaniac', 'q1', 'q10', 'q2', 'q3', 'q4', 'q5', 'q6', 'qaaeda', 'qaeda', 'qna', 'qsdnz6tl', 'qsncnmqs', 'quack', 'quacks', 'quadruple', 'quaid', 'quail', 'qualify', 'quality', 'quantify', 'quantum', 'quarantine', 'quarrel', 'quarter', 'quarterback', 'quartet', 'que', 'queda', 'queen', 'queens', 'queer', 'queerness', 'query', 'queso', 'quest', 'question', 'quiche', 'quick', 'quicker', 'quickly', 'quiet', 'quieter', 'quietest', 'quietly', 'quilted', 'quilty', 'quinoa', 'quit', 'quite', 'quits', 'quitting', 'quote', 'quotes', 'quran', 'quranosaurus', 'qué', 'rabbi', 'rabbit', 'raccoon', 'race', 'racey', 'racial', 'racially', 'racing', 'racism', 'racist', 'rack', 'racket', 'raconteurs', 'radcliffe', 'radical', 'radicalization', 'radically', 'radicals', 'radio', 'radium', 'radius', 'rady', 'rag', 'rage', 'raid', 'rail', 'railroad', 'rain', 'rainbow', 'raincoat', 'raining', 'raise', 'raised', 'raisin', 'raisins', 'raj', 'rally', 'ram', 'ramadan', 'ramen', 'ramirez', 'rampage', 'rampone', 'ran', 'ranch', 'random', 'randomly', 'randy', 'rang', 'range', 'rank', 'ranked', 'rankine', 'rant', 'rap', 'rape', 'rapinoe', 'rapper', 'rappi', 'rapport', 'rare', 'rarely', 'rarest', 'rat', 'rate', 'rather', 'rave', 'raw', 'rawmen', 'ray', 'razor', 'rda', 're', 'reach', 'reaching', 'reaction', 'read', 'reader', 'reading', 'ready', 'real', 'realise', 'realistic', 'reality', 'realize', 'realizing', 'really', 'reaper', 'rearrange', 'reason', 'rebecca', 'rebuild', 'recede', 'receive', 'receives', 'recent', 'recently', 'reception', 'recipe', 'recital', 'recognition', 'recognize', 'recommend', 'recommendation', 'reconnect', 'record', 'recover', 'recovery', 'recycle', 'red', 'redcross', 'redefine', 'redneck', 'reduce', 'reduces', 'reduction', 'reed', 'reel', 'reese', 'reeves', 'refer', 'reference', 'refill', 'reflect', 'reflection', 'reflex', 'refresh', 'refreshment', 'refrigerator', 'refuse', 'regard', 'regardless', 'regenerate', 'regenerates', 'regeneration', 'regime', 'region', 'regional', 'register', 'registered', 'registration', 'regret', 'regrets', 'regrettable', 'regrow', 'regrows', 'regular', 'regularly', 'regulate', 'regulates', 'reheat', 'reich', 'reilly', 'reindeer', 'reinforcement', 'reintroduce', 'reiterate', 'reject', 'rejection', 'rejoice', 'rejoices', 'relapse', 'relatable', 'relate', 'related', 'relates', 'relation', 'relationship', 'relationships', 'relative', 'relatively', 'relax', 'relaxed', 'relaxes', 'relaxing', 'relay', 'release', 'releasing', 'relentless', 'relentlessly', 'relevant', 'reliably', 'relief', 'relies', 'relieve', 'religion', 'religious', 'reluctant', 'rely', 'remain', 'remains', 'remake', 'remark', 'remarkable', 'remedy', 'remember', 'remembers', 'remembrance', 'remind', 'reminder', 'reminds', 'remission', 'remix', 'remorse', 'remortgaging', 'remote', 'removal', 'remove', 'removes', 'renaissance', 'rename', 'render', 'renew', 'reno', 'renovate', 'renovation', 'rent', 'rental', 'reoccurring', 'repair', 'repay', 'repeat', 'repeatedly', 'repentant', 'repetitive', 'replace', 'replacements', 'replacing', 'replay', 'reply', 'report', 'reportedly', 'reporter', 'reporting', 'repossess', 'reposted', 'represent', 'representation', 'representative', 'reproduction', 'reptile', 'republic', 'republican', 'reputation', 'request', 'requiem', 'require', 'requirement', 'rerouting', 'rerun', 'rescue', 'research', 'researcher', 'researchers', 'resemble', 'resent', 'reserection', 'reservation', 'reserve', 'reset', 'residual', 'resilience', 'resist', 'resistance', 'resistant', 'resolutions', 'resolve', 'resource', 'resourcefulness', 'resources', 'resourcesthe', 'respect', 'respectable', 'respected', 'respectively', 'respiratory', 'respond', 'responder', 'responding', 'responds', 'response', 'responsibility', 'responsible', 'rest', 'restart', 'restaurant', 'restore', 'restrain', 'restraining', 'restriction', 'restroom', 'restructure', 'result', 'resume', 'resurrect', 'resveratrol', 'ret', 'retain', 'retard', 'retinol', 'retire', 'retirement', 'retreat', 'retrieve', 'retroactively', 'return', 'returns', 'retweet', 'retweets', 'reunion', 'reunite', 'reunited', 'reupload', 'reveal', 'reveals', 'revenge', 'revenue', 'reversal', 'reverse', 'review', 'revisionism', 'revival', 'revive', 'revolt', 'revolution', 'revolve', 'revolves', 'reward', 'rewind', 'rework', 'rex', 'rey', 'reymer', 'reynolds', 'rhapsody', 'rhino', 'rhinoceros', 'rhode', 'rhombus', 'rhonda', 'rhubarb', 'rhyme', 'rib', 'ribeye', 'rice', 'rich', 'richard', 'richest', 'rick', 'rickpat', 'rid', 'riddle', 'ride', 'riders', 'ridicule', 'ridiculous', 'riding', 'rifle', 'right', 'righteous', 'rights', 'righty', 'rigonal', 'rihanna', 'rim', 'rincolns', 'ring', 'ringed', 'ringlet', 'ringo', 'riot', 'rioting', 'rip', 'ripe', 'ripped', 'rise', 'rises', 'risk', 'risky', 'rite', 'rival', 'river', 'rivera', 'riverside', 'rmscs', 'rmscswim', 'rn', 'road', 'roadside', 'roald', 'roam', 'roamin', 'roast', 'rob', 'robbed', 'robber', 'robbery', 'robe', 'robert', 'roberto', 'roberts', 'robin', 'robinson', 'robo', 'robocop', 'robot', 'robotic', 'robotics', 'robust', 'robyn', 'rock', 'rocketman', 'rockstar', 'rod', 'rode', 'rodeo', 'rodgers', 'rodrigo', 'rodriquez', 'rofl', 'rogers', 'rohypnol', 'rolaids', 'role', 'roleplay', 'rolex', 'roll', 'rolled', 'roller', 'rollerblade', 'rolls', 'romaine', 'roman', 'romance', 'romania', 'romans', 'romantic', 'rome', 'romps', 'ron', 'ronald', 'ronstar', 'roof', 'roofer', 'rooftop', 'rookie', 'room', 'roomba', 'roommate', 'roosevelt', 'rooster', 'root', 'rope', 'rose', 'rosehip', 'rosemary', 'rosemond', 'rosenbaum', 'roses', 'rosh', 'roster', 'rot', 'rotate', 'rotates', 'rotten', 'rough', 'roughly', 'roulette', 'round', 'routine', 'rover', 'row', 'rowdy', 'rowling', 'royal', 'royalty', 'royce', 'rt', 'rub', 'rubbed', 'rubber', 'rude', 'rudely', 'ruin', 'rule', 'rules', 'rumor', 'run', 'runner', 'runny', 'rush', 'rushmore', 'russia', 'russian', 'russians', 'ryan', 'sack', 'sacrifice', 'sad', 'sadden', 'sadly', 'sadness', 'safe', 'safeguard', 'safer', 'safety', 'sag', 'said', 'sail', 'sailboat', 'sailor', 'saint', 'salaah', 'salad', 'salama', 'salary', 'sale', 'salesman', 'salesmen', 'salieri', 'salivary', 'sally', 'salm', 'salmon', 'salon', 'salsa', 'salt', 'saltnpeppa', 'salty', 'sam', 'samantha', 'sambulance', 'same', 'sameyou', 'samosa', 'sample', 'samsung', 'samuel', 'samurai', 'san', 'sanctimonious', 'sanctioned', 'sanctuary', 'sand', 'sandcastle', 'sanders', 'sandra', 'sandwich', 'sandy', 'sang', 'sanitize', 'sanjay', 'sanjeev', 'sank', 'santa', 'santos', 'sapien', 'sapiens', 'sara', 'sarah', 'sarcasm', 'sarcastic', 'sarcastically', 'sash', 'sassy', 'sat', 'satan', 'satanic', 'satanist', 'satellite', 'satiation', 'satisfaction', 'satisfactory', 'satisfied', 'satisfy', 'saturate', 'saturday', 'saturn', 'sauce', 'saudi', 'sauerbrunn', 'saul', 'saunabout', 'saunter', 'sausage', 'savage', 'savant', 'save', 'saved', 'saving', 'savior', 'saw', 'sax', 'say', 'sayin', 'saying', 'says', 'sbad', 'scale', 'scalp', 'scaly', 'scammer', 'scandal', 'scandinavian', 'scanner', 'scar', 'scarabic', 'scarcity', 'scare', 'scarecrow', 'scarf', 'scarlet', 'scarlett', 'scary', 'scatter', 'scenario', 'scene', 'scenes', 'scent', 'scenter', 'schedule', 'scheme', 'schemer', 'schizophrenia', 'schizophrenic', 'schmear', 'scholar', 'scholars', 'scholarship', 'school', 'schools', 'schubert', 'schwarzenegger', 'sci', 'science', 'sciences', 'scientific', 'scientist', 'scientists', 'scientology', 'scifi', 'scissors', 'scoff', 'scooby', 'scoop', 'scoot', 'score', 'scorn', 'scornful', 'scotch', 'scotsman', 'scotsmen', 'scottish', 'scotty', 'scotus', 'scout', 'scrabble', 'scramble', 'scraper', 'scratch', 'scream', 'screams', 'screech', 'screeching', 'screen', 'screenplay', 'screw', 'script', 'scroll', 'scrub', 'scrubs', 'scumbag', 'sdcc', 'sderot', 'sea', 'seacrest', 'seafood', 'seal', 'seaman', 'sean', 'search', 'sears', 'seashell', 'seashore', 'season', 'season10', 'seat', 'seater', 'seattle', 'seaweed', 'sec', 'secessions', 'second', 'secret', 'secrete', 'secretive', 'secretly', 'sect', 'section', 'sector', 'secure', 'security', 'sedative', 'seduce', 'seducer', 'seduction', 'see', 'seed', 'seeds', 'seedy', 'seeing', 'seek', 'seeker', 'seeking', 'seem', 'seems', 'seesaw', 'seet', 'segale', 'segev', 'segment', 'segregate', 'seinfeld', 'seize', 'seizure', 'select', 'selective', 'selena', 'selenium', 'self', 'selfie', 'selfies', 'selfishness', 'selfless', 'sell', 'seller', 'selling', 'sellout', 'selma', 'seltzer', 'semantic', 'semen', 'semi', 'semicolon', 'seminar', 'semitics', 'senate', 'senator', 'send', 'sending', 'sends', 'senile', 'senior', 'senority', 'sens', 'sensation', 'sense', 'sensitive', 'sensitivity', 'sensitize', 'sensory', 'sensuality', 'sent', 'sentence', 'sentiment', 'seoul', 'separate', 'seperates', 'sept', 'september', 'septic', 'serena', 'serengeti', 'serf', 'serge', 'sergeant', 'serial', 'series', 'serious', 'seriously', 'serkis', 'serotonin', 'servant', 'serve', 'service', 'services', 'serving', 'servitude', 'sesame', 'session', 'sessions', 'set', 'setting', 'settle', 'settlement', 'settlers', 'setup', 'seuss', 'seven', 'seventh', 'several', 'severe', 'severely', 'severly', 'sewage', 'sewer', 'sex', 'sexier', 'sexiest', 'sext', 'sextant', 'sexual', 'sexuality', 'sexualization', 'sexually', 'sexy', 'sexyphone', 'sf', 'sga', 'sguar', 'shabbat', 'shade', 'shades', 'shadow', 'shady', 'shake', 'shaker', 'shakespeare', 'shaking', 'shakira', 'shall', 'shallow', 'sham', 'shame', 'shamed', 'shampoo', 'shana', 'shanah', 'shane', 'shape', 'shaped', 'shaq', 'shaquille', 'shard', 'share', 'shared', 'shark', 'sharks', 'sharon', 'sharona', 'sharp', 'sharpie', 'shatter', 'shave', 'shawn', 'shaytaan', 'she', 'shea', 'sheboygan', 'sheep', 'sheepdog', 'sheepishly', 'sheeran', 'sheesh', 'sheet', 'sheik', 'sheikh', 'shelf', 'shell', 'shelton', 'shepherd', 'sheppy', 'sheriff', 'sherlock', 'sherlockian', 'shero', 'sheroes', 'shes', 'sheâ', 'shhh', 'shhhh', 'shhhhhh', 'shia', 'shift', 'shiiiiiiit', 'shin', 'shindig', 'shine', 'shining', 'shiny', 'ship', 'shipment', 'shirenara', 'shirt', 'shirtless', 'shisha', 'shit', 'shitfaced', 'shitpotle', 'shitshow', 'shitty', 'shiva', 'shiver', 'shmuel', 'shock', 'shocked', 'shoe', 'shoebox', 'shoed', 'shoehorn', 'shooed', 'shoot', 'shooter', 'shooting', 'shop', 'shoplift', 'shoplifting', 'shopping', 'shore', 'short', 'shortage', 'shortcut', 'shorten', 'shorter', 'shot', 'should', 'shoulder', 'shout', 'shoutout', 'shove', 'shovel', 'show', 'shower', 'showers', 'shrek', 'shriek', 'shrink', 'shrug', 'shut', 'shy', 'sibling', 'sick', 'side', 'sidekick', 'sidewalk', 'sigh', 'sight', 'sign', 'signal', 'significant', 'significantly', 'signing', 'silence', 'silencer', 'silent', 'silently', 'silhouette', 'silicon', 'silly', 'sillyantro', 'silver', 'silverback', 'silverware', 'simba', 'similar', 'simliar', 'simple', 'simplest', 'simpleton', 'simply', 'simpson', 'simpsons', 'sims', 'simulator', 'sin', 'sinatra', 'since', 'sincere', 'sincerely', 'sincerest', 'sincerity', 'sine', 'sing', 'singapore', 'singer', 'singers', 'singh', 'singing', 'single', 'sings', 'sink', 'sinking', 'sins', 'sinus', 'sip', 'sir', 'sirhud', 'siri', 'sister', 'sisty', 'sit', 'sitars', 'sitcom', 'site', 'sits', 'sitter', 'sitting', 'situation', 'six', 'sixth', 'sizable', 'size', 'sized', 'skate', 'skateboard', 'skele', 'skeleton', 'skeletons', 'sketch', 'sketchy', 'ski', 'skiing', 'skill', 'skin', 'skinny', 'skip', 'skipper', 'skit', 'skull', 'skunk', 'sky', 'skydive', 'skydiver', 'skydives', 'skyline', 'skyscraper', 'slack', 'slam', 'slang', 'slap', 'slappin', 'slappy', 'slash', 'slate', 'slave', 'slavery', 'slay', 'slayyyter', 'sleep', 'sleeping', 'sleepwalker', 'sleeve', 'sleigh', 'slept', 'slice', 'slide', 'slight', 'slightly', 'slim', 'slime', 'slimy', 'slinky', 'slip', 'slippery', 'slit', 'slope', 'slosh', 'slot', 'slouch', 'slow', 'slowly', 'slows', 'sluggish', 'slur', 'slut', 'slutty', 'small', 'smallpox', 'smalls', 'smart', 'smarter', 'smartest', 'smartphone', 'smash', 'smell', 'smellular', 'smelly', 'smh', 'smile', 'smiley', 'smiling', 'smith', 'smoke', 'smoker', 'smoking', 'smooth', 'smug', 'smuggle', 'smuggler', 'snack', 'snail', 'snake', 'snakes', 'snap', 'snapper', 'snapple', 'snarl', 'snatch', 'sneak', 'sneaker', 'sneaky', 'sneeze', 'snickerdoodle', 'sniffer', 'snigger', 'sniper', 'snoop', 'snore', 'snort', 'snot', 'snow', 'snowballs', 'snowblower', 'snowblowing', 'snowflake', 'snowlady', 'snowman', 'snowshoe', 'snuck', 'snuff', 'so', 'soak', 'soap', 'soar', 'sob', 'sober', 'sobriety', 'soccer', 'sociable', 'social', 'societal', 'society', 'socioeconomic', 'sociology', 'sock', 'socket', 'soda', 'sodium', 'sofa', 'sofishticated', 'soft', 'soften', 'softens', 'softest', 'software', 'solar', 'soldier', 'solely', 'solid', 'solidarity', 'solitary', 'solnit', 'solo', 'solowitz', 'soluble', 'solution', 'solve', 'solved', 'solving', 'somber', 'some', 'somebody', 'someday', 'somehow', 'someone', 'someplace', 'something', 'somethings', 'sometime', 'sometimes', 'somewhat', 'somewhere', 'somolian', 'son', 'sonblock', 'sondheim', 'song', 'songwriter', 'sonia', 'sonic', 'sony', 'soon', 'sooo', 'soop', 'soothe', 'soothes', 'sopita', 'sopranos', 'sorbitol', 'sorbo', 'sore', 'sorrow', 'sorry', 'sort', 'sotomayor', 'souffle', 'sought', 'soul', 'soulmate', 'soulmates', 'sound', 'soundly', 'soundtrack', 'soup', 'sour', 'source', 'sourdough', 'south', 'southeast', 'southeastern', 'southerland', 'southern', 'southerner', 'southwest', 'soviet', 'soy', 'soymilky', 'sp', 'space', 'spacebar', 'spacecraft', 'spaces', 'spaceship', 'spacesuit', 'spaghetti', 'spaghetto', 'spain', 'spam', 'span', 'spanish', 'spank', 'spanking', 'spar', 'spare', 'spark', 'sparkling', 'sparks', 'sparticus', 'spat', 'speak', 'speaker', 'speaks', 'spear', 'spec', 'special', 'specialist', 'specialize', 'specialized', 'specially', 'specie', 'species', 'specific', 'specifically', 'specify', 'specimen', 'spectator', 'spectrum', 'speculation', 'speech', 'speechless', 'speed', 'speedo', 'spell', 'spellcheck', 'spelling', 'spend', 'spending', 'spends', 'spent', 'speople', 'sperm', 'sperson', 'sphere', 'sphinxter', 'spic', 'spice', 'spicy', 'spider', 'spiderweb', 'spielberg', 'spill', 'spin', 'spinach', 'spine', 'spirit', 'spiritual', 'spit', 'split', 'spn', 'spnfamily', 'spock', 'spoil', 'spoiler', 'spoke', 'spoken', 'spokesman', 'sponge', 'spongebob', 'sponsor', 'sponsorship', 'spoon', 'sport', 'spot', 'spotify', 'spouse', 'sprain', 'spray', 'spread', 'spring', 'springs', 'sprinkle', 'sprint', 'spy', 'squad', 'square', 'squash', 'squeeze', 'squirrel', 'squirrels', 'squirt', 'sswimmeetsaturdays', 'st', 'stab', 'stable', 'staff', 'stage', 'stain', 'stair', 'stake', 'stall', 'stan', 'stand', 'standard', 'standing', 'star', 'starbucks', 'stare', 'stars', 'start', 'started', 'starter', 'starting', 'startle', 'starve', 'state', 'statement', 'states', 'station', 'statistic', 'statistically', 'statistics', 'statue', 'status', 'stave', 'stay', 'stayed', 'staying', 'stds', 'steady', 'steak', 'steakhouse', 'steal', 'stealth', 'steam', 'stedman', 'steel', 'steely', 'steer', 'stegosaurus', 'stei', 'steinbeck', 'stem', 'stenson', 'step', 'stepbrother', 'stephan', 'stephen', 'stepping', 'stereo', 'stereotype', 'stern', 'sternly', 'steve', 'steven', 'stevie', 'stewart', 'sthinking', 'stick', 'sticker', 'sticking', 'sticky', 'stiff', 'stigma', 'still', 'stimulate', 'stimulates', 'sting', 'stink', 'stir', 'stirrup', 'stitch', 'stock', 'stockholm', 'stocking', 'stockpile', 'stoke', 'stole', 'stollen', 'stomach', 'stomp', 'ston', 'stone', 'stoner', 'stones', 'stood', 'stool', 'stop', 'stopped', 'storage', 'store', 'storefront', 'storied', 'stories', 'stork', 'storm', 'stormy', 'story', 'storytelling', 'stout', 'stove', 'straight', 'strain', 'strand', 'strange', 'stranger', 'strap', 'strategy', 'straw', 'strawberry', 'strawpocalypse', 'streak', 'streaker', 'stream', 'street', 'strength', 'strengthen', 'strengthened', 'strengthens', 'stress', 'stressful', 'stressor', 'stretch', 'strict', 'strictly', 'strike', 'strikes', 'striking', 'string', 'strip', 'stripe', 'stripes', 'stripper', 'strippers', 'strive', 'stroganoff', 'stroke', 'stroll', 'stroller', 'strong', 'strongly', 'struck', 'structural', 'structure', 'struggle', 'stubborn', 'stuck', 'stud', 'student', 'studies', 'studio', 'studios', 'study', 'stuff', 'stuffed', 'stuffing', 'stuffy', 'stumble', 'stump', 'stun', 'stung', 'stunt', 'stuntmen', 'stupid', 'stupidity', 'sturgeon', 'sturgill', 'stutter', 'style', 'stylus', 'su', 'sub', 'subatomic', 'subconscious', 'subject', 'subjective', 'subjugate', 'submarine', 'submit', 'subreddit', 'subscribe', 'subsequent', 'subsidy', 'substance', 'substantial', 'substantially', 'substantiate', 'substitute', 'substitution', 'subtitle', 'subtle', 'subtly', 'subtract', 'suburban', 'subversive', 'subway', 'succeed', 'success', 'successful', 'successfull', 'successfully', 'succession', 'suck', 'sucker', 'sucks', 'sudden', 'suddenly', 'sue', 'suffer', 'suffering', 'sufferingâ', 'suffers', 'suffice', 'suffocate', 'suffolk', 'sugar', 'sugary', 'suggest', 'suggestion', 'suggests', 'suicidal', 'suicide', 'suit', 'sulphur', 'sum', 'summarize', 'summer', 'summit', 'summon', 'sun', 'sunbathes', 'sunburnt', 'sundae', 'sundance', 'sunday', 'sunflower', 'sunglass', 'sunny', 'sunrise', 'sunscreen', 'sunset', 'sunshine', 'sup', 'super', 'superbad', 'superficial', 'superhero', 'superheroes', 'superintendent', 'superior', 'superiority', 'superman', 'supermarket', 'supermodel', 'supermom', 'supermoon', 'supernatura', 'supernatural', 'supersensitive', 'supersoul', 'superstition', 'supervision', 'supper', 'supplement', 'supplies', 'supply', 'support', 'supporter', 'supportive', 'suppose', 'supposedly', 'suppository', 'suppress', 'suppresses', 'suppression', 'supremacy', 'supreme', 'supressed', 'supression', 'sure', 'surely', 'surf', 'surface', 'surfer', 'surgeon', 'surgery', 'surprise', 'surprised', 'surprising', 'surprisingly', 'surrender', 'surround', 'surveillance', 'survey', 'survival', 'survive', 'survivor', 'susan', 'susanna', 'susceptible', 'sushi', 'suspect', 'suspense', 'suspicion', 'suspicious', 'sustain', 'sustainability', 'suture', 'suv', 'svc', 'swain', 'swallow', 'swam', 'swap', 'swarm', 'sway', 'swear', 'swears', 'sweat', 'sweater', 'sweating', 'sweatpants', 'sweaty', 'sweden', 'swedeners', 'sweet', 'sweeter', 'sweetest', 'sweetheart', 'sweetie', 'sweetner', 'swell', 'swift', 'swiftly', 'swig', 'swim', 'swimcary2016', 'swimmer', 'swimming', 'swing', 'swipe', 'swiss', 'switch', 'switching', 'switzerland', 'swivel', 'sword', 'swordmaker', 'swore', 'sworn', 'swung', 'sykes', 'syllable', 'symbol', 'symphony', 'symposium', 'symptom', 'symptomatic', 'synaesthesia', 'synapsis', 'sync', 'syncs', 'syndrome', 'synonym', 'syphilis', 'syriana', 'syrup', 'system', 'systematically', 'systemic', 'ta', 'tab', 'tabacky', 'table', 'tablespoon', 'tablet', 'taboo', 'tac', 'tackle', 'taco', 'tactic', 'tag', 'tahini', 'tail', 'tailgate', 'tailor', 'takashawa', 'take', 'takeaways', 'taking', 'takiwatanga', 'tale', 'talent', 'talented', 'taliban', 'talk', 'talkative', 'talked', 'talkie', 'talking', 'talky', 'tall', 'taller', 'tallest', 'tame', 'tamer', 'tampax', 'tampon', 'tan', 'tanco', 'tandem', 'tangible', 'tangled', 'tank', 'tannins', 'tans', 'tantric', 'tantrum', 'tap', 'tapatio', 'tape', 'taped', 'taquitos', 'tardy', 'tareq', 'target', 'targeted', 'tariff', 'tart', 'tarzan', 'taser', 'task', 'taste', 'tat', 'tattle', 'tattoo', 'tattooed', 'taught', 'taurus', 'tawny', 'tax', 'taxi', 'taxidermist', 'taylor', 'taymiyyah', 'tb', 'tea', 'teach', 'teacher', 'teaching', 'teacup', 'team', 'teamfollowback', 'teapot', 'tear', 'tears', 'teary', 'tease', 'teaser', 'teaspoon', 'teaspoons', 'tech', 'techie', 'technical', 'technically', 'technician', 'technicolor', 'technique', 'technology', 'tecrash', 'ted', 'tee', 'teehee', 'teen', 'teenage', 'teenager', 'teeth', 'teethbrush', 'tel', 'telegram', 'telephone', 'telescope', 'telescopes', 'television', 'telfar', 'tell', 'teller', 'telling', 'temper', 'temperature', 'temple', 'temporarily', 'temporary', 'tempt', 'ten', 'tenants', 'tend', 'tendency', 'tender', 'tends', 'tenne', 'tennessean', 'tennesseans', 'tennessee', 'tennis', 'tense', 'tension', 'tent', 'tenth', 'tequila', 'tequillllaaaa', 'terabyte', 'terentius', 'term', 'terminal', 'terminator', 'terminators', 'terraform', 'terri', 'terrible', 'terribly', 'terrific', 'terrify', 'terrorist', 'terrorists', 'tesla', 'test', 'testament', 'testicle', 'testifies', 'testify', 'testosterone', 'tests', 'texas', 'text', 'texted', 'texting', 'texture', 'tf', 'tgnc', 'thai', 'thailand', 'thais', 'thal', 'than', 'thank', 'thankful', 'thankfully', 'thanks', 'thanksgiving', 'thanx', 'that', 'thatmmmmmmm', 'thats', 'the', 'theanine', 'theater', 'theatre', 'thebron', 'theft', 'their', 'thekin', 'them', 'theme', 'then', 'theorist', 'theory', 'therapeutic', 'therapist', 'therapy', 'there', 'therefore', 'thereof', 'theresa', 'thermostat', 'theron', 'thesaurus', 'these', 'they', 'theyd', 'thicc', 'thick', 'thicken', 'thief', 'thieves', 'thigh', 'thin', 'thing', 'things', 'thingy', 'think', 'thinking', 'third', 'thirds', 'thirst', 'thirsty', 'thirty', 'this', 'tho', 'thomas', 'thorn', 'thorough', 'thoroughly', 'those', 'though', 'thought', 'thoughts', 'thousand', 'thread', 'threat', 'threaten', 'threatens', 'three', 'threesome', 'threw', 'thrice', 'thrill', 'thrilled', 'thrive', 'throat', 'throne', 'thrones', 'through', 'throughout', 'throw', 'thrown', 'thru', 'thug', 'thumb', 'thunder', 'thunderstorm', 'thunderwear', 'thurman', 'thursday', 'thus', 'thxandlove', 'thyme', 'thyroid', 'tiaras', 'tibet', 'tibetan', 'tic', 'tick', 'ticket', 'tickets', 'tickle', 'tide', 'tie', 'tiger', 'tigers', 'tigger', 'tight', 'tighty', 'tijuana', 'til', 'tile', 'till', 'tim', 'timber', 'timberlake', 'timbly', 'time', 'timed', 'timeless', 'timeline', 'timeout', 'timer', 'times', 'timing', 'timmy', 'timothy', 'tin', 'tina', 'tinder', 'ting', 'tiny', 'tip', 'tire', 'tired', 'tis', 'tissue', 'tit', 'titanic', 'title', 'titles', 'titty', 'tmrw', 'tnt', 'to', 'toast', 'toaster', 'tobacco', 'toblerone', 'tocks', 'today', 'todd', 'toddler', 'toddlers', 'toe', 'toenail', 'toes', 'tofurkey', 'together', 'toilet', 'tokyo', 'tolbert', 'told', 'tolerance', 'tolerant', 'tolerate', 'tolkien', 'tom', 'tomato', 'tomatoes', 'tomer', 'tomlinson', 'tommy', 'tomorrow', 'ton', 'tonal', 'tone', 'toner', 'tongue', 'toni', 'tonigh', 'tonight', 'tony', 'too', 'toodles', 'took', 'tool', 'toot', 'tooter', 'tooth', 'toothbrush', 'toothbrushes', 'toothpaste', 'toothpick', 'tootin', 'top', 'topic', 'topical', 'topically', 'topics', 'topless', 'topper', 'topple', 'torchbearer', 'tores', 'tornado', 'toronto', 'torture', 'toss', 'tostada', 'total', 'totality', 'totally', 'toto', 'toucan', 'touch', 'tough', 'toughest', 'toupee', 'tour', 'tourette', 'tourettes', 'touring', 'tourist', 'tournament', 'tov', 'tova', 'tovah', 'toward', 'towards', 'towel', 'towels', 'tower', 'town', 'townsend', 'toxic', 'toxicity', 'toxin', 'toy', 'trabajo', 'trace', 'track', 'tract', 'tractor', 'trade', 'trader', 'tradition', 'traditional', 'traditionally', 'traffic', 'tragedy', 'tragic', 'trail', 'trailer', 'train', 'trainer', 'training', 'trainor', 'trait', 'trajectory', 'tramp', 'trample', 'trampoline', 'tranny', 'trans', 'transaction', 'transfemimine', 'transfer', 'transform', 'transformation', 'transformative', 'transformer', 'transfusion', 'transgender', 'transistor', 'transition', 'translates', 'translation', 'transmasculine', 'transmission', 'transparent', 'transplantation', 'transport', 'transsexual', 'transvestite', 'trap', 'trash', 'trashy', 'trauma', 'traumatic', 'travel', 'traveler', 'traveling', 'tread', 'treadmill', 'treasure', 'treat', 'treatable', 'treating', 'treatment', 'tree', 'trees', 'tremaine', 'tremendous', 'trend', 'trendsetters', 'trendy', 'trepaliare', 'tres', 'tresbien', 'trespass', 'trespasser', 'trevi', 'treyvon', 'tri', 'trial', 'trials', 'tribe', 'tribute', 'trick', 'tricked', 'tricycle', 'tried', 'trigger', 'triggernometry', 'triggertreat', 'trillion', 'trilogy', 'trim', 'trip', 'tripadvisor', 'triple', 'tripped', 'trippin', 'triumphant', 'triumphantly', 'trivia', 'trivial', 'trois', 'troll', 'trolley', 'trolling', 'troop', 'trophy', 'tropical', 'trouble', 'troubled', 'troubleshoot', 'trough', 'trouser', 'trouter', 'troy', 'truck', 'true', 'truly', 'truman', 'trunk', 'trust', 'trusted', 'truth', 'truthful', 'try', 'trycoxagin', 'tryin', 'trying', 'tryna', 'tryptophan', 'tsa', 'tsar', 'tsss', 'tub', 'tube', 'tubman', 'tubs', 'tuck', 'tucked', 'tuesday', 'tug', 'tumble', 'tumblr', 'tummy', 'tumor', 'tuna', 'tundra', 'tune', 'tuned', 'tunes', 'tunnel', 'tupperware', 'turban', 'turing', 'turkey', 'turkish', 'turn', 'turned', 'turnip', 'turnover', 'turns', 'turtle', 'tusk', 'tutankhamun', 'tutor', 'tv', 'tvs', 'twain', 'tweet', 'twelve', 'twenty', 'twice', 'twin', 'twins', 'twist', 'twitter', 'two', 'tws', 'ty', 'tyler', 'type', 'typical', 'typically', 'typo', 'tyrannosaurus', 'tyre', 'tyrone', 'tyson', 'uber', 'uc', 'udder', 'ufc', 'ugh', 'ugliest', 'ugly', 'uh', 'ujaama', 'ujima', 'uk', 'ukelele', 'ultimate', 'ultimately', 'ultrasonic', 'ultrasound', 'ultraviolet', 'um', 'uma', 'umami', 'umbrella', 'umm', 'ummm', 'ummmm', 'un', 'unable', 'unabomber', 'unacceptable', 'unafraid', 'unapologetically', 'unattainable', 'unattractive', 'unavailable', 'unbearable', 'unbelievable', 'unblock', 'uncertain', 'uncertainty', 'uncle', 'unclogs', 'uncomfortable', 'uncommon', 'unconditionally', 'unconscionable', 'unconscious', 'uncontrollable', 'uncontrollably', 'uncooked', 'uncool', 'uncuff', 'undemanding', 'under', 'undercooked', 'undercover', 'underestimate', 'undergo', 'underground', 'underneath', 'underperforms', 'underprivileged', 'understand', 'understanding', 'understands', 'understood', 'underwater', 'underwear', 'undetected', 'undisturbed', 'undivided', 'undo', 'undone', 'undress', 'unease', 'unemployed', 'unemployment', 'unequal', 'unequivocally', 'unethical', 'unexpected', 'unexpectedly', 'unexplainable', 'unfair', 'unfairness', 'unfaithful', 'unfamiliar', 'unfettered', 'unflattering', 'unfold', 'unforeseen', 'unfortunate', 'unfortunately', 'unhappy', 'unhealthy', 'unhurt', 'unicorn', 'unicycle', 'uniform', 'unilever', 'unimaginable', 'unintended', 'uninterested', 'union', 'unipolar', 'unique', 'unit', 'united', 'universal', 'universe', 'universities', 'university', 'unjust', 'unknowable', 'unknown', 'unlatch', 'unleaded', 'unleash', 'unless', 'unlike', 'unlimited', 'unlit', 'unloaded', 'unlock', 'unmessable', 'unmissable', 'unmotivated', 'unnatural', 'unnecessarily', 'uno', 'unorthodox', 'unplanned', 'unplug', 'unprecedented', 'unpredictable', 'unprotected', 'unprovoked', 'unpublished', 'unquestionable', 'unravel', 'unrealistic', 'unrelated', 'unreliable', 'unresolved', 'unroll', 'unrolled', 'unsafe', 'unscrew', 'unsettle', 'unsolicited', 'unsolvable', 'unsolved', 'unspeakable', 'unstable', 'unsuccessful', 'unsung', 'unsure', 'untie', 'until', 'untold', 'unusual', 'unusually', 'unvaccinated', 'unveil', 'unwanted', 'unwrinkle', 'up', 'upcoming', 'update', 'upfront', 'upgrade', 'upholstery', 'upload', 'upon', 'upper', 'ups', 'upset', 'upside', 'ur', 'urge', 'urinal', 'urinate', 'urine', 'urn', 'us', 'usa', 'usain', 'usb', 'use', 'used', 'useful', 'useless', 'user', 'usher', 'using', 'usps', 'uss', 'ussr', 'usual', 'usually', 'utah', 'utensil', 'utility', 'utilize', 'utopia', 'uv', 'va', 'vacant', 'vacation', 'vaccinate', 'vaccine', 'vaccum', 'vacuum', 'vader', 'vagetarian', 'vagina', 'vaginal', 'vague', 'vaguely', 'val', 'valentine', 'valentines', 'valet', 'valhalla', 'validate', 'validation', 'valium', 'valley', 'valuable', 'value', 'vampire', 'vamps', 'van', 'vanessa', 'vanilla', 'vanquished', 'vanya', 'vanzant', 'vaping', 'vapor', 'vaporub', 'variable', 'varied', 'variety', 'various', 'varro', 'vase', 'vasectomy', 'vaseline', 'vast', 'vastness', 'vault', 'vaulter', 'vaxxer', 've', 'veg', 'vegan', 'vegas', 'vegatarian', 'vegetable', 'vegetables', 'vegetarian', 'vegetaryan', 'vehicle', 'veil', 'vell', 'velocity', 'vend', 'venereal', 'venom', 'venomous', 'venti', 'ventilation', 'ventilator', 'ventriloquist', 'venus', 'vera', 'verb', 'verbal', 'verdict', 'verily', 'verizon', 'vernon', 'verrone', 'versatile', 'verse', 'version', 'vertical', 'very', 'vessel', 'vest', 'vet', 'veteran', 'veterinarian', 'vey', 'vg', 'vh1', 'vhs', 'vi', 'via', 'viagra', 'vibe', 'vibes', 'vibrancy', 'vibrantly', 'vibrate', 'vibration', 'vice', 'vicious', 'vicks', 'victim', 'victims', 'victoria', 'victory', 'video', 'videogamer', 'vids', 'viet', 'vietnam', 'vietnamese', 'view', 'viewer', 'viggo', 'vigil', 'viking', 'vikings', 'vile', 'village', 'villain', 'villains', 'villians', 'vimeo', 'vincent', 'vinegar', 'vinson', 'vintage', 'vinyl', 'viola', 'violate', 'violation', 'violence', 'violent', 'violently', 'violet', 'violin', 'vip', 'viral', 'virgil', 'virgin', 'virginia', 'virginity', 'virgos', 'virtual', 'virtually', 'virus', 'visibility', 'vision', 'visit', 'visitor', 'visual', 'vit', 'vital', 'vitamin', 'vitamins', 'vits', 'voice', 'voiced', 'voicemail', 'void', 'volcano', 'volume', 'volunteer', 'vomit', 'voracious', 'vote', 'voter', 'voting', 'vow', 'vowel', 'vr', 'vs', 'vu', 'vulcan', 'vulnerability', 'vulnerable', 'vulture', 'vy', 'wack', 'wacky', 'wad', 'waddle', 'waddler', 'wafer', 'waffle', 'waffles', 'wage', 'wagon', 'wahb', 'waist', 'wait', 'waiter', 'waiting', 'waitlist', 'waitress', 'wakanda', 'wake', 'waking', 'wakunda', 'wal', 'waldman', 'waldo', 'wales', 'walgreens', 'walk', 'walked', 'walker', 'walkers', 'walkie', 'walkin', 'walking', 'walks', 'wall', 'waller', 'wallet', 'walmart', 'walmarts', 'walnuts', 'walrus', 'walt', 'walter', 'wan', 'wand', 'wander', 'wanders', 'want', 'wanted', 'wanting', 'war', 'warbirds', 'ward', 'warden', 'wardrobe', 'warehouse', 'warfare', 'wario', 'warm', 'warmer', 'warms', 'warn', 'warner', 'warning', 'warranty', 'wars', 'warsaw', 'warwick', 'was', 'wasbulance', 'wash', 'washer', 'washing', 'washington', 'washroom', 'wasnt', 'wasp', 'waste', 'waster', 'wasting', 'watch', 'watched', 'watcher', 'watchers', 'watching', 'water', 'watergate', 'waterhouse', 'watermelon', 'watermelons', 'waterproof', 'waterwe', 'watson', 'wattsapp', 'wave', 'wax', 'way', 'wayne', 'ways', 'wayyyyy', 'wazowski', 'we', 'weak', 'weaken', 'weaker', 'weakly', 'weakness', 'wealth', 'wealthy', 'weapon', 'wear', 'wearing', 'weather', 'weaver', 'web', 'webber', 'webmd', 'website', 'webster', 'wedding', 'weddings', 'wednesday', 'weed', 'week', 'weekday', 'weekend', 'weekends', 'weekly', 'weigh', 'weighs', 'weight', 'weird', 'weirder', 'weirdly', 'weirdo', 'welcome', 'well', 'wellbeing', 'wellness', 'welp', 'welsh', 'went', 'were', 'west', 'western', 'wet', 'whale', 'wham', 'what', 'whatever', 'whats', 'wheeeeeee', 'wheel', 'wheelchair', 'wheeze', 'when', 'whenever', 'where', 'whereby', 'wherever', 'whether', 'which', 'while', 'whilst', 'whine', 'whip', 'whisk', 'whiskey', 'whisper', 'whisperer', 'whistle', 'white', 'whiten', 'whiteness', 'whiter', 'whitney', 'who', 'whoa', 'whoever', 'whole', 'whore', 'whose', 'whosoever', 'why', 'wi', 'wicked', 'widdow', 'wide', 'widely', 'wider', 'widow', 'wiener', 'wife', 'wifely', 'wifey', 'wiffle', 'wifi', 'wig', 'wiggle', 'wikipedia', 'wilburn', 'wild', 'wilder', 'wildfire', 'wildlife', 'wildly', 'wilfully', 'will', 'william', 'williams', 'willie', 'willies', 'willing', 'willl', 'willy', 'wilmore', 'wilson', 'wimms', 'win', 'wind', 'windmill', 'window', 'winds', 'windscreen', 'windshield', 'wine', 'wing', 'wingmaning', 'wink', 'winky', 'winner', 'winnie', 'winning', 'winona', 'wins', 'winston', 'winter', 'wipe', 'wiper', 'wire', 'wired', 'wireland', 'wireless', 'wisconsin', 'wisdom', 'wise', 'wisely', 'wish', 'wishing', 'wit', 'witch', 'with', 'withdrawal', 'withholding', 'withholds', 'within', 'without', 'witness', 'witnesses', 'witty', 'wives', 'wizard', 'wizkhalifa', 'wizzy', 'wm', 'wo', 'woah', 'wobbing', 'woc', 'wodehouse', 'wok', 'woke', 'wolf', 'woman', 'womb', 'wombat', 'women', 'womens', 'wompers', 'wonder', 'wonderful', 'wonderland', 'wonderment', 'wong', 'wongs', 'wonka', 'wonna', 'wonton', 'woo', 'wood', 'woodchipper', 'woodchuck', 'wooden', 'woodpecker', 'woods', 'woodwind', 'woodwork', 'woodworm', 'woohoo', 'wop', 'word', 'wordplay', 'words', 'wore', 'work', 'workday', 'worked', 'worker', 'working', 'workoholism', 'workout', 'workplace', 'workshop', 'world', 'worlds', 'worldview', 'worldwide', 'worried', 'worry', 'worse', 'worser', 'worship', 'worshipper', 'worships', 'worst', 'worth', 'worthless', 'worthwhile', 'worthy', 'would', 'wound', 'wow', 'wrap', 'wreath', 'wrestle', 'wrestler', 'wrestling', 'wright', 'wrinkle', 'wrinkly', 'wrist', 'write', 'writer', 'writes', 'writing', 'written', 'wrong', 'wrongful', 'wrongfully', 'wrote', 'wtc', 'wtf', 'wth', 'wu', 'wurst', 'ww2', 'wwii', 'www', 'wyatt', 'wyoming', 'wyzeradio', 'xanax', 'xbox', 'xd', 'xii', 'xishun', 'xmas', 'xu', 'xxvii', 'ya', 'yacht', 'yahweh', 'yakuza', 'yale', 'yallah', 'yama', 'yank', 'yankee', 'yankees', 'yard', 'yates', 'yavin', 'yawn', 'yay', 'yazidi', 'yeah', 'year', 'yearly', 'yearns', 'years', 'yeast', 'yeganeh', 'yell', 'yellow', 'yeon', 'yep', 'yeppers', 'yes', 'yesterday', 'yet', 'yiqian', 'yo', 'yoda', 'yodas', 'yodel', 'yoga', 'yoghurt', 'yogurt', 'yoko', 'yolk', 'yom', 'york', 'yorkers', 'yoro', 'yosemite', 'yoshi', 'yoshisaur', 'you', 'youll', 'young', 'younger', 'your', 'yourself', 'youth', 'youthful', 'youtube', 'youuu', 'youâ', 'yr', 'yth', 'yu', 'yuck', 'yum', 'yung', 'yup', 'yutopia', 'zayda', 'zayn', 'zeal', 'zealand', 'zebra', 'zer', 'zero', 'zeus', 'zimmer', 'zinc', 'zip', 'ziploc', 'zipper', 'zippo', 'zippy', 'zombie', 'zombies', 'zombified', 'zone', 'zones', 'zoo', 'zookeeper', 'zookeepers', 'zuckerberg', 'zumba']\n",
      "(8000, 8000) (8000,)\n"
     ]
    }
   ],
   "source": [
    "\n",
    "# Create bag-of-words model\n",
    "from sklearn.feature_extraction.text import CountVectorizer\n",
    "\n",
    "vectorizer_2 = CountVectorizer(max_features = 8000)\n",
    "vectorizer = CountVectorizer(max_features = 8000)\n",
    "X = vectorizer.fit_transform(data_list).toarray() # no. of features per phrase (phrase=X[row])\n",
    "y = dataset.iloc[:,2].values\n",
    "X_2 = vectorizer_2.fit_transform(data_list).toarray()\n",
    "y_2 = dataset.iloc[:,3].values\n",
    "\n",
    "print(vectorizer.get_feature_names())\n",
    "print(X.shape, y.shape)\n",
    "\n"
   ]
  },
  {
   "cell_type": "code",
   "execution_count": 16,
   "metadata": {},
   "outputs": [
    {
     "name": "stdout",
     "output_type": "stream",
     "text": [
      "['00', '000', '03', '10', '100', '1000', '100th', '10k', '10yr', '11', '11th', '12', '1200', '13', '14', '15', '150', '153', '16', '17', '18', '180', '19', '1928', '1940', '1945', '1948', '1950s', '1953', '1963', '1967', '1969', '1970s', '1975', '1977', '1981', '1984', '1985', '1991', '1992', '1995', '1996', '1998', '1st', '20', '200', '2000', '2001', '2003', '2006', '2007', '200thepisode', '2010', '2011', '2012', '2013', '2014', '2015', '2016', '2017', '2018', '2019', '2020', '21', '22', '23', '239', '24', '25', '26', '28', '29', '2nd', '2x', '30', '300', '30pm', '31', '32', '33', '34', '35', '36', '360', '3629', '37', '3d', '3rd', '40', '400', '41', '42', '43', '45', '46', '48', '49', '4th', '50', '500', '51', '52', '55', '56', '57', '5am', '5pm', '5sos', '5th', '60', '64', '65', '666', '67', '68', '70', '72', '75', '76', '79', '7th', '80', '800', '85', '87', '88', '90', '911', '93', '94', '97', '99', '999', '9pm', 'aaa', 'aaaa', 'aap', 'abandon', 'abc', 'abduct', 'abdul', 'ability', 'able', 'abnormal', 'abortion', 'about', 'abraham', 'abroad', 'absolutely', 'absorb', 'absorbed', 'absorption', 'abu', 'abuse', 'academic', 'academy', 'accent', 'accept', 'acceptable', 'accepted', 'access', 'accessible', 'accident', 'accidentally', 'accord', 'according', 'account', 'accountable', 'accountant', 'accuracy', 'accurate', 'accuse', 'achieve', 'achievement', 'acid', 'ackles', 'acknowledge', 'acne', 'acquire', 'across', 'act', 'action', 'activate', 'active', 'activist', 'activity', 'actor', 'actual', 'actually', 'ad', 'adam', 'adapt', 'adapts', 'add', 'added', 'addict', 'addiction', 'addition', 'additional', 'address', 'adele', 'adept', 'adhd', 'adhesive', 'adjust', 'admit', 'adolf', 'adopt', 'adoption', 'adorable', 'adrenal', 'adrenaline', 'ads', 'adult', 'adulting', 'adults', 'advantage', 'adventure', 'adversity', 'advert', 'advertisement', 'advice', 'advise', 'advises', 'advocate', 'aerobics', 'af', 'affair', 'affect', 'affected', 'affirm', 'afford', 'affordable', 'afraid', 'africa', 'african', 'africans', 'afropunk', 'after', 'afternoon', 'again', 'age', 'agency', 'agent', 'ages', 'aggression', 'aggressive', 'aging', 'ago', 'agree', 'ah', 'aha', 'ahead', 'ai', 'aid', 'aide', 'aids', 'ailment', 'aim', 'air', 'aircraft', 'airline', 'airlines', 'airplane', 'airport', 'aisle', 'ak', 'al', 'alabama', 'alan', 'alarm', 'alaska', 'albert', 'albinos', 'album', 'alcohol', 'alcoholic', 'aldrin', 'alert', 'alexa', 'algorithm', 'ali', 'alice', 'alien', 'align', 'alive', 'all', 'allah', 'allahu', 'allergy', 'alley', 'alligator', 'allow', 'allows', 'ally', 'almond', 'almost', 'alone', 'along', 'alphabet', 'already', 'alright', 'also', 'alter', 'alternative', 'although', 'aluminum', 'always', 'alzheimer', 'am', 'ama', 'amaze', 'amazing', 'amazingly', 'amazon', 'amber', 'ambition', 'ambulance', 'amendment', 'america', 'american', 'americans', 'amino', 'among', 'amongst', 'amount', 'amplify', 'amputate', 'amputee', 'amy', 'an', 'anal', 'anatomy', 'ancestor', 'ancient', 'and', 'anemia', 'aneurysm', 'angel', 'angeles', 'angels', 'anger', 'angie', 'angle', 'angrily', 'angry', 'animal', 'animator', 'anime', 'ankle', 'ann', 'anne', 'anniversary', 'announce', 'announcement', 'announces', 'annoy', 'annoyed', 'anorexic', 'another', 'answer', 'ant', 'antarctica', 'anti', 'antibiotic', 'antidepressant', 'antifreeze', 'antioxidant', 'anxiety', 'anxious', 'any', 'anybody', 'anymore', 'anyone', 'anything', 'anytime', 'anyway', 'anyways', 'anywhere', 'apart', 'apartment', 'apathy', 'apollo', 'apologize', 'apologizes', 'apology', 'app', 'apparently', 'appear', 'appearance', 'appetite', 'applaud', 'applause', 'apple', 'apples', 'application', 'applies', 'apply', 'appointment', 'appreciate', 'approach', 'appropriate', 'approve', 'approximately', 'april', 'aquatics', 'arab', 'arabia', 'arabic', 'arabs', 'arava', 'arcade', 'architecture', 'arctic', 'are', 'area', 'aretha', 'argue', 'argument', 'ariana', 'arizona', 'arkansas', 'arm', 'armageddon', 'armpit', 'armstrong', 'army', 'arnold', 'around', 'arouse', 'arrange', 'arrangement', 'arrest', 'arrival', 'arrive', 'arrives', 'arrogance', 'arrow', 'arson', 'art', 'arthur', 'article', 'artificial', 'artist', 'aryan', 'as', 'asap', 'ash', 'ashamed', 'ashtray', 'asia', 'asian', 'asiana', 'asians', 'aside', 'ask', 'asked', 'asking', 'asks', 'asleep', 'ass', 'assassin', 'assassinate', 'assault', 'assemble', 'asshole', 'assistant', 'associate', 'association', 'assume', 'assure', 'astronaut', 'astronomical', 'asylum', 'at', 'ate', 'atheist', 'athlete', 'atomic', 'attach', 'attack', 'attempt', 'attend', 'attendant', 'attention', 'attic', 'attitude', 'attorney', 'attract', 'attraction', 'attractive', 'audience', 'audition', 'august', 'auntie', 'aunties', 'aunty', 'austen', 'austin', 'australia', 'australians', 'authentic', 'author', 'authority', 'autism', 'auto', 'automatic', 'automatically', 'autonomy', 'autumn', 'available', 'average', 'avocado', 'avocados', 'avoid', 'aw', 'awake', 'awaken', 'award', 'awards', 'awareness', 'away', 'awesome', 'awful', 'awkward', 'axis', 'aye', 'b3', 'b6', 'ba', 'babe', 'babies', 'baby', 'bachelor', 'back', 'backpack', 'backup', 'backwards', 'bacon', 'bacteria', 'bad', 'badass', 'badge', 'badly', 'bae', 'bag', 'bagel', 'bagging', 'baghdad', 'bailey', 'bake', 'baked', 'baker', 'bakery', 'balance', 'bald', 'baldwin', 'ball', 'balsamic', 'bambi', 'ban', 'banana', 'band', 'bandit', 'bang', 'banger', 'banging', 'bank', 'banker', 'bar', 'barack', 'barbara', 'barbecue', 'barber', 'barbie', 'barely', 'barista', 'bark', 'barman', 'barn', 'barrel', 'bartender', 'base', 'baseball', 'based', 'basement', 'basic', 'basically', 'basis', 'basket', 'basketball', 'bastard', 'bat', 'bath', 'bathing', 'bathroom', 'bathtub', 'batman', 'battery', 'battle', 'bbq', 'bc', 'bday', 'be', 'beach', 'bead', 'beam', 'bean', 'bear', 'beard', 'beast', 'beat', 'beaten', 'beating', 'beatles', 'beautiful', 'beauty', 'bebe', 'because', 'become', 'becomes', 'bed', 'bedroom', 'bee', 'beef', 'beehive', 'beekeeper', 'been', 'beep', 'beer', 'bees', 'beethoven', 'before', 'beg', 'begin', 'behalf', 'behave', 'behavior', 'behavioral', 'behaviour', 'behind', 'being', 'belief', 'believe', 'believer', 'belittle', 'bell', 'belly', 'belong', 'belonging', 'belongs', 'beloved', 'belt', 'ben', 'bench', 'beneficial', 'benefit', 'benign', 'berry', 'beside', 'besides', 'best', 'bet', 'beta', 'better', 'betty', 'between', 'beverage', 'beware', 'beyonce', 'beyond', 'bfs', 'bgs', 'bhism', 'bi', 'bias', 'bible', 'bicarbonate', 'bicycle', 'bieber', 'big', 'bike', 'biker', 'bilbo', 'bill', 'billion', 'billionaire', 'billy', 'binary', 'binge', 'bingo', 'bio', 'biologist', 'biology', 'biotin', 'bipoc', 'bipolar', 'bird', 'birds', 'birth', 'birthday', 'bisexual', 'bit', 'bitch', 'bite', 'bitten', 'bitter', 'bizarre', 'bk', 'bks', 'black', 'blackgirlmagic', 'blackish', 'blacksmith', 'bladder', 'blade', 'blame', 'bland', 'blanket', 'blast', 'bless', 'blessing', 'blew', 'blind', 'blindfold', 'blindly', 'blindness', 'blk', 'bloating', 'block', 'blog', 'blond', 'blonde', 'blood', 'bloodstream', 'blow', 'blowing', 'blowjob', 'blown', 'blue', 'blueberry', 'bluetooth', 'blur', 'bmhn', 'board', 'boarding', 'boat', 'bob', 'body', 'boil', 'bold', 'bolt', 'bomb', 'bomber', 'bond', 'bone', 'boner', 'bonita', 'bonus', 'boo', 'boob', 'booby', 'book', 'books', 'boom', 'boomer', 'boomerang', 'boost', 'boot', 'booty', 'bop', 'border', 'bore', 'boredom', 'boring', 'born', 'borrow', 'bos', 'boseman', 'boss', 'both', 'bother', 'bottle', 'bottom', 'bought', 'bounce', 'bouncy', 'boundary', 'bouquet', 'bout', 'bow', 'bowl', 'bowling', 'box', 'boy', 'boyfriend', 'boys', 'bra', 'brace', 'brad', 'brag', 'bragging', 'braille', 'brain', 'bran', 'brand', 'brave', 'bravery', 'brazilian', 'bread', 'break', 'breaker', 'breakfast', 'breaking', 'breakup', 'breast', 'breath', 'breathe', 'breathing', 'breed', 'brew', 'brewery', 'brian', 'brick', 'bride', 'bridge', 'brief', 'briefcase', 'bright', 'brighten', 'brighter', 'brilliant', 'bring', 'brings', 'brink', 'britain', 'british', 'bro', 'broad', 'broadcast', 'broadcasting', 'broccoli', 'broke', 'broken', 'brooklyn', 'broom', 'bros', 'brothel', 'brother', 'brought', 'brown', 'brownie', 'browser', 'bruce', 'bruise', 'bruising', 'brunette', 'bruno', 'brush', 'bubble', 'buck', 'bucket', 'bud', 'buddha', 'buddy', 'budget', 'buff', 'buffalo', 'buffet', 'bug', 'build', 'builder', 'building', 'built', 'bulb', 'bulk', 'bullet', 'bulletproof', 'bullets', 'bulls', 'bullshit', 'bully', 'bumblebee', 'bump', 'bumped', 'bumper', 'bun', 'bunch', 'bundy', 'bunny', 'burden', 'burger', 'burgle', 'burial', 'burn', 'burnett', 'burning', 'burnout', 'burnt', 'burp', 'burrito', 'burst', 'bury', 'bus', 'bush', 'business', 'bust', 'busy', 'but', 'butler', 'butt', 'butter', 'butterfly', 'button', 'buy', 'buying', 'buzz', 'buzzing', 'by', 'ca', 'cabbage', 'cabinet', 'cable', 'caesar', 'cafe', 'caffeine', 'cage', 'cairns', 'caitlyn', 'cake', 'calcium', 'calendar', 'california', 'call', 'callie', 'calm', 'calorie', 'camel', 'cameo', 'camera', 'camouflage', 'camp', 'campaign', 'campbell', 'campus', 'can', 'canada', 'canadian', 'canadians', 'canary', 'cancel', 'cancer', 'cancerous', 'candidate', 'candle', 'candy', 'cannabis', 'cannelloni', 'cannibal', 'canoe', 'cant', 'cantaloupe', 'cap', 'capacity', 'cape', 'capillary', 'capital', 'captain', 'caption', 'capture', 'car', 'carbohydrate', 'carbon', 'carbs', 'card', 'cardboard', 'care', 'career', 'careful', 'carefully', 'careless', 'cargo', 'carol', 'carotene', 'carotenoid', 'carpenter', 'carpet', 'carrey', 'carrot', 'carry', 'cars', 'cart', 'carter', 'carton', 'cartoon', 'carving', 'casa', 'case', 'cash', 'cashier', 'casino', 'cason', 'cassette', 'cast', 'castle', 'casual', 'cat', 'catalog', 'cataract', 'catch', 'catchy', 'category', 'caterpillar', 'catfishing', 'catholic', 'catholics', 'cats', 'cauc', 'caucasian', 'caught', 'cause', 'cave', 'caveman', 'cavity', 'cd', 'cease', 'ceiling', 'celebrate', 'celebration', 'celebrity', 'cell', 'cement', 'cemetery', 'cent', 'center', 'central', 'centre', 'century', 'ceo', 'cereal', 'ceremony', 'certain', 'chaca', 'chadwick', 'chain', 'chainsaw', 'chair', 'challenge', 'chameleon', 'champagne', 'champion', 'championship', 'chan', 'chance', 'change', 'channel', 'chaos', 'character', 'charade', 'charge', 'charity', 'charles', 'charlie', 'charlotte', 'charm', 'chase', 'chat', 'chauffeur', 'cheap', 'cheapest', 'cheat', 'check', 'checked', 'checkout', 'cheek', 'cheer', 'cheers', 'cheese', 'cheetah', 'cheetos', 'cheez', 'chef', 'chemical', 'cher', 'cherish', 'chernobyl', 'cherry', 'cheryl', 'chess', 'chest', 'chew', 'chewbacca', 'chi', 'chicago', 'chick', 'chicken', 'chief', 'child', 'childbirth', 'childhood', 'childlike', 'children', 'chill', 'chilli', 'chimney', 'chin', 'china', 'chinese', 'ching', 'chip', 'chipotle', 'chiropractor', 'chirp', 'chocolate', 'choice', 'choke', 'cholesterol', 'cholo', 'choose', 'chooses', 'chop', 'chosen', 'chp', 'chris', 'christ', 'christian', 'christians', 'christina', 'christmas', 'christopher', 'chromatica', 'chromosome', 'chu', 'chubby', 'chuck', 'church', 'ci', 'cia', 'cigarette', 'cinderella', 'cinnamon', 'circle', 'circulation', 'circumcise', 'citizen', 'city', 'civic', 'civil', 'civilian', 'claim', 'clam', 'clap', 'clarity', 'clark', 'clarke', 'clarkson', 'class', 'classic', 'classy', 'claudia', 'claus', 'claw', 'clay', 'clean', 'cleaner', 'cleaning', 'clear', 'clearly', 'clerk', 'clever', 'click', 'clicked', 'client', 'cliff', 'climate', 'climb', 'clinic', 'clinical', 'clinton', 'clip', 'clock', 'clog', 'clone', 'close', 'closely', 'closer', 'closest', 'closet', 'closing', 'clot', 'clothes', 'clothing', 'cloud', 'clouds', 'clown', 'club', 'clue', 'cnn', 'co', 'coach', 'coal', 'coast', 'coat', 'cob', 'cobweb', 'coca', 'cocaine', 'cock', 'cockatoo', 'cockroach', 'cocktail', 'coconut', 'code', 'coffee', 'coffin', 'cognitive', 'coin', 'coincidence', 'coke', 'cola', 'cold', 'coldest', 'coldplay', 'cole', 'collage', 'collagen', 'collapse', 'colleague', 'collect', 'collection', 'collective', 'collectively', 'college', 'collide', 'cologne', 'colon', 'colonoscopy', 'color', 'colorado', 'colorblind', 'colorism', 'colour', 'columbia', 'columbus', 'column', 'coma', 'comb', 'combat', 'combination', 'combine', 'combo', 'come', 'comeback', 'comedian', 'comedy', 'comet', 'comfort', 'comfortable', 'comic', 'coming', 'comm', 'command', 'comment', 'commentary', 'commercial', 'commit', 'commitment', 'common', 'commonly', 'communicate', 'communication', 'community', 'company', 'compare', 'compass', 'compensate', 'compete', 'competition', 'competitive', 'competitor', 'complain', 'complaint', 'complete', 'completely', 'complex', 'complicate', 'compliment', 'comprehend', 'compromise', 'computer', 'con', 'conan', 'concentrate', 'concentration', 'concept', 'concern', 'concerned', 'concert', 'conclusion', 'condescend', 'condition', 'condolence', 'condom', 'conduct', 'cone', 'confederate', 'conference', 'confession', 'confidence', 'confident', 'confirm', 'confront', 'confuse', 'confusion', 'congrats', 'congratulations', 'congress', 'congressional', 'conjoin', 'connect', 'connection', 'conquer', 'conscious', 'consent', 'consequence', 'conserve', 'consider', 'consistent', 'consists', 'console', 'conspiracy', 'constant', 'constantly', 'constellation', 'constipate', 'constipation', 'constitution', 'construction', 'consume', 'consumer', 'contact', 'contagious', 'contain', 'contains', 'content', 'contentment', 'contest', 'contestant', 'context', 'continent', 'continually', 'continue', 'continued', 'contract', 'contraction', 'contribute', 'contribution', 'control', 'controversy', 'conversation', 'conversations', 'convert', 'convey', 'convict', 'convince', 'convinces', 'convincing', 'convo', 'cook', 'cookbook', 'cooked', 'cooking', 'cooky', 'cool', 'cooler', 'cooperative', 'coordination', 'cop', 'cope', 'copied', 'copper', 'copy', 'cord', 'core', 'corn', 'corner', 'corny', 'corporate', 'corps', 'correct', 'correction', 'correctly', 'corrects', 'cos', 'cosmetic', 'cost', 'costco', 'costume', 'cotton', 'couch', 'cough', 'could', 'coumaric', 'council', 'counsel', 'counselor', 'count', 'countdown', 'counter', 'counting', 'country', 'countryside', 'couple', 'courage', 'course', 'court', 'courteous', 'cousin', 'cover', 'covid', 'cow', 'cowboy', 'cowboys', 'cowgirl', 'coworker', 'coworkers', 'crab', 'crack', 'cracker', 'craft', 'craig', 'craigslist', 'cranny', 'crap', 'crash', 'crashed', 'crave', 'crawl', 'crayon', 'crazy', 'cream', 'create', 'creates', 'creation', 'creative', 'creativity', 'creator', 'creature', 'credit', 'creep', 'creepy', 'cremate', 'cremation', 'crew', 'crime', 'criminal', 'crisis', 'crisp', 'critical', 'criticism', 'criticize', 'crocodile', 'crocs', 'cross', 'crossfit', 'crotch', 'crow', 'crowd', 'crucify', 'cruise', 'crush', 'crust', 'cry', 'crystal', 'cub', 'cube', 'cucumber', 'cuddle', 'cult', 'cultural', 'culturally', 'culture', 'cum', 'cumin', 'cunt', 'cup', 'cupid', 'curb', 'cure', 'curiosity', 'curious', 'current', 'currently', 'curry', 'curse', 'curtain', 'curve', 'custom', 'customer', 'cut', 'cute', 'cuz', 'cycle', 'cyrus', 'czech', 'da', 'dad', 'daddy', 'dagger', 'daily', 'dairy', 'dalai', 'dallas', 'damage', 'dammit', 'damn', 'damnit', 'dan', 'dance', 'dancer', 'dancing', 'dandruff', 'danger', 'dangerous', 'dangerously', 'daniel', 'danke', 'dare', 'dark', 'darkest', 'darkness', 'dart', 'darth', 'dartmouth', 'darwin', 'dash', 'dashboard', 'data', 'date', 'dates', 'dating', 'daughter', 'dav', 'dave', 'david', 'dawn', 'day', 'daytime', 'dc', 'de', 'dead', 'deadline', 'deadly', 'deaf', 'deafness', 'deal', 'dealer', 'dealership', 'dean', 'deanmon', 'dear', 'death', 'deathbed', 'debate', 'decade', 'decapitate', 'decay', 'december', 'decide', 'decision', 'declaration', 'declare', 'decline', 'decoration', 'decrease', 'dedicate', 'deed', 'deen', 'deep', 'deeper', 'deepest', 'deeply', 'deer', 'def', 'defeat', 'defend', 'defense', 'defenseless', 'defensive', 'deficiency', 'define', 'defines', 'definitely', 'definition', 'degeneration', 'degrasse', 'degree', 'dehydration', 'del', 'delaware', 'delay', 'delete', 'deliberately', 'delicious', 'delight', 'deliver', 'delivers', 'delivery', 'demand', 'demi', 'demon', 'denial', 'density', 'dental', 'dentist', 'denver', 'deny', 'deodorant', 'department', 'depend', 'dependent', 'depends', 'depot', 'depress', 'depressant', 'depressed', 'depression', 'deprivation', 'deprive', 'derby', 'desalination', 'describe', 'described', 'description', 'desert', 'deserve', 'deserves', 'design', 'designate', 'designer', 'desire', 'desk', 'desktop', 'desperate', 'despite', 'dessert', 'destroy', 'destroyed', 'destroys', 'destruct', 'destruction', 'detail', 'detect', 'detective', 'detector', 'deter', 'determine', 'detox', 'detroit', 'deux', 'develop', 'developed', 'development', 'develops', 'devil', 'dhabi', 'diabetes', 'diabetic', 'diagnose', 'diagnosis', 'dial', 'diamond', 'diana', 'diaper', 'diary', 'dick', 'dictate', 'dictionary', 'did', 'didnt', 'die', 'diet', 'difference', 'different', 'differential', 'difficult', 'dig', 'digest', 'digestion', 'digital', 'dilate', 'dildo', 'dill', 'dime', 'diminish', 'dimly', 'din', 'ding', 'dinner', 'dinosaur', 'dioxide', 'dip', 'dipped', 'direct', 'direction', 'directly', 'director', 'dirt', 'dirty', 'dis', 'disability', 'disabled', 'disagree', 'disappear', 'disappears', 'disappoint', 'disappointed', 'disappointment', 'disaster', 'discern', 'discord', 'discount', 'discourage', 'discover', 'discriminate', 'discrimination', 'discus', 'discuss', 'disease', 'disguise', 'disgust', 'dish', 'dishwasher', 'dismiss', 'disney', 'disorder', 'disorient', 'display', 'distance', 'distinct', 'distract', 'distress', 'distribute', 'district', 'disturb', 'ditch', 'diuretic', 'dive', 'diver', 'division', 'divorce', 'divorced', 'dizzy', 'dm', 'dms', 'dna', 'do', 'doc', 'dock', 'doctor', 'doctors', 'documentary', 'dodgers', 'does', 'doesnt', 'dog', 'dogs', 'doing', 'doll', 'dollar', 'dollop', 'dolphin', 'dome', 'dominant', 'don', 'donate', 'donation', 'done', 'donkey', 'donor', 'dont', 'donut', 'doo', 'doobie', 'doodle', 'doom', 'doomsday', 'door', 'doorway', 'dope', 'dora', 'dot', 'double', 'doubt', 'dough', 'down', 'download', 'downs', 'downstairs', 'dozen', 'dr', 'dracula', 'draft', 'drag', 'dragon', 'dragons', 'drain', 'drama', 'dramatic', 'drank', 'draw', 'drawer', 'drawn', 'dream', 'dreams', 'dreamt', 'dress', 'dressed', 'dressing', 'drew', 'dried', 'drill', 'drink', 'drinker', 'drinking', 'drive', 'driver', 'driveway', 'driving', 'drizzly', 'drone', 'drop', 'drought', 'drove', 'drown', 'drug', 'drum', 'drummer', 'drumstick', 'drunk', 'dry', 'dryer', 'dt', 'dubai', 'dubbed', 'dublin', 'duck', 'duct', 'dude', 'due', 'dumb', 'dumbass', 'dumped', 'dumpty', 'duncan', 'dunk', 'during', 'dust', 'duty', 'dwarf', 'dwayne', 'dy', 'dyk', 'dynamite', 'dynasty', 'dysfunction', 'dyslexia', 'dyslexic', 'each', 'eachother', 'eager', 'eagle', 'ear', 'earl', 'earlier', 'early', 'earmuff', 'earn', 'earnings', 'earth', 'earther', 'earthquake', 'ease', 'easily', 'east', 'easter', 'eastern', 'easy', 'eat', 'eating', 'eats', 'ebay', 'ebola', 'eclipse', 'economics', 'ed', 'edge', 'editor', 'educate', 'education', 'educator', 'edward', 'eeyore', 'effect', 'effective', 'effeminate', 'efficient', 'efficiently', 'effort', 'effortlessly', 'egg', 'ego', 'egyptian', 'egyptians', 'eid', 'eight', 'einstein', 'eis', 'either', 'ejaculate', 'ejaculation', 'el', 'elasticity', 'elastin', 'elbow', 'elder', 'elderly', 'eleanor', 'elect', 'election', 'electric', 'electrical', 'electrician', 'electricity', 'elena', 'elephant', 'elephants', 'elevator', 'eliminate', 'elizabeth', 'ellen', 'elmo', 'else', 'elsewhere', 'elvis', 'em', 'email', 'emancipation', 'embark', 'embarrass', 'embarrassment', 'embrace', 'emergency', 'eminem', 'emojis', 'emotion', 'emotional', 'emotionally', 'empathy', 'emperor', 'empire', 'employ', 'employed', 'employee', 'employment', 'empty', 'encounter', 'encourage', 'end', 'endangered', 'ending', 'endless', 'endorphin', 'endure', 'enemy', 'energetic', 'energy', 'engage', 'engine', 'engineer', 'england', 'english', 'englishman', 'enhance', 'enhancing', 'enjoy', 'enjoyable', 'enjoys', 'enlarge', 'enough', 'enrol', 'ensure', 'entendre', 'enter', 'enters', 'entertain', 'entire', 'entrance', 'entrepreneur', 'entry', 'envelope', 'environment', 'environmental', 'envy', 'enzyme', 'ep', 'epileptic', 'episode', 'equal', 'equality', 'equally', 'equip', 'equipment', 'equity', 'equivalent', 'er', 'era', 'erase', 'erectile', 'erection', 'error', 'escape', 'escher', 'especially', 'essay', 'essential', 'establish', 'estate', 'esteem', 'estimate', 'estrogen', 'etc', 'ethiopian', 'ethnic', 'europe', 'european', 'evacuate', 'evans', 'eve', 'even', 'event', 'eventually', 'ever', 'every', 'everybody', 'everyday', 'everyone', 'everything', 'everytime', 'everywhere', 'evidence', 'evil', 'evolution', 'evolve', 'ew', 'ex', 'exact', 'exactly', 'exam', 'examination', 'examine', 'example', 'excellence', 'excellent', 'except', 'excess', 'excessive', 'exchange', 'excite', 'excuse', 'exec', 'execution', 'executive', 'exercise', 'exhaust', 'exhaustion', 'exist', 'existence', 'exists', 'exit', 'exorcise', 'exorcist', 'expand', 'expect', 'expectation', 'expensive', 'experience', 'experienced', 'experiment', 'experimental', 'expert', 'explain', 'explode', 'exploder', 'exploit', 'explore', 'explosion', 'expose', 'exposure', 'express', 'expression', 'exterior', 'extinct', 'extra', 'extract', 'extraordinary', 'extreme', 'extremely', 'extremist', 'extrovert', 'ey', 'eye', 'eyeball', 'eyebrow', 'eyed', 'eyelash', 'eyes', 'eyesight', 'fabric', 'face', 'facebook', 'facet', 'facial', 'facility', 'fact', 'factor', 'factory', 'faggot', 'fail', 'failure', 'fair', 'fairly', 'fairy', 'fairytale', 'faith', 'fake', 'falafel', 'falcon', 'fall', 'false', 'falsely', 'fami', 'familiar', 'family', 'famous', 'fan', 'fancy', 'fanny', 'fantastic', 'fantasy', 'far', 'farm', 'farmer', 'fart', 'farting', 'fascist', 'fashion', 'fashionable', 'fast', 'faster', 'fat', 'fate', 'father', 'fatigue', 'fatter', 'fatty', 'fault', 'faux', 'faves', 'favor', 'favorite', 'favourite', 'fb', 'fear', 'fearless', 'feast', 'feather', 'feature', 'february', 'fed', 'federal', 'fee', 'feed', 'feel', 'feelin', 'feeling', 'fell', 'fellas', 'fellow', 'felt', 'female', 'feminism', 'feminist', 'feminists', 'fence', 'ferrari', 'festival', 'fetish', 'fever', 'few', 'ff', 'fi', 'fiber', 'fibre', 'fiction', 'field', 'fifteen', 'fifth', 'fight', 'fighter', 'figure', 'file', 'fill', 'film', 'filter', 'fin', 'final', 'finale', 'finally', 'finance', 'financial', 'find', 'finding', 'fine', 'finer', 'finger', 'fingerprint', 'finish', 'fire', 'firefighter', 'fireproof', 'firewood', 'firework', 'first', 'fiscal', 'fish', 'fisherman', 'fishing', 'fist', 'fistfight', 'fit', 'fitness', 'five', 'fix', 'flag', 'flamingo', 'flash', 'flashlight', 'flask', 'flat', 'flatter', 'flatulence', 'flavonoid', 'flavor', 'flavour', 'flea', 'flew', 'flick', 'flight', 'flint', 'flip', 'flirt', 'float', 'flood', 'floor', 'flop', 'florida', 'floss', 'flour', 'flow', 'flower', 'flu', 'fluid', 'flush', 'fly', 'foam', 'focus', 'folate', 'folk', 'folks', 'follow', 'follower', 'folx', 'foo', 'food', 'fool', 'foot', 'footage', 'football', 'footprint', 'footstep', 'for', 'forbidden', 'force', 'ford', 'forehead', 'foreign', 'forest', 'forever', 'forge', 'forget', 'forgets', 'forgive', 'forgiveness', 'forgot', 'forgotten', 'fork', 'form', 'formal', 'formally', 'former', 'formula', 'forrest', 'fort', 'fortnite', 'fortunate', 'fortune', 'forty', 'forum', 'forward', 'foster', 'fought', 'foul', 'found', 'founder', 'four', 'fox', 'fraction', 'frame', 'france', 'frank', 'frankenstein', 'franklin', 'frankly', 'fraternity', 'fraud', 'freak', 'freakin', 'fred', 'freddie', 'free', 'freedom', 'freeman', 'freeway', 'freeze', 'freezer', 'french', 'frenchman', 'frequently', 'fresh', 'freshwater', 'fricken', 'friday', 'fridge', 'friend', 'friendly', 'friends', 'friendship', 'frighten', 'frisbee', 'from', 'front', 'frown', 'frozen', 'fruit', 'fruits', 'frumpy', 'frustrate', 'frustration', 'fry', 'ft', 'fu', 'fuck', 'fucker', 'fuckin', 'fucking', 'fuel', 'fulfillment', 'full', 'fully', 'fun', 'function', 'fund', 'fundamental', 'funeral', 'fungi', 'funniest', 'funny', 'fur', 'furious', 'furniture', 'furry', 'futurama', 'future', 'ga', 'gag', 'gaga', 'gain', 'gala', 'galaxy', 'gallon', 'gambler', 'game', 'gamer', 'games', 'gang', 'gap', 'garage', 'garbage', 'garbanzo', 'garden', 'garlic', 'gary', 'gas', 'gasp', 'gather', 'gay', 'gaze', 'gear', 'geez', 'geico', 'gel', 'gemstones', 'gen', 'gender', 'gene', 'general', 'generalize', 'generally', 'generation', 'generational', 'genetic', 'genetically', 'genie', 'genitals', 'genius', 'gent', 'gentle', 'gentleman', 'gently', 'genuinely', 'genx', 'george', 'georgia', 'german', 'germans', 'germany', 'get', 'getaway', 'gets', 'gettin', 'getting', 'gf', 'ghost', 'giant', 'gif', 'gift', 'gig', 'giggle', 'ginger', 'gingerbread', 'giraffe', 'girl', 'girlfriend', 'girls', 'give', 'giveaway', 'given', 'giving', 'glad', 'glance', 'gland', 'glare', 'glass', 'glasses', 'glitter', 'global', 'globe', 'glorious', 'glove', 'glow', 'glucose', 'glue', 'gluten', 'gnc', 'go', 'goal', 'goat', 'god', 'gods', 'gofundme', 'gogh', 'going', 'gold', 'golden', 'goldfish', 'golf', 'golfer', 'gon', 'good', 'goodbye', 'goodnight', 'goofy', 'google', 'goose', 'gorgeous', 'gorilla', 'gorillas', 'gossip', 'got', 'gotten', 'government', 'governmental', 'grab', 'grace', 'gracias', 'grade', 'graduate', 'graft', 'gram', 'grammar', 'grand', 'grande', 'grandfather', 'grandma', 'grandmother', 'grandpa', 'grandparent', 'grandson', 'granny', 'grant', 'grape', 'grapes', 'graph', 'grass', 'grateful', 'grater', 'gratitude', 'gratuity', 'grave', 'gravity', 'gravy', 'gray', 'grease', 'great', 'greece', 'greek', 'greeks', 'green', 'greenleaf', 'greet', 'greetings', 'greg', 'grenade', 'grey', 'grief', 'grieve', 'grill', 'grills', 'grip', 'grizzly', 'grocery', 'groom', 'gross', 'ground', 'group', 'grow', 'growing', 'grown', 'grows', 'growth', 'grudge', 'guarantee', 'guaranteed', 'guard', 'guess', 'guest', 'guide', 'guillotine', 'guilt', 'guilty', 'guinness', 'guitar', 'gummy', 'gump', 'gun', 'guns', 'gut', 'guy', 'guys', 'gym', 'gynecologist', 'ha', 'habibi', 'habit', 'hack', 'had', 'haha', 'hahaha', 'hahahaha', 'haig', 'hair', 'haircut', 'hairy', 'haiti', 'hakuna', 'half', 'halfway', 'hall', 'halley', 'halloween', 'hallucination', 'ham', 'hamburger', 'hammer', 'han', 'hand', 'handed', 'handedly', 'handful', 'handicapped', 'handle', 'hands', 'handsome', 'hang', 'hanks', 'hans', 'hanx', 'happen', 'happens', 'happier', 'happiest', 'happily', 'happiness', 'happy', 'hara', 'hard', 'harder', 'hardest', 'hardly', 'hardwood', 'harm', 'harmful', 'harmonica', 'harrison', 'harrow', 'harry', 'harsh', 'harvard', 'harvey', 'hashanah', 'hashtag', 'hat', 'hatch', 'hate', 'hater', 'haters', 'hath', 'hatred', 'haunt', 'have', 'having', 'hawaii', 'hawking', 'hay', 'hazel', 'hbcu', 'he', 'head', 'headache', 'headline', 'headquarters', 'heal', 'heals', 'health', 'healthcare', 'healthier', 'healthiest', 'healthy', 'hear', 'heard', 'hearing', 'hears', 'heart', 'heartache', 'heartbeat', 'heartbreaking', 'heartburn', 'heat', 'heating', 'heaven', 'heavier', 'heavily', 'heavy', 'heck', 'heee', 'heel', 'hegazi', 'heinz', 'held', 'helen', 'helium', 'hell', 'hello', 'helmet', 'help', 'helpful', 'hen', 'henry', 'hepatitis', 'her', 'herb', 'here', 'hereby', 'herman', 'hero', 'heroes', 'heroic', 'heroin', 'heroine', 'hesitate', 'hey', 'hi', 'hiatus', 'hibernation', 'hid', 'hidden', 'hide', 'hiding', 'high', 'highest', 'highly', 'highway', 'hijack', 'hilarious', 'hill', 'hillenburg', 'him', 'hint', 'hip', 'hippo', 'hipster', 'hire', 'hiroshima', 'his', 'hispanic', 'hiss', 'historic', 'historical', 'historically', 'history', 'hit', 'hitchhike', 'hitler', 'hiv', 'hive', 'hmm', 'ho', 'hobbit', 'hobby', 'hockey', 'hoedown', 'hold', 'hole', 'holes', 'holiday', 'hollywood', 'holmes', 'holocaust', 'holy', 'home', 'homeless', 'homemade', 'homework', 'homo', 'homophobia', 'homophobic', 'homosexual', 'homosexuality', 'honda', 'honest', 'honestly', 'honesty', 'honey', 'honeybee', 'honeymoon', 'hong', 'honk', 'honor', 'honorable', 'honour', 'hood', 'hook', 'hooked', 'hooker', 'hookup', 'hoot', 'hop', 'hope', 'hopeful', 'hopefully', 'hoppy', 'horizons', 'hormone', 'horn', 'horny', 'horoscope', 'horrible', 'horrific', 'horror', 'horse', 'horses', 'hose', 'hospital', 'host', 'hostage', 'hot', 'hotel', 'hotter', 'hottest', 'hour', 'hours', 'house', 'household', 'houston', 'how', 'however', 'hr', 'http', 'hubble', 'hug', 'huge', 'hugh', 'human', 'humanity', 'humans', 'humble', 'humidity', 'humility', 'hummus', 'humor', 'humour', 'humpty', 'hunch', 'hunchback', 'hundred', 'hung', 'hunger', 'hungry', 'hunt', 'hunter', 'hurricane', 'hurt', 'hurtful', 'husband', 'hydrate', 'hydration', 'hydrogen', 'hymn', 'hyper', 'hypertension', 'hypocrisy', 'hypocrite', 'hypocritical', 'ian', 'iatric', 'ibn', 'ice', 'iceberg', 'iced', 'iceland', 'icon', 'iconic', 'icu', 'icy', 'idea', 'ideal', 'identify', 'identity', 'idiot', 'idk', 'idle', 'idol', 'if', 'ig', 'ignorant', 'ignore', 'ignores', 'ii', 'ill', 'illegal', 'illness', 'illusion', 'im', 'image', 'imaginary', 'imagination', 'imagine', 'imitate', 'imma', 'immature', 'immediately', 'immigrant', 'imminent', 'immune', 'immunity', 'impact', 'impediment', 'imperfect', 'impersonate', 'implement', 'important', 'impossible', 'imposter', 'impress', 'impressed', 'impression', 'impressive', 'imprison', 'improve', 'improvement', 'improves', 'impulse', 'in', 'inability', 'inanimate', 'inappropriate', 'inbred', 'inc', 'incarcerate', 'incarceration', 'inch', 'include', 'income', 'incompetent', 'increase', 'incredible', 'incredibly', 'indeed', 'independence', 'independent', 'india', 'indian', 'indiana', 'indians', 'indication', 'indicator', 'indigenous', 'individual', 'induce', 'industry', 'inevitable', 'infamous', 'infant', 'infect', 'infection', 'inferiority', 'inflammatory', 'inflatable', 'inflation', 'influence', 'info', 'infomercial', 'inform', 'information', 'informed', 'inhaler', 'initial', 'initially', 'inject', 'injured', 'injury', 'injustice', 'inmate', 'inner', 'inning', 'innocent', 'innovation', 'insanely', 'insanity', 'insect', 'insecure', 'insecurity', 'inside', 'insight', 'insist', 'insomnia', 'inspiration', 'inspirational', 'inspire', 'insta', 'instagram', 'instal', 'instant', 'instantly', 'instead', 'instinct', 'institution', 'instruction', 'instructor', 'instrument', 'insult', 'insurance', 'intake', 'integrity', 'intelligence', 'intend', 'intense', 'intent', 'intention', 'intentional', 'intentionally', 'inter', 'interaction', 'intercom', 'interest', 'interested', 'interesting', 'internal', 'international', 'internet', 'interpreter', 'interracial', 'interrupt', 'intersection', 'intervention', 'interview', 'interviewer', 'intestinal', 'intestine', 'intimacy', 'intimate', 'intolerant', 'introduce', 'introduces', 'introvert', 'invent', 'invention', 'inventor', 'invents', 'invest', 'investment', 'invisible', 'invitation', 'invite', 'involuntarily', 'involuntary', 'involve', 'involves', 'iphone', 'iq', 'iqs', 'iran', 'iraq', 'ireland', 'irish', 'irishman', 'iron', 'ironic', 'irony', 'irrational', 'irresistible', 'irritated', 'irwin', 'is', 'isaac', 'ish', 'isis', 'islam', 'islamic', 'island', 'islands', 'isolation', 'israel', 'israeli', 'issue', 'issues', 'it', 'italian', 'italians', 'italy', 'itchy', 'item', 'its', 'iy', 'jack', 'jacket', 'jackie', 'jackson', 'jacuzzi', 'jail', 'jake', 'jalapeno', 'jamal', 'james', 'janitor', 'january', 'japan', 'japanese', 'jar', 'jason', 'jaws', 'jazz', 'jealous', 'jealousy', 'jean', 'jeff', 'jefferson', 'jehova', 'jehovah', 'jelly', 'jellyfish', 'jenner', 'jerk', 'jerry', 'jersey', 'jerusalem', 'jesse', 'jessie', 'jesus', 'jet', 'jew', 'jewish', 'jews', 'jfk', 'jim', 'jimmy', 'jnf', 'jnfnc', 'joaquin', 'job', 'jobless', 'jobs', 'joe', 'jog', 'jogging', 'john', 'johnny', 'johns', 'johnson', 'join', 'joint', 'joke', 'jokes', 'jon', 'jones', 'joneses', 'jong', 'jordan', 'joseph', 'josephus', 'josé', 'jourie', 'journal', 'journalist', 'journey', 'joy', 'joyful', 'jr', 'juan', 'juda', 'judge', 'jug', 'juggling', 'juice', 'july', 'jump', 'jumped', 'jumping', 'june', 'junior', 'junk', 'junky', 'jury', 'just', 'justice', 'justin', 'juvenile', 'kanye', 'karaoke', 'karate', 'karen', 'karma', 'katy', 'kayak', 'keanu', 'keep', 'keeper', 'keller', 'kellogg', 'kelly', 'kelp', 'ken', 'kennedy', 'kenny', 'kept', 'ketchup', 'kevin', 'key', 'keyboard', 'kfc', 'kick', 'kid', 'kidnap', 'kidney', 'kids', 'kill', 'killer', 'kim', 'kin', 'kind', 'kinda', 'kinder', 'kindergarten', 'kindness', 'king', 'kinky', 'kiss', 'kissed', 'kit', 'kitchen', 'kitten', 'kittens', 'kitty', 'kiwi', 'kkk', 'klan', 'klondike', 'knee', 'knew', 'knife', 'knight', 'knob', 'knock', 'know', 'knowing', 'knowledge', 'knuckle', 'kobe', 'kohls', 'kong', 'kool', 'korea', 'kraut', 'ku', 'kung', 'kwanzaa', 'kyle', 'la', 'lab', 'label', 'labor', 'labour', 'labracadabrador', 'labrador', 'lack', 'ladder', 'ladies', 'lady', 'laid', 'lake', 'lakers', 'lama', 'lamar', 'lamborghini', 'lame', 'lana', 'lance', 'land', 'landlord', 'landslide', 'lane', 'language', 'lap', 'laptop', 'large', 'lasagna', 'laser', 'last', 'late', 'lately', 'later', 'latest', 'latin', 'laugh', 'laughing', 'laughter', 'launch', 'laundry', 'laura', 'laurel', 'law', 'lawn', 'lawnmower', 'lawrence', 'lawsuit', 'lawyer', 'laxative', 'lay', 'layer', 'laziness', 'lazy', 'lb', 'lead', 'leader', 'leadership', 'leaf', 'league', 'leak', 'learn', 'learning', 'learns', 'lease', 'least', 'leather', 'leave', 'lee', 'left', 'leftover', 'leg', 'legal', 'legalize', 'legally', 'legend', 'legged', 'legit', 'legitimate', 'lego', 'lemon', 'length', 'lens', 'leopard', 'leper', 'lesbian', 'less', 'lesson', 'let', 'letter', 'lettuce', 'level', 'lewis', 'lexus', 'lgbt', 'lgbtq', 'liar', 'librarian', 'library', 'libs', 'license', 'lick', 'lid', 'lie', 'life', 'lifehack', 'lifespan', 'lifestyle', 'lifetime', 'lift', 'light', 'lightbulb', 'lighten', 'lighter', 'lightning', 'like', 'likely', 'lil', 'lilo', 'limit', 'lincoln', 'linda', 'line', 'link', 'lint', 'lion', 'lip', 'lipstick', 'liquid', 'liquor', 'lisa', 'list', 'listen', 'listener', 'listening', 'lit', 'literally', 'literature', 'litter', 'little', 'live', 'liver', 'lives', 'livestock', 'living', 'll', 'lloyd', 'load', 'loaf', 'loan', 'lobster', 'local', 'locate', 'location', 'lock', 'lockdown', 'locksmith', 'loco', 'locomotive', 'locust', 'lodge', 'log', 'logic', 'lol', 'london', 'lonelier', 'loneliness', 'lonely', 'long', 'longer', 'look', 'looking', 'looks', 'loosen', 'lord', 'los', 'lose', 'loser', 'loses', 'losing', 'loss', 'lost', 'lot', 'lotion', 'lottery', 'loud', 'louder', 'loudly', 'louis', 'louisiana', 'lov', 'lovato', 'love', 'loved', 'lovely', 'lover', 'lovin', 'loving', 'low', 'lower', 'loyal', 'lucas', 'lucille', 'luck', 'luckily', 'lucky', 'luggage', 'luke', 'lumberjack', 'lump', 'lunch', 'lung', 'lust', 'lutein', 'luther', 'luxury', 'lycopene', 'lying', 'lyric', 'ma', 'mac', 'macaroni', 'machine', 'macklemore', 'macular', 'mad', 'madam', 'madison', 'madly', 'mafia', 'mag', 'magazine', 'maggot', 'magic', 'magical', 'magician', 'magnesium', 'mai', 'mail', 'main', 'mainly', 'maintain', 'maintenance', 'major', 'majority', 'make', 'maker', 'makeup', 'making', 'male', 'mall', 'mama', 'mammal', 'man', 'manage', 'manager', 'manchester', 'mandalorian', 'manganese', 'mango', 'mankind', 'manly', 'manner', 'mantra', 'many', 'map', 'maple', 'mar', 'marathon', 'marble', 'march', 'margaret', 'marginalize', 'marie', 'marijuana', 'marine', 'mario', 'mark', 'market', 'marketing', 'maroon', 'marriage', 'married', 'marry', 'marrying', 'mars', 'mart', 'martha', 'martin', 'marvel', 'mary', 'masc', 'masculine', 'masculinity', 'mash', 'mask', 'mass', 'massacre', 'massage', 'masseuse', 'massive', 'master', 'masturbate', 'masturbation', 'mat', 'matata', 'match', 'mate', 'material', 'matey', 'math', 'mathematical', 'mathematician', 'matt', 'mattel', 'matter', 'matthew', 'mattress', 'mature', 'maturity', 'max', 'maximum', 'may', 'maya', 'maybe', 'mayonnaise', 'mc', 'mccartney', 'mcdonald', 'mcdonalds', 'mchat', 'md', 'me', 'meal', 'mean', 'meaning', 'meaningful', 'meaningless', 'meant', 'measure', 'meat', 'mechanic', 'med', 'medal', 'medical', 'medication', 'medicine', 'medieval', 'meditation', 'medium', 'meet', 'meeting', 'meg', 'mega', 'meh', 'melon', 'melt', 'melville', 'member', 'membership', 'membrane', 'meme', 'memoir', 'memorial', 'memory', 'memphis', 'men', 'mendes', 'menopause', 'mental', 'mentally', 'menthol', 'mention', 'mentor', 'menu', 'mercedes', 'mercury', 'merely', 'mermaid', 'merrily', 'merry', 'mess', 'message', 'messy', 'met', 'metabolism', 'metal', 'meter', 'meth', 'method', 'metro', 'mexican', 'mexicans', 'mexico', 'mg', 'mh', 'mhm2012', 'mia', 'mic', 'michael', 'michaela', 'michelle', 'michigan', 'mick', 'mickey', 'microphone', 'microwave', 'mid', 'middle', 'midget', 'midnight', 'midst', 'midwife', 'might', 'migraine', 'mike', 'mild', 'mile', 'milestone', 'miley', 'military', 'milk', 'millennial', 'millennials', 'million', 'millionaire', 'mime', 'mimic', 'min', 'mind', 'minded', 'mindfulness', 'minds', 'mindset', 'mine', 'miner', 'mineral', 'mini', 'minimalist', 'minimize', 'minimum', 'minister', 'minnesota', 'minor', 'minority', 'mint', 'minute', 'miracle', 'mirror', 'miserable', 'misfit', 'misplace', 'miss', 'missing', 'mission', 'missionary', 'mistake', 'mistaken', 'mistakes', 'mister', 'misunderstood', 'mitt', 'mitten', 'mitzvah', 'mix', 'mixed', 'mmh', 'mo', 'moan', 'moana', 'mob', 'mobile', 'moby', 'mock', 'mocked', 'mockingbird', 'model', 'modern', 'mogadishu', 'mohammed', 'mole', 'mom', 'moma', 'moment', 'momma', 'mommy', 'mon', 'monday', 'money', 'monkey', 'monogamy', 'monopoly', 'monoxide', 'monster', 'month', 'months', 'mood', 'moon', 'moore', 'moral', 'more', 'morgan', 'mormon', 'mormons', 'morning', 'moron', 'morse', 'mortal', 'mortgage', 'moshe', 'mosque', 'mosquito', 'most', 'mostly', 'moth', 'mother', 'motivate', 'motivation', 'motorcycle', 'motorway', 'motto', 'mount', 'mountain', 'mourning', 'mouse', 'mouth', 'move', 'movement', 'movie', 'mow', 'mph', 'mr', 'mrs', 'ms', 'mubarak', 'much', 'mug', 'mugger', 'mugshot', 'mulan', 'multi', 'multiple', 'mum', 'mumbai', 'mummy', 'murder', 'murderer', 'muscle', 'muscular', 'museum', 'mushroom', 'music', 'musical', 'musician', 'muslim', 'muslims', 'must', 'mustache', 'mutant', 'mute', 'my', 'myers', 'mysteries', 'mysterious', 'mystery', 'myth', 'mythology', 'na', 'naan', 'naesm2016', 'nah', 'nail', 'naked', 'name', 'nana', 'nap', 'napoleon', 'narnia', 'narrative', 'naruto', 'nasa', 'nasty', 'nathan', 'nation', 'national', 'nationality', 'native', 'natural', 'naturally', 'nature', 'nausea', 'navigate', 'navy', 'nazi', 'nazis', 'nbhcsm', 'near', 'nearby', 'nearly', 'necessarily', 'necessary', 'neck', 'nectar', 'need', 'needle', 'needy', 'negative', 'negatively', 'neglect', 'negotiator', 'neighbor', 'neighborhood', 'neighbour', 'neighbourhood', 'neil', 'neither', 'nelson', 'nemo', 'nephew', 'nerd', 'nerve', 'nervous', 'nervously', 'nest', 'net', 'netflix', 'network', 'neuroscientist', 'never', 'nevermind', 'new', 'newborn', 'newman', 'news', 'newspaper', 'newt', 'newton', 'next', 'nguyen', 'niacin', 'nice', 'nicer', 'nicholas', 'nickel', 'nickelback', 'nickelodeon', 'nickname', 'nigeria', 'nigga', 'nigger', 'night', 'nightmare', 'nights', 'nightstand', 'nina', 'nine', 'ninja', 'nintendo', 'nitrogen', 'nj', 'no', 'noa', 'nobel', 'nobody', 'nod', 'noise', 'noisy', 'nom', 'nominate', 'non', 'none', 'nonprofit', 'nonsense', 'noodle', 'nope', 'normal', 'normally', 'north', 'norway', 'norwegian', 'nose', 'not', 'note', 'notebook', 'notes', 'nothing', 'notice', 'nougat', 'noun', 'novel', 'november', 'now', 'nowadays', 'nowhere', 'nra', 'nuclear', 'nude', 'nudist', 'nudity', 'numb', 'number', 'numerous', 'nun', 'nurse', 'nut', 'nutrient', 'nutrition', 'nutritional', 'nuts', 'nyc', 'oat', 'ob', 'obama', 'obese', 'object', 'obscure', 'obsess', 'obsession', 'obvious', 'obviously', 'occasion', 'occasionally', 'occur', 'occurs', 'ocd', 'ocean', 'oct', 'october', 'octopus', 'odd', 'odds', 'odor', 'of', 'off', 'offend', 'offender', 'offends', 'offense', 'offensive', 'offer', 'offering', 'office', 'officer', 'official', 'officially', 'offspring', 'often', 'oh', 'ohana', 'ohio', 'oil', 'ok', 'okay', 'okra', 'old', 'olive', 'olympic', 'olympics', 'omega', 'omg', 'on', 'once', 'one', 'onion', 'online', 'only', 'onto', 'ooga', 'oooh', 'open', 'opener', 'opening', 'opera', 'operation', 'operator', 'opinion', 'opponent', 'opportunity', 'oppose', 'opposite', 'optimist', 'optimistic', 'optimus', 'option', 'optional', 'or', 'oral', 'orange', 'order', 'ordinary', 'org', 'organ', 'organization', 'organize', 'organizer', 'orgasm', 'origami', 'original', 'originally', 'originates', 'orlando', 'orphan', 'oscar', 'osteoporosis', 'other', 'others', 'otherwise', 'ouija', 'ounce', 'our', 'ourselves', 'ourselvesblack', 'out', 'outfit', 'outfitters', 'outrageous', 'outside', 'outstanding', 'outta', 'oven', 'over', 'overall', 'overcome', 'overestimate', 'overlook', 'overly', 'overnight', 'overthink', 'overweight', 'overwhelm', 'overwhelmed', 'overwhelmingly', 'owe', 'owl', 'own', 'owned', 'owner', 'oxygen', 'oyedepo', 'oz', 'pace', 'pacific', 'pack', 'package', 'packed', 'packet', 'paddy', 'page', 'pageant', 'paid', 'pain', 'painful', 'paint', 'painting', 'pair', 'pakistan', 'pakistani', 'pal', 'palm', 'pan', 'pancake', 'panda', 'pandas', 'panic', 'pant', 'panther', 'pants', 'paper', 'paprika', 'parachute', 'parade', 'paradise', 'paragraph', 'paralympics', 'paralysis', 'paralyze', 'paramedic', 'paramore', 'paranoia', 'pardon', 'parent', 'parents', 'paris', 'park', 'parking', 'parkinson', 'parrot', 'parsley', 'part', 'partially', 'participate', 'participation', 'particular', 'particularly', 'partner', 'party', 'pas', 'pass', 'passenger', 'passing', 'passionate', 'passive', 'passport', 'password', 'past', 'pasta', 'paste', 'pastor', 'pat', 'path', 'pathetic', 'patience', 'patient', 'patrick', 'patriotic', 'patrol', 'patron', 'pattern', 'paul', 'pause', 'pave', 'pavement', 'paw', 'pay', 'paycheck', 'payment', 'pbs', 'pea', 'peace', 'peaceful', 'peacefully', 'peach', 'peanut', 'peanuts', 'pearl', 'pebble', 'pediatrician', 'pedophile', 'pee', 'peed', 'peel', 'pelt', 'pen', 'pencil', 'penguin', 'penis', 'penny', 'people', 'pepper', 'pepsi', 'pepsico', 'per', 'perceive', 'percent', 'percentage', 'perception', 'perfect', 'perfectionist', 'perfectly', 'perform', 'performance', 'performer', 'perhaps', 'period', 'perishable', 'permanent', 'permission', 'permit', 'pero', 'perri', 'perry', 'person', 'personal', 'personality', 'personally', 'perspective', 'pessimist', 'pessimistic', 'pet', 'peter', 'petite', 'petras', 'ph', 'pharaoh', 'pharmacy', 'phase', 'phd', 'phenomenal', 'phenomenon', 'phil', 'philosophy', 'pho', 'phobia', 'phoebe', 'phoenix', 'phone', 'phosphorous', 'photo', 'photographer', 'photon', 'phrase', 'phylicia', 'physic', 'physical', 'physically', 'physician', 'physicist', 'piano', 'pic', 'pick', 'picked', 'pickle', 'pickup', 'picture', 'pie', 'piece', 'pierce', 'pig', 'pigeon', 'piglet', 'pigmentation', 'pile', 'pill', 'pillow', 'pilot', 'pin', 'pinch', 'pine', 'pineapple', 'ping', 'pink', 'pint', 'pipe', 'pirate', 'piss', 'pit', 'pita', 'pitch', 'pitching', 'pitt', 'pizza', 'place', 'plan', 'planck', 'plane', 'planet', 'planning', 'plans', 'plant', 'plantic', 'plants', 'plaque', 'plasma', 'plasse', 'plaster', 'plastic', 'plate', 'plateauing', 'platform', 'platinum', 'plato', 'platypus', 'play', 'played', 'player', 'playful', 'playground', 'playing', 'playlist', 'playstation', 'pleasant', 'please', 'pleased', 'pleaser', 'pleasure', 'plebeians', 'pledge', 'plenaries', 'plenty', 'plethora', 'plight', 'plot', 'plow', 'ploy', 'pls', 'pluck', 'plum', 'plumber', 'plumbing', 'plump', 'plunder', 'plunge', 'plunger', 'pluralism', 'plus', 'plz', 'pm', 'pms', 'poach', 'poacher', 'pocahontas', 'pochito', 'pocket', 'pod', 'podcast', 'podcasting', 'podcasts', 'poe', 'poehler', 'poem', 'poet', 'poetic', 'poetry', 'point', 'pointer', 'pointy', 'poison', 'poisonous', 'poke', 'pokemon', 'pokemongo', 'poker', 'poland', 'polar', 'polaroid', 'pole', 'police', 'policeman', 'policewoman', 'policey', 'policy', 'polio', 'polish', 'polite', 'politely', 'politeness', 'politic', 'political', 'politically', 'politician', 'politicks', 'politics', 'poll', 'pollen', 'polling', 'pollo', 'pollution', 'polo', 'poly', 'polyamory', 'polygamy', 'polygender', 'polyphenols', 'pomegranate', 'pompeo', 'poncho', 'pond', 'pong', 'pontiac', 'pony', 'poo', 'poof', 'poofreader', 'pooh', 'pool', 'poop', 'pooped', 'pooper', 'pooping', 'poor', 'poorly', 'pop', 'popcorn', 'pope', 'popeye', 'poppadom', 'popped', 'poppin', 'popsicle', 'popular', 'popularity', 'popularize', 'populate', 'population', 'porcelain', 'porch', 'porcupine', 'pore', 'pork', 'porn', 'pornhub', 'porno', 'pornography', 'pornstar', 'port', 'portable', 'portion', 'portsmouth', 'pose', 'poser', 'position', 'positive', 'positively', 'posse', 'possession', 'possibility', 'possible', 'possibly', 'possum', 'post', 'poster', 'posterior', 'postings', 'postman', 'postmen', 'postmenopausal', 'postpartum', 'posture', 'pot', 'potassium', 'potato', 'potatoes', 'potential', 'potter', 'pottery', 'potty', 'pouch', 'poultry', 'pound', 'poundmetoo', 'pounds', 'pour', 'pours', 'poverty', 'powder', 'power', 'powered', 'powerful', 'powerhouse', 'powerless', 'powerpuff', 'powers', 'pox', 'ppl', 'ppls', 'practically', 'practice', 'practitioner', 'practor', 'prairie', 'praise', 'prank', 'prawn', 'prawns', 'pray', 'pray2win', 'prayer', 'prayers', 'prayin', 'praying', 'pre', 'preach', 'precept', 'precious', 'precipitation', 'precision', 'precondition', 'precubescent', 'predator', 'predict', 'predictability', 'predictor', 'predominant', 'predominantly', 'preese', 'preface', 'prefer', 'preference', 'prefers', 'prefix', 'preform', 'prefrontal', 'pregnancy', 'pregnant', 'prejudice', 'premarital', 'premature', 'prematurely', 'prematurity', 'premier', 'premiere', 'premium', 'prenatal', 'prep', 'preparation', 'prepare', 'prepared', 'prequel', 'prescribed', 'prescribes', 'prescription', 'presence', 'present', 'presentation', 'presenting', 'preservation', 'preserve', 'preserver', 'presidency', 'president', 'presidential', 'presidents', 'presley', 'press', 'pressors', 'pressure', 'presume', 'presumptuous', 'pretend', 'pretending', 'pretentious', 'pretlow', 'pretreatment', 'prettiest', 'pretty', 'pretzel', 'prevent', 'prevention', 'prevents', 'previous', 'previously', 'prey', 'price', 'priceless', 'pricing', 'pride', 'prideand', 'priest', 'prieto', 'primal', 'primarily', 'primary', 'primate', 'prime', 'primer', 'prince', 'princess', 'principal', 'principle', 'pringles', 'print', 'printer', 'printing', 'prior', 'prioritize', 'prioritizes', 'priority', 'prism', 'prismatic', 'prison', 'prisoner', 'prisons', 'prius', 'privacy', 'private', 'privately', 'privilege', 'prize', 'pro', 'proactively', 'probably', 'problem', 'problems', 'probonoasl', 'procedure', 'proceed', 'proceedings', 'proceeds', 'process', 'processing', 'procession', 'procollagen', 'procrastinate', 'procrastination', 'proctologist', 'produce', 'producer', 'product', 'production', 'productive', 'prof', 'profanity', 'profession', 'professional', 'professor', 'profile', 'profit', 'profitable', 'profound', 'program', 'progress', 'progressive', 'prohibit', 'prohibition', 'project', 'prolong', 'prolongs', 'prom', 'promiscuous', 'promise', 'promises', 'promo', 'promote', 'promotes', 'promoting', 'promotion', 'prompt', 'promptly', 'pronoun', 'pronounce', 'proof', 'prop', 'proper', 'properly', 'property', 'prophecy', 'prophet', 'prophets', 'proportion', 'proposal', 'propose', 'prospector', 'prosper', 'prosperity', 'prostate', 'prosthetic', 'prosthetics', 'prostitue', 'prostitute', 'prostitution', 'protect', 'protection', 'protective', 'protects', 'protein', 'proteolytic', 'protest', 'protestants', 'protester', 'protestors', 'protip', 'protocol', 'proud', 'proudly', 'prove', 'proven', 'proverbs', 'provide', 'providence', 'provider', 'providers', 'provoke', 'prowl', 'prozac', 'prunes', 'ps', 'ps3', 'ps4', 'psa', 'psalm', 'psalms', 'psilocybin', 'pst', 'psychiatrist', 'psychiatrists', 'psychic', 'psycho', 'psychoactive', 'psychological', 'psychologically', 'psychologist', 'psychology', 'pterodactyl', 'pub', 'puberty', 'pubes', 'public', 'publication', 'publicist', 'publicly', 'publish', 'publisher', 'puddle', 'puffed', 'puffiness', 'pugnaciously', 'puke', 'puked', 'pull', 'pulled', 'pulley', 'pullin', 'pulling', 'pulp', 'puma', 'pump', 'pumpkin', 'pun', 'punch', 'punchline', 'punctuation', 'punish', 'punishes', 'punishment', 'punk', 'puns', 'pupil', 'puppet', 'puppy', 'purchase', 'pure', 'purnell', 'purple', 'purpose', 'purposely', 'purrrgatory', 'purse', 'pursue', 'pursuit', 'purty', 'push', 'puss', 'pussay', 'pussy', 'put', 'putin', 'putting', 'puzzle', 'pyfagoras', 'pygmy', 'pyramid', 'pyromaniac', 'q1', 'q10', 'q2', 'q3', 'q4', 'q5', 'q6', 'qaaeda', 'qaeda', 'qna', 'qsdnz6tl', 'qsncnmqs', 'quack', 'quacks', 'quadruple', 'quaid', 'quail', 'qualify', 'quality', 'quantify', 'quantum', 'quarantine', 'quarrel', 'quarter', 'quarterback', 'quartet', 'que', 'queda', 'queen', 'queens', 'queer', 'queerness', 'query', 'queso', 'quest', 'question', 'quiche', 'quick', 'quicker', 'quickly', 'quiet', 'quieter', 'quietest', 'quietly', 'quilted', 'quilty', 'quinoa', 'quit', 'quite', 'quits', 'quitting', 'quote', 'quotes', 'quran', 'quranosaurus', 'qué', 'rabbi', 'rabbit', 'raccoon', 'race', 'racey', 'racial', 'racially', 'racing', 'racism', 'racist', 'rack', 'racket', 'raconteurs', 'radcliffe', 'radical', 'radicalization', 'radically', 'radicals', 'radio', 'radium', 'radius', 'rady', 'rag', 'rage', 'raid', 'rail', 'railroad', 'rain', 'rainbow', 'raincoat', 'raining', 'raise', 'raised', 'raisin', 'raisins', 'raj', 'rally', 'ram', 'ramadan', 'ramen', 'ramirez', 'rampage', 'rampone', 'ran', 'ranch', 'random', 'randomly', 'randy', 'rang', 'range', 'rank', 'ranked', 'rankine', 'rant', 'rap', 'rape', 'rapinoe', 'rapper', 'rappi', 'rapport', 'rare', 'rarely', 'rarest', 'rat', 'rate', 'rather', 'rave', 'raw', 'rawmen', 'ray', 'razor', 'rda', 're', 'reach', 'reaching', 'reaction', 'read', 'reader', 'reading', 'ready', 'real', 'realise', 'realistic', 'reality', 'realize', 'realizing', 'really', 'reaper', 'rearrange', 'reason', 'rebecca', 'rebuild', 'recede', 'receive', 'receives', 'recent', 'recently', 'reception', 'recipe', 'recital', 'recognition', 'recognize', 'recommend', 'recommendation', 'reconnect', 'record', 'recover', 'recovery', 'recycle', 'red', 'redcross', 'redefine', 'redneck', 'reduce', 'reduces', 'reduction', 'reed', 'reel', 'reese', 'reeves', 'refer', 'reference', 'refill', 'reflect', 'reflection', 'reflex', 'refresh', 'refreshment', 'refrigerator', 'refuse', 'regard', 'regardless', 'regenerate', 'regenerates', 'regeneration', 'regime', 'region', 'regional', 'register', 'registered', 'registration', 'regret', 'regrets', 'regrettable', 'regrow', 'regrows', 'regular', 'regularly', 'regulate', 'regulates', 'reheat', 'reich', 'reilly', 'reindeer', 'reinforcement', 'reintroduce', 'reiterate', 'reject', 'rejection', 'rejoice', 'rejoices', 'relapse', 'relatable', 'relate', 'related', 'relates', 'relation', 'relationship', 'relationships', 'relative', 'relatively', 'relax', 'relaxed', 'relaxes', 'relaxing', 'relay', 'release', 'releasing', 'relentless', 'relentlessly', 'relevant', 'reliably', 'relief', 'relies', 'relieve', 'religion', 'religious', 'reluctant', 'rely', 'remain', 'remains', 'remake', 'remark', 'remarkable', 'remedy', 'remember', 'remembers', 'remembrance', 'remind', 'reminder', 'reminds', 'remission', 'remix', 'remorse', 'remortgaging', 'remote', 'removal', 'remove', 'removes', 'renaissance', 'rename', 'render', 'renew', 'reno', 'renovate', 'renovation', 'rent', 'rental', 'reoccurring', 'repair', 'repay', 'repeat', 'repeatedly', 'repentant', 'repetitive', 'replace', 'replacements', 'replacing', 'replay', 'reply', 'report', 'reportedly', 'reporter', 'reporting', 'repossess', 'reposted', 'represent', 'representation', 'representative', 'reproduction', 'reptile', 'republic', 'republican', 'reputation', 'request', 'requiem', 'require', 'requirement', 'rerouting', 'rerun', 'rescue', 'research', 'researcher', 'researchers', 'resemble', 'resent', 'reserection', 'reservation', 'reserve', 'reset', 'residual', 'resilience', 'resist', 'resistance', 'resistant', 'resolutions', 'resolve', 'resource', 'resourcefulness', 'resources', 'resourcesthe', 'respect', 'respectable', 'respected', 'respectively', 'respiratory', 'respond', 'responder', 'responding', 'responds', 'response', 'responsibility', 'responsible', 'rest', 'restart', 'restaurant', 'restore', 'restrain', 'restraining', 'restriction', 'restroom', 'restructure', 'result', 'resume', 'resurrect', 'resveratrol', 'ret', 'retain', 'retard', 'retinol', 'retire', 'retirement', 'retreat', 'retrieve', 'retroactively', 'return', 'returns', 'retweet', 'retweets', 'reunion', 'reunite', 'reunited', 'reupload', 'reveal', 'reveals', 'revenge', 'revenue', 'reversal', 'reverse', 'review', 'revisionism', 'revival', 'revive', 'revolt', 'revolution', 'revolve', 'revolves', 'reward', 'rewind', 'rework', 'rex', 'rey', 'reymer', 'reynolds', 'rhapsody', 'rhino', 'rhinoceros', 'rhode', 'rhombus', 'rhonda', 'rhubarb', 'rhyme', 'rib', 'ribeye', 'rice', 'rich', 'richard', 'richest', 'rick', 'rickpat', 'rid', 'riddle', 'ride', 'riders', 'ridicule', 'ridiculous', 'riding', 'rifle', 'right', 'righteous', 'rights', 'righty', 'rigonal', 'rihanna', 'rim', 'rincolns', 'ring', 'ringed', 'ringlet', 'ringo', 'riot', 'rioting', 'rip', 'ripe', 'ripped', 'rise', 'rises', 'risk', 'risky', 'rite', 'rival', 'river', 'rivera', 'riverside', 'rmscs', 'rmscswim', 'rn', 'road', 'roadside', 'roald', 'roam', 'roamin', 'roast', 'rob', 'robbed', 'robber', 'robbery', 'robe', 'robert', 'roberto', 'roberts', 'robin', 'robinson', 'robo', 'robocop', 'robot', 'robotic', 'robotics', 'robust', 'robyn', 'rock', 'rocketman', 'rockstar', 'rod', 'rode', 'rodeo', 'rodgers', 'rodrigo', 'rodriquez', 'rofl', 'rogers', 'rohypnol', 'rolaids', 'role', 'roleplay', 'rolex', 'roll', 'rolled', 'roller', 'rollerblade', 'rolls', 'romaine', 'roman', 'romance', 'romania', 'romans', 'romantic', 'rome', 'romps', 'ron', 'ronald', 'ronstar', 'roof', 'roofer', 'rooftop', 'rookie', 'room', 'roomba', 'roommate', 'roosevelt', 'rooster', 'root', 'rope', 'rose', 'rosehip', 'rosemary', 'rosemond', 'rosenbaum', 'roses', 'rosh', 'roster', 'rot', 'rotate', 'rotates', 'rotten', 'rough', 'roughly', 'roulette', 'round', 'routine', 'rover', 'row', 'rowdy', 'rowling', 'royal', 'royalty', 'royce', 'rt', 'rub', 'rubbed', 'rubber', 'rude', 'rudely', 'ruin', 'rule', 'rules', 'rumor', 'run', 'runner', 'runny', 'rush', 'rushmore', 'russia', 'russian', 'russians', 'ryan', 'sack', 'sacrifice', 'sad', 'sadden', 'sadly', 'sadness', 'safe', 'safeguard', 'safer', 'safety', 'sag', 'said', 'sail', 'sailboat', 'sailor', 'saint', 'salaah', 'salad', 'salama', 'salary', 'sale', 'salesman', 'salesmen', 'salieri', 'salivary', 'sally', 'salm', 'salmon', 'salon', 'salsa', 'salt', 'saltnpeppa', 'salty', 'sam', 'samantha', 'sambulance', 'same', 'sameyou', 'samosa', 'sample', 'samsung', 'samuel', 'samurai', 'san', 'sanctimonious', 'sanctioned', 'sanctuary', 'sand', 'sandcastle', 'sanders', 'sandra', 'sandwich', 'sandy', 'sang', 'sanitize', 'sanjay', 'sanjeev', 'sank', 'santa', 'santos', 'sapien', 'sapiens', 'sara', 'sarah', 'sarcasm', 'sarcastic', 'sarcastically', 'sash', 'sassy', 'sat', 'satan', 'satanic', 'satanist', 'satellite', 'satiation', 'satisfaction', 'satisfactory', 'satisfied', 'satisfy', 'saturate', 'saturday', 'saturn', 'sauce', 'saudi', 'sauerbrunn', 'saul', 'saunabout', 'saunter', 'sausage', 'savage', 'savant', 'save', 'saved', 'saving', 'savior', 'saw', 'sax', 'say', 'sayin', 'saying', 'says', 'sbad', 'scale', 'scalp', 'scaly', 'scammer', 'scandal', 'scandinavian', 'scanner', 'scar', 'scarabic', 'scarcity', 'scare', 'scarecrow', 'scarf', 'scarlet', 'scarlett', 'scary', 'scatter', 'scenario', 'scene', 'scenes', 'scent', 'scenter', 'schedule', 'scheme', 'schemer', 'schizophrenia', 'schizophrenic', 'schmear', 'scholar', 'scholars', 'scholarship', 'school', 'schools', 'schubert', 'schwarzenegger', 'sci', 'science', 'sciences', 'scientific', 'scientist', 'scientists', 'scientology', 'scifi', 'scissors', 'scoff', 'scooby', 'scoop', 'scoot', 'score', 'scorn', 'scornful', 'scotch', 'scotsman', 'scotsmen', 'scottish', 'scotty', 'scotus', 'scout', 'scrabble', 'scramble', 'scraper', 'scratch', 'scream', 'screams', 'screech', 'screeching', 'screen', 'screenplay', 'screw', 'script', 'scroll', 'scrub', 'scrubs', 'scumbag', 'sdcc', 'sderot', 'sea', 'seacrest', 'seafood', 'seal', 'seaman', 'sean', 'search', 'sears', 'seashell', 'seashore', 'season', 'season10', 'seat', 'seater', 'seattle', 'seaweed', 'sec', 'secessions', 'second', 'secret', 'secrete', 'secretive', 'secretly', 'sect', 'section', 'sector', 'secure', 'security', 'sedative', 'seduce', 'seducer', 'seduction', 'see', 'seed', 'seeds', 'seedy', 'seeing', 'seek', 'seeker', 'seeking', 'seem', 'seems', 'seesaw', 'seet', 'segale', 'segev', 'segment', 'segregate', 'seinfeld', 'seize', 'seizure', 'select', 'selective', 'selena', 'selenium', 'self', 'selfie', 'selfies', 'selfishness', 'selfless', 'sell', 'seller', 'selling', 'sellout', 'selma', 'seltzer', 'semantic', 'semen', 'semi', 'semicolon', 'seminar', 'semitics', 'senate', 'senator', 'send', 'sending', 'sends', 'senile', 'senior', 'senority', 'sens', 'sensation', 'sense', 'sensitive', 'sensitivity', 'sensitize', 'sensory', 'sensuality', 'sent', 'sentence', 'sentiment', 'seoul', 'separate', 'seperates', 'sept', 'september', 'septic', 'serena', 'serengeti', 'serf', 'serge', 'sergeant', 'serial', 'series', 'serious', 'seriously', 'serkis', 'serotonin', 'servant', 'serve', 'service', 'services', 'serving', 'servitude', 'sesame', 'session', 'sessions', 'set', 'setting', 'settle', 'settlement', 'settlers', 'setup', 'seuss', 'seven', 'seventh', 'several', 'severe', 'severely', 'severly', 'sewage', 'sewer', 'sex', 'sexier', 'sexiest', 'sext', 'sextant', 'sexual', 'sexuality', 'sexualization', 'sexually', 'sexy', 'sexyphone', 'sf', 'sga', 'sguar', 'shabbat', 'shade', 'shades', 'shadow', 'shady', 'shake', 'shaker', 'shakespeare', 'shaking', 'shakira', 'shall', 'shallow', 'sham', 'shame', 'shamed', 'shampoo', 'shana', 'shanah', 'shane', 'shape', 'shaped', 'shaq', 'shaquille', 'shard', 'share', 'shared', 'shark', 'sharks', 'sharon', 'sharona', 'sharp', 'sharpie', 'shatter', 'shave', 'shawn', 'shaytaan', 'she', 'shea', 'sheboygan', 'sheep', 'sheepdog', 'sheepishly', 'sheeran', 'sheesh', 'sheet', 'sheik', 'sheikh', 'shelf', 'shell', 'shelton', 'shepherd', 'sheppy', 'sheriff', 'sherlock', 'sherlockian', 'shero', 'sheroes', 'shes', 'sheâ', 'shhh', 'shhhh', 'shhhhhh', 'shia', 'shift', 'shiiiiiiit', 'shin', 'shindig', 'shine', 'shining', 'shiny', 'ship', 'shipment', 'shirenara', 'shirt', 'shirtless', 'shisha', 'shit', 'shitfaced', 'shitpotle', 'shitshow', 'shitty', 'shiva', 'shiver', 'shmuel', 'shock', 'shocked', 'shoe', 'shoebox', 'shoed', 'shoehorn', 'shooed', 'shoot', 'shooter', 'shooting', 'shop', 'shoplift', 'shoplifting', 'shopping', 'shore', 'short', 'shortage', 'shortcut', 'shorten', 'shorter', 'shot', 'should', 'shoulder', 'shout', 'shoutout', 'shove', 'shovel', 'show', 'shower', 'showers', 'shrek', 'shriek', 'shrink', 'shrug', 'shut', 'shy', 'sibling', 'sick', 'side', 'sidekick', 'sidewalk', 'sigh', 'sight', 'sign', 'signal', 'significant', 'significantly', 'signing', 'silence', 'silencer', 'silent', 'silently', 'silhouette', 'silicon', 'silly', 'sillyantro', 'silver', 'silverback', 'silverware', 'simba', 'similar', 'simliar', 'simple', 'simplest', 'simpleton', 'simply', 'simpson', 'simpsons', 'sims', 'simulator', 'sin', 'sinatra', 'since', 'sincere', 'sincerely', 'sincerest', 'sincerity', 'sine', 'sing', 'singapore', 'singer', 'singers', 'singh', 'singing', 'single', 'sings', 'sink', 'sinking', 'sins', 'sinus', 'sip', 'sir', 'sirhud', 'siri', 'sister', 'sisty', 'sit', 'sitars', 'sitcom', 'site', 'sits', 'sitter', 'sitting', 'situation', 'six', 'sixth', 'sizable', 'size', 'sized', 'skate', 'skateboard', 'skele', 'skeleton', 'skeletons', 'sketch', 'sketchy', 'ski', 'skiing', 'skill', 'skin', 'skinny', 'skip', 'skipper', 'skit', 'skull', 'skunk', 'sky', 'skydive', 'skydiver', 'skydives', 'skyline', 'skyscraper', 'slack', 'slam', 'slang', 'slap', 'slappin', 'slappy', 'slash', 'slate', 'slave', 'slavery', 'slay', 'slayyyter', 'sleep', 'sleeping', 'sleepwalker', 'sleeve', 'sleigh', 'slept', 'slice', 'slide', 'slight', 'slightly', 'slim', 'slime', 'slimy', 'slinky', 'slip', 'slippery', 'slit', 'slope', 'slosh', 'slot', 'slouch', 'slow', 'slowly', 'slows', 'sluggish', 'slur', 'slut', 'slutty', 'small', 'smallpox', 'smalls', 'smart', 'smarter', 'smartest', 'smartphone', 'smash', 'smell', 'smellular', 'smelly', 'smh', 'smile', 'smiley', 'smiling', 'smith', 'smoke', 'smoker', 'smoking', 'smooth', 'smug', 'smuggle', 'smuggler', 'snack', 'snail', 'snake', 'snakes', 'snap', 'snapper', 'snapple', 'snarl', 'snatch', 'sneak', 'sneaker', 'sneaky', 'sneeze', 'snickerdoodle', 'sniffer', 'snigger', 'sniper', 'snoop', 'snore', 'snort', 'snot', 'snow', 'snowballs', 'snowblower', 'snowblowing', 'snowflake', 'snowlady', 'snowman', 'snowshoe', 'snuck', 'snuff', 'so', 'soak', 'soap', 'soar', 'sob', 'sober', 'sobriety', 'soccer', 'sociable', 'social', 'societal', 'society', 'socioeconomic', 'sociology', 'sock', 'socket', 'soda', 'sodium', 'sofa', 'sofishticated', 'soft', 'soften', 'softens', 'softest', 'software', 'solar', 'soldier', 'solely', 'solid', 'solidarity', 'solitary', 'solnit', 'solo', 'solowitz', 'soluble', 'solution', 'solve', 'solved', 'solving', 'somber', 'some', 'somebody', 'someday', 'somehow', 'someone', 'someplace', 'something', 'somethings', 'sometime', 'sometimes', 'somewhat', 'somewhere', 'somolian', 'son', 'sonblock', 'sondheim', 'song', 'songwriter', 'sonia', 'sonic', 'sony', 'soon', 'sooo', 'soop', 'soothe', 'soothes', 'sopita', 'sopranos', 'sorbitol', 'sorbo', 'sore', 'sorrow', 'sorry', 'sort', 'sotomayor', 'souffle', 'sought', 'soul', 'soulmate', 'soulmates', 'sound', 'soundly', 'soundtrack', 'soup', 'sour', 'source', 'sourdough', 'south', 'southeast', 'southeastern', 'southerland', 'southern', 'southerner', 'southwest', 'soviet', 'soy', 'soymilky', 'sp', 'space', 'spacebar', 'spacecraft', 'spaces', 'spaceship', 'spacesuit', 'spaghetti', 'spaghetto', 'spain', 'spam', 'span', 'spanish', 'spank', 'spanking', 'spar', 'spare', 'spark', 'sparkling', 'sparks', 'sparticus', 'spat', 'speak', 'speaker', 'speaks', 'spear', 'spec', 'special', 'specialist', 'specialize', 'specialized', 'specially', 'specie', 'species', 'specific', 'specifically', 'specify', 'specimen', 'spectator', 'spectrum', 'speculation', 'speech', 'speechless', 'speed', 'speedo', 'spell', 'spellcheck', 'spelling', 'spend', 'spending', 'spends', 'spent', 'speople', 'sperm', 'sperson', 'sphere', 'sphinxter', 'spic', 'spice', 'spicy', 'spider', 'spiderweb', 'spielberg', 'spill', 'spin', 'spinach', 'spine', 'spirit', 'spiritual', 'spit', 'split', 'spn', 'spnfamily', 'spock', 'spoil', 'spoiler', 'spoke', 'spoken', 'spokesman', 'sponge', 'spongebob', 'sponsor', 'sponsorship', 'spoon', 'sport', 'spot', 'spotify', 'spouse', 'sprain', 'spray', 'spread', 'spring', 'springs', 'sprinkle', 'sprint', 'spy', 'squad', 'square', 'squash', 'squeeze', 'squirrel', 'squirrels', 'squirt', 'sswimmeetsaturdays', 'st', 'stab', 'stable', 'staff', 'stage', 'stain', 'stair', 'stake', 'stall', 'stan', 'stand', 'standard', 'standing', 'star', 'starbucks', 'stare', 'stars', 'start', 'started', 'starter', 'starting', 'startle', 'starve', 'state', 'statement', 'states', 'station', 'statistic', 'statistically', 'statistics', 'statue', 'status', 'stave', 'stay', 'stayed', 'staying', 'stds', 'steady', 'steak', 'steakhouse', 'steal', 'stealth', 'steam', 'stedman', 'steel', 'steely', 'steer', 'stegosaurus', 'stei', 'steinbeck', 'stem', 'stenson', 'step', 'stepbrother', 'stephan', 'stephen', 'stepping', 'stereo', 'stereotype', 'stern', 'sternly', 'steve', 'steven', 'stevie', 'stewart', 'sthinking', 'stick', 'sticker', 'sticking', 'sticky', 'stiff', 'stigma', 'still', 'stimulate', 'stimulates', 'sting', 'stink', 'stir', 'stirrup', 'stitch', 'stock', 'stockholm', 'stocking', 'stockpile', 'stoke', 'stole', 'stollen', 'stomach', 'stomp', 'ston', 'stone', 'stoner', 'stones', 'stood', 'stool', 'stop', 'stopped', 'storage', 'store', 'storefront', 'storied', 'stories', 'stork', 'storm', 'stormy', 'story', 'storytelling', 'stout', 'stove', 'straight', 'strain', 'strand', 'strange', 'stranger', 'strap', 'strategy', 'straw', 'strawberry', 'strawpocalypse', 'streak', 'streaker', 'stream', 'street', 'strength', 'strengthen', 'strengthened', 'strengthens', 'stress', 'stressful', 'stressor', 'stretch', 'strict', 'strictly', 'strike', 'strikes', 'striking', 'string', 'strip', 'stripe', 'stripes', 'stripper', 'strippers', 'strive', 'stroganoff', 'stroke', 'stroll', 'stroller', 'strong', 'strongly', 'struck', 'structural', 'structure', 'struggle', 'stubborn', 'stuck', 'stud', 'student', 'studies', 'studio', 'studios', 'study', 'stuff', 'stuffed', 'stuffing', 'stuffy', 'stumble', 'stump', 'stun', 'stung', 'stunt', 'stuntmen', 'stupid', 'stupidity', 'sturgeon', 'sturgill', 'stutter', 'style', 'stylus', 'su', 'sub', 'subatomic', 'subconscious', 'subject', 'subjective', 'subjugate', 'submarine', 'submit', 'subreddit', 'subscribe', 'subsequent', 'subsidy', 'substance', 'substantial', 'substantially', 'substantiate', 'substitute', 'substitution', 'subtitle', 'subtle', 'subtly', 'subtract', 'suburban', 'subversive', 'subway', 'succeed', 'success', 'successful', 'successfull', 'successfully', 'succession', 'suck', 'sucker', 'sucks', 'sudden', 'suddenly', 'sue', 'suffer', 'suffering', 'sufferingâ', 'suffers', 'suffice', 'suffocate', 'suffolk', 'sugar', 'sugary', 'suggest', 'suggestion', 'suggests', 'suicidal', 'suicide', 'suit', 'sulphur', 'sum', 'summarize', 'summer', 'summit', 'summon', 'sun', 'sunbathes', 'sunburnt', 'sundae', 'sundance', 'sunday', 'sunflower', 'sunglass', 'sunny', 'sunrise', 'sunscreen', 'sunset', 'sunshine', 'sup', 'super', 'superbad', 'superficial', 'superhero', 'superheroes', 'superintendent', 'superior', 'superiority', 'superman', 'supermarket', 'supermodel', 'supermom', 'supermoon', 'supernatura', 'supernatural', 'supersensitive', 'supersoul', 'superstition', 'supervision', 'supper', 'supplement', 'supplies', 'supply', 'support', 'supporter', 'supportive', 'suppose', 'supposedly', 'suppository', 'suppress', 'suppresses', 'suppression', 'supremacy', 'supreme', 'supressed', 'supression', 'sure', 'surely', 'surf', 'surface', 'surfer', 'surgeon', 'surgery', 'surprise', 'surprised', 'surprising', 'surprisingly', 'surrender', 'surround', 'surveillance', 'survey', 'survival', 'survive', 'survivor', 'susan', 'susanna', 'susceptible', 'sushi', 'suspect', 'suspense', 'suspicion', 'suspicious', 'sustain', 'sustainability', 'suture', 'suv', 'svc', 'swain', 'swallow', 'swam', 'swap', 'swarm', 'sway', 'swear', 'swears', 'sweat', 'sweater', 'sweating', 'sweatpants', 'sweaty', 'sweden', 'swedeners', 'sweet', 'sweeter', 'sweetest', 'sweetheart', 'sweetie', 'sweetner', 'swell', 'swift', 'swiftly', 'swig', 'swim', 'swimcary2016', 'swimmer', 'swimming', 'swing', 'swipe', 'swiss', 'switch', 'switching', 'switzerland', 'swivel', 'sword', 'swordmaker', 'swore', 'sworn', 'swung', 'sykes', 'syllable', 'symbol', 'symphony', 'symposium', 'symptom', 'symptomatic', 'synaesthesia', 'synapsis', 'sync', 'syncs', 'syndrome', 'synonym', 'syphilis', 'syriana', 'syrup', 'system', 'systematically', 'systemic', 'ta', 'tab', 'tabacky', 'table', 'tablespoon', 'tablet', 'taboo', 'tac', 'tackle', 'taco', 'tactic', 'tag', 'tahini', 'tail', 'tailgate', 'tailor', 'takashawa', 'take', 'takeaways', 'taking', 'takiwatanga', 'tale', 'talent', 'talented', 'taliban', 'talk', 'talkative', 'talked', 'talkie', 'talking', 'talky', 'tall', 'taller', 'tallest', 'tame', 'tamer', 'tampax', 'tampon', 'tan', 'tanco', 'tandem', 'tangible', 'tangled', 'tank', 'tannins', 'tans', 'tantric', 'tantrum', 'tap', 'tapatio', 'tape', 'taped', 'taquitos', 'tardy', 'tareq', 'target', 'targeted', 'tariff', 'tart', 'tarzan', 'taser', 'task', 'taste', 'tat', 'tattle', 'tattoo', 'tattooed', 'taught', 'taurus', 'tawny', 'tax', 'taxi', 'taxidermist', 'taylor', 'taymiyyah', 'tb', 'tea', 'teach', 'teacher', 'teaching', 'teacup', 'team', 'teamfollowback', 'teapot', 'tear', 'tears', 'teary', 'tease', 'teaser', 'teaspoon', 'teaspoons', 'tech', 'techie', 'technical', 'technically', 'technician', 'technicolor', 'technique', 'technology', 'tecrash', 'ted', 'tee', 'teehee', 'teen', 'teenage', 'teenager', 'teeth', 'teethbrush', 'tel', 'telegram', 'telephone', 'telescope', 'telescopes', 'television', 'telfar', 'tell', 'teller', 'telling', 'temper', 'temperature', 'temple', 'temporarily', 'temporary', 'tempt', 'ten', 'tenants', 'tend', 'tendency', 'tender', 'tends', 'tenne', 'tennessean', 'tennesseans', 'tennessee', 'tennis', 'tense', 'tension', 'tent', 'tenth', 'tequila', 'tequillllaaaa', 'terabyte', 'terentius', 'term', 'terminal', 'terminator', 'terminators', 'terraform', 'terri', 'terrible', 'terribly', 'terrific', 'terrify', 'terrorist', 'terrorists', 'tesla', 'test', 'testament', 'testicle', 'testifies', 'testify', 'testosterone', 'tests', 'texas', 'text', 'texted', 'texting', 'texture', 'tf', 'tgnc', 'thai', 'thailand', 'thais', 'thal', 'than', 'thank', 'thankful', 'thankfully', 'thanks', 'thanksgiving', 'thanx', 'that', 'thatmmmmmmm', 'thats', 'the', 'theanine', 'theater', 'theatre', 'thebron', 'theft', 'their', 'thekin', 'them', 'theme', 'then', 'theorist', 'theory', 'therapeutic', 'therapist', 'therapy', 'there', 'therefore', 'thereof', 'theresa', 'thermostat', 'theron', 'thesaurus', 'these', 'they', 'theyd', 'thicc', 'thick', 'thicken', 'thief', 'thieves', 'thigh', 'thin', 'thing', 'things', 'thingy', 'think', 'thinking', 'third', 'thirds', 'thirst', 'thirsty', 'thirty', 'this', 'tho', 'thomas', 'thorn', 'thorough', 'thoroughly', 'those', 'though', 'thought', 'thoughts', 'thousand', 'thread', 'threat', 'threaten', 'threatens', 'three', 'threesome', 'threw', 'thrice', 'thrill', 'thrilled', 'thrive', 'throat', 'throne', 'thrones', 'through', 'throughout', 'throw', 'thrown', 'thru', 'thug', 'thumb', 'thunder', 'thunderstorm', 'thunderwear', 'thurman', 'thursday', 'thus', 'thxandlove', 'thyme', 'thyroid', 'tiaras', 'tibet', 'tibetan', 'tic', 'tick', 'ticket', 'tickets', 'tickle', 'tide', 'tie', 'tiger', 'tigers', 'tigger', 'tight', 'tighty', 'tijuana', 'til', 'tile', 'till', 'tim', 'timber', 'timberlake', 'timbly', 'time', 'timed', 'timeless', 'timeline', 'timeout', 'timer', 'times', 'timing', 'timmy', 'timothy', 'tin', 'tina', 'tinder', 'ting', 'tiny', 'tip', 'tire', 'tired', 'tis', 'tissue', 'tit', 'titanic', 'title', 'titles', 'titty', 'tmrw', 'tnt', 'to', 'toast', 'toaster', 'tobacco', 'toblerone', 'tocks', 'today', 'todd', 'toddler', 'toddlers', 'toe', 'toenail', 'toes', 'tofurkey', 'together', 'toilet', 'tokyo', 'tolbert', 'told', 'tolerance', 'tolerant', 'tolerate', 'tolkien', 'tom', 'tomato', 'tomatoes', 'tomer', 'tomlinson', 'tommy', 'tomorrow', 'ton', 'tonal', 'tone', 'toner', 'tongue', 'toni', 'tonigh', 'tonight', 'tony', 'too', 'toodles', 'took', 'tool', 'toot', 'tooter', 'tooth', 'toothbrush', 'toothbrushes', 'toothpaste', 'toothpick', 'tootin', 'top', 'topic', 'topical', 'topically', 'topics', 'topless', 'topper', 'topple', 'torchbearer', 'tores', 'tornado', 'toronto', 'torture', 'toss', 'tostada', 'total', 'totality', 'totally', 'toto', 'toucan', 'touch', 'tough', 'toughest', 'toupee', 'tour', 'tourette', 'tourettes', 'touring', 'tourist', 'tournament', 'tov', 'tova', 'tovah', 'toward', 'towards', 'towel', 'towels', 'tower', 'town', 'townsend', 'toxic', 'toxicity', 'toxin', 'toy', 'trabajo', 'trace', 'track', 'tract', 'tractor', 'trade', 'trader', 'tradition', 'traditional', 'traditionally', 'traffic', 'tragedy', 'tragic', 'trail', 'trailer', 'train', 'trainer', 'training', 'trainor', 'trait', 'trajectory', 'tramp', 'trample', 'trampoline', 'tranny', 'trans', 'transaction', 'transfemimine', 'transfer', 'transform', 'transformation', 'transformative', 'transformer', 'transfusion', 'transgender', 'transistor', 'transition', 'translates', 'translation', 'transmasculine', 'transmission', 'transparent', 'transplantation', 'transport', 'transsexual', 'transvestite', 'trap', 'trash', 'trashy', 'trauma', 'traumatic', 'travel', 'traveler', 'traveling', 'tread', 'treadmill', 'treasure', 'treat', 'treatable', 'treating', 'treatment', 'tree', 'trees', 'tremaine', 'tremendous', 'trend', 'trendsetters', 'trendy', 'trepaliare', 'tres', 'tresbien', 'trespass', 'trespasser', 'trevi', 'treyvon', 'tri', 'trial', 'trials', 'tribe', 'tribute', 'trick', 'tricked', 'tricycle', 'tried', 'trigger', 'triggernometry', 'triggertreat', 'trillion', 'trilogy', 'trim', 'trip', 'tripadvisor', 'triple', 'tripped', 'trippin', 'triumphant', 'triumphantly', 'trivia', 'trivial', 'trois', 'troll', 'trolley', 'trolling', 'troop', 'trophy', 'tropical', 'trouble', 'troubled', 'troubleshoot', 'trough', 'trouser', 'trouter', 'troy', 'truck', 'true', 'truly', 'truman', 'trunk', 'trust', 'trusted', 'truth', 'truthful', 'try', 'trycoxagin', 'tryin', 'trying', 'tryna', 'tryptophan', 'tsa', 'tsar', 'tsss', 'tub', 'tube', 'tubman', 'tubs', 'tuck', 'tucked', 'tuesday', 'tug', 'tumble', 'tumblr', 'tummy', 'tumor', 'tuna', 'tundra', 'tune', 'tuned', 'tunes', 'tunnel', 'tupperware', 'turban', 'turing', 'turkey', 'turkish', 'turn', 'turned', 'turnip', 'turnover', 'turns', 'turtle', 'tusk', 'tutankhamun', 'tutor', 'tv', 'tvs', 'twain', 'tweet', 'twelve', 'twenty', 'twice', 'twin', 'twins', 'twist', 'twitter', 'two', 'tws', 'ty', 'tyler', 'type', 'typical', 'typically', 'typo', 'tyrannosaurus', 'tyre', 'tyrone', 'tyson', 'uber', 'uc', 'udder', 'ufc', 'ugh', 'ugliest', 'ugly', 'uh', 'ujaama', 'ujima', 'uk', 'ukelele', 'ultimate', 'ultimately', 'ultrasonic', 'ultrasound', 'ultraviolet', 'um', 'uma', 'umami', 'umbrella', 'umm', 'ummm', 'ummmm', 'un', 'unable', 'unabomber', 'unacceptable', 'unafraid', 'unapologetically', 'unattainable', 'unattractive', 'unavailable', 'unbearable', 'unbelievable', 'unblock', 'uncertain', 'uncertainty', 'uncle', 'unclogs', 'uncomfortable', 'uncommon', 'unconditionally', 'unconscionable', 'unconscious', 'uncontrollable', 'uncontrollably', 'uncooked', 'uncool', 'uncuff', 'undemanding', 'under', 'undercooked', 'undercover', 'underestimate', 'undergo', 'underground', 'underneath', 'underperforms', 'underprivileged', 'understand', 'understanding', 'understands', 'understood', 'underwater', 'underwear', 'undetected', 'undisturbed', 'undivided', 'undo', 'undone', 'undress', 'unease', 'unemployed', 'unemployment', 'unequal', 'unequivocally', 'unethical', 'unexpected', 'unexpectedly', 'unexplainable', 'unfair', 'unfairness', 'unfaithful', 'unfamiliar', 'unfettered', 'unflattering', 'unfold', 'unforeseen', 'unfortunate', 'unfortunately', 'unhappy', 'unhealthy', 'unhurt', 'unicorn', 'unicycle', 'uniform', 'unilever', 'unimaginable', 'unintended', 'uninterested', 'union', 'unipolar', 'unique', 'unit', 'united', 'universal', 'universe', 'universities', 'university', 'unjust', 'unknowable', 'unknown', 'unlatch', 'unleaded', 'unleash', 'unless', 'unlike', 'unlimited', 'unlit', 'unloaded', 'unlock', 'unmessable', 'unmissable', 'unmotivated', 'unnatural', 'unnecessarily', 'uno', 'unorthodox', 'unplanned', 'unplug', 'unprecedented', 'unpredictable', 'unprotected', 'unprovoked', 'unpublished', 'unquestionable', 'unravel', 'unrealistic', 'unrelated', 'unreliable', 'unresolved', 'unroll', 'unrolled', 'unsafe', 'unscrew', 'unsettle', 'unsolicited', 'unsolvable', 'unsolved', 'unspeakable', 'unstable', 'unsuccessful', 'unsung', 'unsure', 'untie', 'until', 'untold', 'unusual', 'unusually', 'unvaccinated', 'unveil', 'unwanted', 'unwrinkle', 'up', 'upcoming', 'update', 'upfront', 'upgrade', 'upholstery', 'upload', 'upon', 'upper', 'ups', 'upset', 'upside', 'ur', 'urge', 'urinal', 'urinate', 'urine', 'urn', 'us', 'usa', 'usain', 'usb', 'use', 'used', 'useful', 'useless', 'user', 'usher', 'using', 'usps', 'uss', 'ussr', 'usual', 'usually', 'utah', 'utensil', 'utility', 'utilize', 'utopia', 'uv', 'va', 'vacant', 'vacation', 'vaccinate', 'vaccine', 'vaccum', 'vacuum', 'vader', 'vagetarian', 'vagina', 'vaginal', 'vague', 'vaguely', 'val', 'valentine', 'valentines', 'valet', 'valhalla', 'validate', 'validation', 'valium', 'valley', 'valuable', 'value', 'vampire', 'vamps', 'van', 'vanessa', 'vanilla', 'vanquished', 'vanya', 'vanzant', 'vaping', 'vapor', 'vaporub', 'variable', 'varied', 'variety', 'various', 'varro', 'vase', 'vasectomy', 'vaseline', 'vast', 'vastness', 'vault', 'vaulter', 'vaxxer', 've', 'veg', 'vegan', 'vegas', 'vegatarian', 'vegetable', 'vegetables', 'vegetarian', 'vegetaryan', 'vehicle', 'veil', 'vell', 'velocity', 'vend', 'venereal', 'venom', 'venomous', 'venti', 'ventilation', 'ventilator', 'ventriloquist', 'venus', 'vera', 'verb', 'verbal', 'verdict', 'verily', 'verizon', 'vernon', 'verrone', 'versatile', 'verse', 'version', 'vertical', 'very', 'vessel', 'vest', 'vet', 'veteran', 'veterinarian', 'vey', 'vg', 'vh1', 'vhs', 'vi', 'via', 'viagra', 'vibe', 'vibes', 'vibrancy', 'vibrantly', 'vibrate', 'vibration', 'vice', 'vicious', 'vicks', 'victim', 'victims', 'victoria', 'victory', 'video', 'videogamer', 'vids', 'viet', 'vietnam', 'vietnamese', 'view', 'viewer', 'viggo', 'vigil', 'viking', 'vikings', 'vile', 'village', 'villain', 'villains', 'villians', 'vimeo', 'vincent', 'vinegar', 'vinson', 'vintage', 'vinyl', 'viola', 'violate', 'violation', 'violence', 'violent', 'violently', 'violet', 'violin', 'vip', 'viral', 'virgil', 'virgin', 'virginia', 'virginity', 'virgos', 'virtual', 'virtually', 'virus', 'visibility', 'vision', 'visit', 'visitor', 'visual', 'vit', 'vital', 'vitamin', 'vitamins', 'vits', 'voice', 'voiced', 'voicemail', 'void', 'volcano', 'volume', 'volunteer', 'vomit', 'voracious', 'vote', 'voter', 'voting', 'vow', 'vowel', 'vr', 'vs', 'vu', 'vulcan', 'vulnerability', 'vulnerable', 'vulture', 'vy', 'wack', 'wacky', 'wad', 'waddle', 'waddler', 'wafer', 'waffle', 'waffles', 'wage', 'wagon', 'wahb', 'waist', 'wait', 'waiter', 'waiting', 'waitlist', 'waitress', 'wakanda', 'wake', 'waking', 'wakunda', 'wal', 'waldman', 'waldo', 'wales', 'walgreens', 'walk', 'walked', 'walker', 'walkers', 'walkie', 'walkin', 'walking', 'walks', 'wall', 'waller', 'wallet', 'walmart', 'walmarts', 'walnuts', 'walrus', 'walt', 'walter', 'wan', 'wand', 'wander', 'wanders', 'want', 'wanted', 'wanting', 'war', 'warbirds', 'ward', 'warden', 'wardrobe', 'warehouse', 'warfare', 'wario', 'warm', 'warmer', 'warms', 'warn', 'warner', 'warning', 'warranty', 'wars', 'warsaw', 'warwick', 'was', 'wasbulance', 'wash', 'washer', 'washing', 'washington', 'washroom', 'wasnt', 'wasp', 'waste', 'waster', 'wasting', 'watch', 'watched', 'watcher', 'watchers', 'watching', 'water', 'watergate', 'waterhouse', 'watermelon', 'watermelons', 'waterproof', 'waterwe', 'watson', 'wattsapp', 'wave', 'wax', 'way', 'wayne', 'ways', 'wayyyyy', 'wazowski', 'we', 'weak', 'weaken', 'weaker', 'weakly', 'weakness', 'wealth', 'wealthy', 'weapon', 'wear', 'wearing', 'weather', 'weaver', 'web', 'webber', 'webmd', 'website', 'webster', 'wedding', 'weddings', 'wednesday', 'weed', 'week', 'weekday', 'weekend', 'weekends', 'weekly', 'weigh', 'weighs', 'weight', 'weird', 'weirder', 'weirdly', 'weirdo', 'welcome', 'well', 'wellbeing', 'wellness', 'welp', 'welsh', 'went', 'were', 'west', 'western', 'wet', 'whale', 'wham', 'what', 'whatever', 'whats', 'wheeeeeee', 'wheel', 'wheelchair', 'wheeze', 'when', 'whenever', 'where', 'whereby', 'wherever', 'whether', 'which', 'while', 'whilst', 'whine', 'whip', 'whisk', 'whiskey', 'whisper', 'whisperer', 'whistle', 'white', 'whiten', 'whiteness', 'whiter', 'whitney', 'who', 'whoa', 'whoever', 'whole', 'whore', 'whose', 'whosoever', 'why', 'wi', 'wicked', 'widdow', 'wide', 'widely', 'wider', 'widow', 'wiener', 'wife', 'wifely', 'wifey', 'wiffle', 'wifi', 'wig', 'wiggle', 'wikipedia', 'wilburn', 'wild', 'wilder', 'wildfire', 'wildlife', 'wildly', 'wilfully', 'will', 'william', 'williams', 'willie', 'willies', 'willing', 'willl', 'willy', 'wilmore', 'wilson', 'wimms', 'win', 'wind', 'windmill', 'window', 'winds', 'windscreen', 'windshield', 'wine', 'wing', 'wingmaning', 'wink', 'winky', 'winner', 'winnie', 'winning', 'winona', 'wins', 'winston', 'winter', 'wipe', 'wiper', 'wire', 'wired', 'wireland', 'wireless', 'wisconsin', 'wisdom', 'wise', 'wisely', 'wish', 'wishing', 'wit', 'witch', 'with', 'withdrawal', 'withholding', 'withholds', 'within', 'without', 'witness', 'witnesses', 'witty', 'wives', 'wizard', 'wizkhalifa', 'wizzy', 'wm', 'wo', 'woah', 'wobbing', 'woc', 'wodehouse', 'wok', 'woke', 'wolf', 'woman', 'womb', 'wombat', 'women', 'womens', 'wompers', 'wonder', 'wonderful', 'wonderland', 'wonderment', 'wong', 'wongs', 'wonka', 'wonna', 'wonton', 'woo', 'wood', 'woodchipper', 'woodchuck', 'wooden', 'woodpecker', 'woods', 'woodwind', 'woodwork', 'woodworm', 'woohoo', 'wop', 'word', 'wordplay', 'words', 'wore', 'work', 'workday', 'worked', 'worker', 'working', 'workoholism', 'workout', 'workplace', 'workshop', 'world', 'worlds', 'worldview', 'worldwide', 'worried', 'worry', 'worse', 'worser', 'worship', 'worshipper', 'worships', 'worst', 'worth', 'worthless', 'worthwhile', 'worthy', 'would', 'wound', 'wow', 'wrap', 'wreath', 'wrestle', 'wrestler', 'wrestling', 'wright', 'wrinkle', 'wrinkly', 'wrist', 'write', 'writer', 'writes', 'writing', 'written', 'wrong', 'wrongful', 'wrongfully', 'wrote', 'wtc', 'wtf', 'wth', 'wu', 'wurst', 'ww2', 'wwii', 'www', 'wyatt', 'wyoming', 'wyzeradio', 'xanax', 'xbox', 'xd', 'xii', 'xishun', 'xmas', 'xu', 'xxvii', 'ya', 'yacht', 'yahweh', 'yakuza', 'yale', 'yallah', 'yama', 'yank', 'yankee', 'yankees', 'yard', 'yates', 'yavin', 'yawn', 'yay', 'yazidi', 'yeah', 'year', 'yearly', 'yearns', 'years', 'yeast', 'yeganeh', 'yell', 'yellow', 'yeon', 'yep', 'yeppers', 'yes', 'yesterday', 'yet', 'yiqian', 'yo', 'yoda', 'yodas', 'yodel', 'yoga', 'yoghurt', 'yogurt', 'yoko', 'yolk', 'yom', 'york', 'yorkers', 'yoro', 'yosemite', 'yoshi', 'yoshisaur', 'you', 'youll', 'young', 'younger', 'your', 'yourself', 'youth', 'youthful', 'youtube', 'youuu', 'youâ', 'yr', 'yth', 'yu', 'yuck', 'yum', 'yung', 'yup', 'yutopia', 'zayda', 'zayn', 'zeal', 'zealand', 'zebra', 'zer', 'zero', 'zeus', 'zimmer', 'zinc', 'zip', 'ziploc', 'zipper', 'zippo', 'zippy', 'zombie', 'zombies', 'zombified', 'zone', 'zones', 'zoo', 'zookeeper', 'zookeepers', 'zuckerberg', 'zumba']\n",
      "(8000, 8000) (8000,)\n"
     ]
    }
   ],
   "source": [
    "print(vectorizer_2.get_feature_names())\n",
    "print(X_2.shape, y_2.shape)"
   ]
  },
  {
   "cell_type": "markdown",
   "metadata": {},
   "source": [
    "#### Pandas DataFrame for humor and humor rating"
   ]
  },
  {
   "cell_type": "markdown",
   "metadata": {},
   "source": []
  },
  {
   "cell_type": "code",
   "execution_count": 18,
   "metadata": {},
   "outputs": [
    {
     "name": "stdout",
     "output_type": "stream",
     "text": [
      "[[0 0 0 ... 0 0 0]\n",
      " [0 0 0 ... 0 0 0]\n",
      " [0 0 0 ... 0 0 0]\n",
      " ...\n",
      " [0 0 0 ... 0 0 0]\n",
      " [0 0 0 ... 0 0 0]\n",
      " [0 0 0 ... 0 0 0]]\n",
      "[[0 0 0 ... 0 0 0]\n",
      " [0 0 0 ... 0 0 0]\n",
      " [0 0 0 ... 0 0 0]\n",
      " ...\n",
      " [0 0 0 ... 0 0 0]\n",
      " [0 0 0 ... 0 0 0]\n",
      " [0 0 0 ... 0 0 0]]\n"
     ]
    }
   ],
   "source": [
    "# converting X (numpy array) to a pandas DataFrame\n",
    "dataset_nlp_rating = pd.DataFrame(X_2.tolist(), columns=vectorizer.get_feature_names())\n",
    "\n",
    "\n",
    "\n",
    "X_2 = dataset_nlp_rating.to_numpy()\n",
    "print(X_2)\n",
    "# missing values were replaced by NaN\n",
    "\n",
    "# replace NaN with 0\n",
    "np.nan_to_num(X_2, copy=False)\n",
    "print(X_2)"
   ]
  },
  {
   "cell_type": "code",
   "execution_count": 19,
   "metadata": {},
   "outputs": [
    {
     "data": {
      "text/plain": [
       "\"\\n# adding 'humor_rating' and 'humor_controversy' columns\\ndataset_nlp['humor_rating'] = dataset['humor_rating']\\ndataset_nlp['humor_controversy'] = dataset['humor_controversy']\\nprint(dataset_nlp.head())\\n\\nX = dataset_nlp.to_numpy()\\nprint(X)\\n# missing values were replaced by NaN\\n\\n# replace NaN with 0\\nnp.nan_to_num(X, copy=False)\\nprint(X)\""
      ]
     },
     "execution_count": 19,
     "metadata": {},
     "output_type": "execute_result"
    }
   ],
   "source": [
    "# converting X (numpy array) to a pandas DataFrame\n",
    "dataset_nlp = pd.DataFrame(X.tolist(), columns=vectorizer.get_feature_names())\n",
    "\"\"\"\n",
    "# adding 'humor_rating' and 'humor_controversy' columns\n",
    "dataset_nlp['humor_rating'] = dataset['humor_rating']\n",
    "dataset_nlp['humor_controversy'] = dataset['humor_controversy']\n",
    "print(dataset_nlp.head())\n",
    "\n",
    "X = dataset_nlp.to_numpy()\n",
    "print(X)\n",
    "# missing values were replaced by NaN\n",
    "\n",
    "# replace NaN with 0\n",
    "np.nan_to_num(X, copy=False)\n",
    "print(X)\"\"\""
   ]
  },
  {
   "cell_type": "markdown",
   "metadata": {},
   "source": [
    "## Split dataset into training and test sets"
   ]
  },
  {
   "cell_type": "code",
   "execution_count": 20,
   "metadata": {},
   "outputs": [
    {
     "name": "stdout",
     "output_type": "stream",
     "text": [
      "(6400, 8000) (6400,)\n",
      "(1600, 8000) (1600,)\n",
      "(6400, 8000) (6400,)\n",
      "(1600, 8000) (1600,)\n"
     ]
    }
   ],
   "source": [
    "\n",
    "from sklearn.model_selection import train_test_split\n",
    "\n",
    "X_train, X_test, y_train, y_test = train_test_split(X, y, test_size = 0.20, random_state = 0)\n",
    "\n",
    "X2_train, X2_test, y2_train, y2_test = train_test_split(X_2, y_2, test_size = 0.20, random_state = 0)\n",
    "\n",
    "print(X_train.shape, y_train.shape)\n",
    "print(X_test.shape, y_test.shape)\n",
    "\n",
    "print(X2_train.shape, y2_train.shape)\n",
    "print(X2_test.shape, y2_test.shape)"
   ]
  },
  {
   "cell_type": "markdown",
   "metadata": {},
   "source": [
    "## Generate metrics"
   ]
  },
  {
   "cell_type": "code",
   "execution_count": 21,
   "metadata": {},
   "outputs": [],
   "source": [
    "\n",
    "from sklearn.metrics import confusion_matrix\n",
    "from sklearn.metrics import accuracy_score\n",
    "from sklearn.metrics import precision_score\n",
    "from sklearn.metrics import recall_score\n",
    "from sklearn.metrics import f1_score\n",
    "\n",
    "def print_metrics(y_test, y_pred):\n",
    "    # confusion matrix\n",
    "    print(confusion_matrix(y_test, y_pred))\n",
    "\n",
    "    # accuracy\n",
    "    print('Accuracy: ', accuracy_score(y_test, y_pred))\n",
    "\n",
    "    # precision\n",
    "    print('Precision: ', precision_score(y_test, y_pred))\n",
    "\n",
    "    # recall\n",
    "    print('Recall: ', recall_score(y_test, y_pred))\n",
    "\n",
    "    # f1\n",
    "    print('F1: ', f1_score(y_test, y_pred))"
   ]
  },
  {
   "cell_type": "markdown",
   "metadata": {},
   "source": [
    "## Text Classification"
   ]
  },
  {
   "cell_type": "code",
   "execution_count": 22,
   "metadata": {},
   "outputs": [
    {
     "name": "stdout",
     "output_type": "stream",
     "text": [
      "[[524  85]\n",
      " [420 571]]\n",
      "Accuracy:  0.684375\n",
      "Precision:  0.8704268292682927\n",
      "Recall:  0.5761856710393541\n",
      "F1:  0.6933819064966606\n"
     ]
    },
    {
     "ename": "ValueError",
     "evalue": "Input contains NaN, infinity or a value too large for dtype('float64').",
     "output_type": "error",
     "traceback": [
      "\u001b[0;31m---------------------------------------------------------------------------\u001b[0m",
      "\u001b[0;31mValueError\u001b[0m                                Traceback (most recent call last)",
      "\u001b[0;32m<ipython-input-22-b8aa41e57ddc>\u001b[0m in \u001b[0;36m<module>\u001b[0;34m\u001b[0m\n\u001b[1;32m     12\u001b[0m \u001b[0;31m#humor rating\u001b[0m\u001b[0;34m\u001b[0m\u001b[0;34m\u001b[0m\u001b[0;34m\u001b[0m\u001b[0m\n\u001b[1;32m     13\u001b[0m \u001b[0mclassifier2\u001b[0m \u001b[0;34m=\u001b[0m \u001b[0mGaussianNB\u001b[0m\u001b[0;34m(\u001b[0m\u001b[0;34m)\u001b[0m\u001b[0;34m\u001b[0m\u001b[0;34m\u001b[0m\u001b[0m\n\u001b[0;32m---> 14\u001b[0;31m \u001b[0mclassifier2\u001b[0m\u001b[0;34m.\u001b[0m\u001b[0mfit\u001b[0m\u001b[0;34m(\u001b[0m\u001b[0mX2_train\u001b[0m\u001b[0;34m,\u001b[0m \u001b[0my2_train\u001b[0m\u001b[0;34m)\u001b[0m\u001b[0;34m\u001b[0m\u001b[0;34m\u001b[0m\u001b[0m\n\u001b[0m\u001b[1;32m     15\u001b[0m \u001b[0;34m\u001b[0m\u001b[0m\n\u001b[1;32m     16\u001b[0m \u001b[0;31m# Predict test set results\u001b[0m\u001b[0;34m\u001b[0m\u001b[0;34m\u001b[0m\u001b[0;34m\u001b[0m\u001b[0m\n",
      "\u001b[0;32m/data/anaconda3/lib/python3.8/site-packages/sklearn/naive_bayes.py\u001b[0m in \u001b[0;36mfit\u001b[0;34m(self, X, y, sample_weight)\u001b[0m\n\u001b[1;32m    208\u001b[0m         \u001b[0mself\u001b[0m \u001b[0;34m:\u001b[0m \u001b[0mobject\u001b[0m\u001b[0;34m\u001b[0m\u001b[0;34m\u001b[0m\u001b[0m\n\u001b[1;32m    209\u001b[0m         \"\"\"\n\u001b[0;32m--> 210\u001b[0;31m         \u001b[0mX\u001b[0m\u001b[0;34m,\u001b[0m \u001b[0my\u001b[0m \u001b[0;34m=\u001b[0m \u001b[0mself\u001b[0m\u001b[0;34m.\u001b[0m\u001b[0m_validate_data\u001b[0m\u001b[0;34m(\u001b[0m\u001b[0mX\u001b[0m\u001b[0;34m,\u001b[0m \u001b[0my\u001b[0m\u001b[0;34m)\u001b[0m\u001b[0;34m\u001b[0m\u001b[0;34m\u001b[0m\u001b[0m\n\u001b[0m\u001b[1;32m    211\u001b[0m         \u001b[0my\u001b[0m \u001b[0;34m=\u001b[0m \u001b[0mcolumn_or_1d\u001b[0m\u001b[0;34m(\u001b[0m\u001b[0my\u001b[0m\u001b[0;34m,\u001b[0m \u001b[0mwarn\u001b[0m\u001b[0;34m=\u001b[0m\u001b[0;32mTrue\u001b[0m\u001b[0;34m)\u001b[0m\u001b[0;34m\u001b[0m\u001b[0;34m\u001b[0m\u001b[0m\n\u001b[1;32m    212\u001b[0m         return self._partial_fit(X, y, np.unique(y), _refit=True,\n",
      "\u001b[0;32m/data/anaconda3/lib/python3.8/site-packages/sklearn/base.py\u001b[0m in \u001b[0;36m_validate_data\u001b[0;34m(self, X, y, reset, validate_separately, **check_params)\u001b[0m\n\u001b[1;32m    430\u001b[0m                 \u001b[0my\u001b[0m \u001b[0;34m=\u001b[0m \u001b[0mcheck_array\u001b[0m\u001b[0;34m(\u001b[0m\u001b[0my\u001b[0m\u001b[0;34m,\u001b[0m \u001b[0;34m**\u001b[0m\u001b[0mcheck_y_params\u001b[0m\u001b[0;34m)\u001b[0m\u001b[0;34m\u001b[0m\u001b[0;34m\u001b[0m\u001b[0m\n\u001b[1;32m    431\u001b[0m             \u001b[0;32melse\u001b[0m\u001b[0;34m:\u001b[0m\u001b[0;34m\u001b[0m\u001b[0;34m\u001b[0m\u001b[0m\n\u001b[0;32m--> 432\u001b[0;31m                 \u001b[0mX\u001b[0m\u001b[0;34m,\u001b[0m \u001b[0my\u001b[0m \u001b[0;34m=\u001b[0m \u001b[0mcheck_X_y\u001b[0m\u001b[0;34m(\u001b[0m\u001b[0mX\u001b[0m\u001b[0;34m,\u001b[0m \u001b[0my\u001b[0m\u001b[0;34m,\u001b[0m \u001b[0;34m**\u001b[0m\u001b[0mcheck_params\u001b[0m\u001b[0;34m)\u001b[0m\u001b[0;34m\u001b[0m\u001b[0;34m\u001b[0m\u001b[0m\n\u001b[0m\u001b[1;32m    433\u001b[0m             \u001b[0mout\u001b[0m \u001b[0;34m=\u001b[0m \u001b[0mX\u001b[0m\u001b[0;34m,\u001b[0m \u001b[0my\u001b[0m\u001b[0;34m\u001b[0m\u001b[0;34m\u001b[0m\u001b[0m\n\u001b[1;32m    434\u001b[0m \u001b[0;34m\u001b[0m\u001b[0m\n",
      "\u001b[0;32m/data/anaconda3/lib/python3.8/site-packages/sklearn/utils/validation.py\u001b[0m in \u001b[0;36minner_f\u001b[0;34m(*args, **kwargs)\u001b[0m\n\u001b[1;32m     70\u001b[0m                           FutureWarning)\n\u001b[1;32m     71\u001b[0m         \u001b[0mkwargs\u001b[0m\u001b[0;34m.\u001b[0m\u001b[0mupdate\u001b[0m\u001b[0;34m(\u001b[0m\u001b[0;34m{\u001b[0m\u001b[0mk\u001b[0m\u001b[0;34m:\u001b[0m \u001b[0marg\u001b[0m \u001b[0;32mfor\u001b[0m \u001b[0mk\u001b[0m\u001b[0;34m,\u001b[0m \u001b[0marg\u001b[0m \u001b[0;32min\u001b[0m \u001b[0mzip\u001b[0m\u001b[0;34m(\u001b[0m\u001b[0msig\u001b[0m\u001b[0;34m.\u001b[0m\u001b[0mparameters\u001b[0m\u001b[0;34m,\u001b[0m \u001b[0margs\u001b[0m\u001b[0;34m)\u001b[0m\u001b[0;34m}\u001b[0m\u001b[0;34m)\u001b[0m\u001b[0;34m\u001b[0m\u001b[0;34m\u001b[0m\u001b[0m\n\u001b[0;32m---> 72\u001b[0;31m         \u001b[0;32mreturn\u001b[0m \u001b[0mf\u001b[0m\u001b[0;34m(\u001b[0m\u001b[0;34m**\u001b[0m\u001b[0mkwargs\u001b[0m\u001b[0;34m)\u001b[0m\u001b[0;34m\u001b[0m\u001b[0;34m\u001b[0m\u001b[0m\n\u001b[0m\u001b[1;32m     73\u001b[0m     \u001b[0;32mreturn\u001b[0m \u001b[0minner_f\u001b[0m\u001b[0;34m\u001b[0m\u001b[0;34m\u001b[0m\u001b[0m\n\u001b[1;32m     74\u001b[0m \u001b[0;34m\u001b[0m\u001b[0m\n",
      "\u001b[0;32m/data/anaconda3/lib/python3.8/site-packages/sklearn/utils/validation.py\u001b[0m in \u001b[0;36mcheck_X_y\u001b[0;34m(X, y, accept_sparse, accept_large_sparse, dtype, order, copy, force_all_finite, ensure_2d, allow_nd, multi_output, ensure_min_samples, ensure_min_features, y_numeric, estimator)\u001b[0m\n\u001b[1;32m    806\u001b[0m     \u001b[0;32melse\u001b[0m\u001b[0;34m:\u001b[0m\u001b[0;34m\u001b[0m\u001b[0;34m\u001b[0m\u001b[0m\n\u001b[1;32m    807\u001b[0m         \u001b[0my\u001b[0m \u001b[0;34m=\u001b[0m \u001b[0mcolumn_or_1d\u001b[0m\u001b[0;34m(\u001b[0m\u001b[0my\u001b[0m\u001b[0;34m,\u001b[0m \u001b[0mwarn\u001b[0m\u001b[0;34m=\u001b[0m\u001b[0;32mTrue\u001b[0m\u001b[0;34m)\u001b[0m\u001b[0;34m\u001b[0m\u001b[0;34m\u001b[0m\u001b[0m\n\u001b[0;32m--> 808\u001b[0;31m         \u001b[0m_assert_all_finite\u001b[0m\u001b[0;34m(\u001b[0m\u001b[0my\u001b[0m\u001b[0;34m)\u001b[0m\u001b[0;34m\u001b[0m\u001b[0;34m\u001b[0m\u001b[0m\n\u001b[0m\u001b[1;32m    809\u001b[0m     \u001b[0;32mif\u001b[0m \u001b[0my_numeric\u001b[0m \u001b[0;32mand\u001b[0m \u001b[0my\u001b[0m\u001b[0;34m.\u001b[0m\u001b[0mdtype\u001b[0m\u001b[0;34m.\u001b[0m\u001b[0mkind\u001b[0m \u001b[0;34m==\u001b[0m \u001b[0;34m'O'\u001b[0m\u001b[0;34m:\u001b[0m\u001b[0;34m\u001b[0m\u001b[0;34m\u001b[0m\u001b[0m\n\u001b[1;32m    810\u001b[0m         \u001b[0my\u001b[0m \u001b[0;34m=\u001b[0m \u001b[0my\u001b[0m\u001b[0;34m.\u001b[0m\u001b[0mastype\u001b[0m\u001b[0;34m(\u001b[0m\u001b[0mnp\u001b[0m\u001b[0;34m.\u001b[0m\u001b[0mfloat64\u001b[0m\u001b[0;34m)\u001b[0m\u001b[0;34m\u001b[0m\u001b[0;34m\u001b[0m\u001b[0m\n",
      "\u001b[0;32m/data/anaconda3/lib/python3.8/site-packages/sklearn/utils/validation.py\u001b[0m in \u001b[0;36m_assert_all_finite\u001b[0;34m(X, allow_nan, msg_dtype)\u001b[0m\n\u001b[1;32m     94\u001b[0m                 not allow_nan and not np.isfinite(X).all()):\n\u001b[1;32m     95\u001b[0m             \u001b[0mtype_err\u001b[0m \u001b[0;34m=\u001b[0m \u001b[0;34m'infinity'\u001b[0m \u001b[0;32mif\u001b[0m \u001b[0mallow_nan\u001b[0m \u001b[0;32melse\u001b[0m \u001b[0;34m'NaN, infinity'\u001b[0m\u001b[0;34m\u001b[0m\u001b[0;34m\u001b[0m\u001b[0m\n\u001b[0;32m---> 96\u001b[0;31m             raise ValueError(\n\u001b[0m\u001b[1;32m     97\u001b[0m                     \u001b[0mmsg_err\u001b[0m\u001b[0;34m.\u001b[0m\u001b[0mformat\u001b[0m\u001b[0;34m\u001b[0m\u001b[0;34m\u001b[0m\u001b[0m\n\u001b[1;32m     98\u001b[0m                     (type_err,\n",
      "\u001b[0;31mValueError\u001b[0m: Input contains NaN, infinity or a value too large for dtype('float64')."
     ]
    }
   ],
   "source": [
    "\n",
    "# Fit Naive Bayes to the training set\n",
    "\n",
    "from sklearn.naive_bayes import GaussianNB\n",
    "\n",
    "classifier = GaussianNB()\n",
    "classifier.fit(X_train, y_train)\n",
    "#is_humor\n",
    "# Predict test set results\n",
    "y_pred = classifier.predict(X_test)\n",
    "print_metrics(y_test, y_pred)\n",
    "\n",
    "#humor rating\n",
    "classifier2 = GaussianNB()\n",
    "classifier2.fit(X2_train, y2_train)\n",
    "\n",
    "# Predict test set results\n",
    "y2_pred = classifier2.predict(X2_test)\n",
    "print_metrics(y2_test, y2_pred)"
   ]
  },
  {
   "cell_type": "code",
   "execution_count": 77,
   "metadata": {},
   "outputs": [
    {
     "name": "stdout",
     "output_type": "stream",
     "text": [
      "Enter joke: Roses are dead. Love is fake. Weddings are basically funerals with cake.\n",
      "   0     1     2     3     4     5     6     7     8     9     ...  7990  \\\n",
      "0     0     0     0     0     0     0     0     0     0     0  ...     0   \n",
      "\n",
      "   7991  7992  7993  7994  7995  7996  7997  7998  7999  \n",
      "0     0     0     0     0     0     0     0     0     0  \n",
      "\n",
      "[1 rows x 8000 columns]\n",
      "Enter rating: 0.9\n",
      "Enter controversy: 0\n",
      "[[0.  0.  0.  ... 0.  0.9 0. ]]\n",
      "It's a joke! (+)\n"
     ]
    }
   ],
   "source": [
    "input_test(classifier)\n",
    "\n",
    "\n",
    "\n"
   ]
  },
  {
   "cell_type": "code",
   "execution_count": 91,
   "metadata": {},
   "outputs": [
    {
     "name": "stdout",
     "output_type": "stream",
     "text": [
      "[[ 80   0]\n",
      " [  2 118]]\n",
      "Accuracy:  0.99\n",
      "Precision:  1.0\n",
      "Recall:  0.9833333333333333\n",
      "F1:  0.9915966386554621\n"
     ]
    }
   ],
   "source": [
    "# SVM\n",
    "\n",
    "from sklearn.svm import SVC\n",
    "\n",
    "classifier = SVC()\n",
    "classifier.fit(X_train, y_train)\n",
    "y_pred = classifier.predict(X_test)\n",
    "\n",
    "print_metrics(y_test, y_pred)"
   ]
  },
  {
   "cell_type": "code",
   "execution_count": 38,
   "metadata": {},
   "outputs": [
    {
     "name": "stdout",
     "output_type": "stream",
     "text": [
      "Enter joke: What word in English language is always spelled incorrectly? Answer : Incorrectly\n",
      "Enter rating: 0.4\n",
      "Enter controversy: 0\n",
      "(1, 3975)\n",
      "[[0.  0.  0.  ... 0.  0.4 0. ]]\n",
      "It's not a joke! (-)\n"
     ]
    }
   ],
   "source": [
    "input_test(classifier)"
   ]
  },
  {
   "cell_type": "code",
   "execution_count": 92,
   "metadata": {},
   "outputs": [
    {
     "name": "stdout",
     "output_type": "stream",
     "text": [
      "[[ 80   0]\n",
      " [  1 119]]\n",
      "Accuracy:  0.995\n",
      "Precision:  1.0\n",
      "Recall:  0.9916666666666667\n",
      "F1:  0.99581589958159\n"
     ]
    }
   ],
   "source": [
    "from sklearn.linear_model import LogisticRegression\n",
    "\n",
    "classifier = LogisticRegression()\n",
    "classifier.fit(X_train, y_train)\n",
    "y_pred = classifier.predict(X_test)\n",
    "\n",
    "print_metrics(y_test, y_pred)"
   ]
  },
  {
   "cell_type": "code",
   "execution_count": 93,
   "metadata": {},
   "outputs": [],
   "source": [
    "#input_test(classifier)"
   ]
  },
  {
   "cell_type": "code",
   "execution_count": 100,
   "metadata": {},
   "outputs": [
    {
     "name": "stdout",
     "output_type": "stream",
     "text": [
      "[[ 70  10]\n",
      " [  3 117]]\n",
      "Accuracy:  0.935\n",
      "Precision:  0.9212598425196851\n",
      "Recall:  0.975\n",
      "F1:  0.9473684210526315\n"
     ]
    }
   ],
   "source": [
    "from sklearn.neural_network import MLPClassifier\n",
    "\n",
    "classifier = MLPClassifier()\n",
    "classifier.fit(X_train, y_train)\n",
    "y_pred = classifier.predict(X_test)\n",
    "\n",
    "print_metrics(y_test, y_pred)"
   ]
  },
  {
   "cell_type": "code",
   "execution_count": 101,
   "metadata": {},
   "outputs": [],
   "source": [
    "#input_test(classifier)"
   ]
  },
  {
   "cell_type": "code",
   "execution_count": 102,
   "metadata": {},
   "outputs": [
    {
     "name": "stdout",
     "output_type": "stream",
     "text": [
      "[[ 71   9]\n",
      " [  3 117]]\n",
      "Accuracy:  0.94\n",
      "Precision:  0.9285714285714286\n",
      "Recall:  0.975\n",
      "F1:  0.951219512195122\n"
     ]
    }
   ],
   "source": [
    "from sklearn.neural_network import BernoulliRBM\n",
    "lassifier = BernoulliRBM()\n",
    "classifier.fit(X_train, y_train)\n",
    "y_pred = classifier.predict(X_test)\n",
    "\n",
    "print_metrics(y_test, y_pred)"
   ]
  },
  {
   "cell_type": "code",
   "execution_count": 103,
   "metadata": {},
   "outputs": [],
   "source": [
    "#input_test(classifier)"
   ]
  },
  {
   "cell_type": "code",
   "execution_count": 104,
   "metadata": {},
   "outputs": [
    {
     "name": "stdout",
     "output_type": "stream",
     "text": [
      "[[ 80   0]\n",
      " [  2 118]]\n",
      "Accuracy:  0.99\n",
      "Precision:  1.0\n",
      "Recall:  0.9833333333333333\n",
      "F1:  0.9915966386554621\n"
     ]
    }
   ],
   "source": [
    "from sklearn.neighbors import KNeighborsClassifier\n",
    "classifier = KNeighborsClassifier()\n",
    "classifier.fit(X_train, y_train)\n",
    "y_pred = classifier.predict(X_test)\n",
    "\n",
    "print_metrics(y_test, y_pred)"
   ]
  },
  {
   "cell_type": "code",
   "execution_count": 105,
   "metadata": {},
   "outputs": [
    {
     "name": "stdout",
     "output_type": "stream",
     "text": [
      "[[ 62  18]\n",
      " [  1 119]]\n",
      "Accuracy:  0.905\n",
      "Precision:  0.8686131386861314\n",
      "Recall:  0.9916666666666667\n",
      "F1:  0.926070038910506\n"
     ]
    }
   ],
   "source": [
    "from sklearn.naive_bayes import MultinomialNB\n",
    "classifier = MultinomialNB()\n",
    "classifier.fit(X_train, y_train)\n",
    "y_pred = classifier.predict(X_test)\n",
    "\n",
    "print_metrics(y_test, y_pred)"
   ]
  },
  {
   "cell_type": "code",
   "execution_count": null,
   "metadata": {},
   "outputs": [],
   "source": []
  },
  {
   "cell_type": "code",
   "execution_count": null,
   "metadata": {},
   "outputs": [],
   "source": []
  }
 ],
 "metadata": {
  "kernelspec": {
   "display_name": "Python 3",
   "language": "python",
   "name": "python3"
  },
  "language_info": {
   "codemirror_mode": {
    "name": "ipython",
    "version": 3
   },
   "file_extension": ".py",
   "mimetype": "text/x-python",
   "name": "python",
   "nbconvert_exporter": "python",
   "pygments_lexer": "ipython3",
   "version": "3.8.5"
  }
 },
 "nbformat": 4,
 "nbformat_minor": 4
}
