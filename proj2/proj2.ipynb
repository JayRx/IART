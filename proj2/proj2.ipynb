{
 "cells": [
  {
   "cell_type": "markdown",
   "metadata": {},
   "source": [
    "# Humor Detection"
   ]
  },
  {
   "cell_type": "code",
   "execution_count": 69,
   "metadata": {
    "scrolled": true
   },
   "outputs": [
    {
     "name": "stdout",
     "output_type": "stream",
     "text": [
      "(1000, 6)\n",
      "   id                                               text  is_humor  \\\n",
      "0   1  TENNESSEE: We're the best state. Nobody even c...         1   \n",
      "1   2  A man inserted an advertisement in the classif...         1   \n",
      "2   3  How many men does it take to open a can of bee...         1   \n",
      "3   4  Told my mom I hit 1200 Twitter followers. She ...         1   \n",
      "4   5  Roses are dead. Love is fake. Weddings are bas...         1   \n",
      "\n",
      "   humor_rating  humor_controversy  offense_rating  \n",
      "0          2.42                1.0             0.2  \n",
      "1          2.50                1.0             1.1  \n",
      "2          1.95                0.0             2.4  \n",
      "3          2.11                1.0             0.0  \n",
      "4          2.78                0.0             0.1  \n"
     ]
    }
   ],
   "source": [
    "import pandas as pd\n",
    "import numpy as np\n",
    "import re\n",
    "import nltk\n",
    "from nltk.corpus import stopwords\n",
    "from nltk.tokenize import word_tokenize\n",
    "from nltk.stem import PorterStemmer, LancasterStemmer, SnowballStemmer\n",
    "from nltk.corpus import wordnet\n",
    "from nltk.tokenize import PunktSentenceTokenizer # unsupervised machine learning sentence tokenizer , can be trained, but we use the default\n",
    "from nltk.stem import WordNetLemmatizer\n",
    "\n",
    "lemmatizer = WordNetLemmatizer()\n",
    "\n",
    "# Importing dataset\n",
    "dataset = pd.read_csv('files/train.csv', nrows=1000)\n",
    "print(dataset.shape)\n",
    "print(dataset.head())\n"
   ]
  },
  {
   "cell_type": "markdown",
   "metadata": {},
   "source": [
    "## Exploratory Data Analysis"
   ]
  },
  {
   "cell_type": "markdown",
   "metadata": {},
   "source": [
    "### Initial data selection"
   ]
  },
  {
   "cell_type": "code",
   "execution_count": 70,
   "metadata": {},
   "outputs": [
    {
     "name": "stdout",
     "output_type": "stream",
     "text": [
      "(1000, 5)\n",
      "   id                                               text  is_humor  \\\n",
      "0   1  TENNESSEE: We're the best state. Nobody even c...         1   \n",
      "1   2  A man inserted an advertisement in the classif...         1   \n",
      "2   3  How many men does it take to open a can of bee...         1   \n",
      "3   4  Told my mom I hit 1200 Twitter followers. She ...         1   \n",
      "4   5  Roses are dead. Love is fake. Weddings are bas...         1   \n",
      "\n",
      "   humor_rating  humor_controversy  \n",
      "0          2.42                1.0  \n",
      "1          2.50                1.0  \n",
      "2          1.95                0.0  \n",
      "3          2.11                1.0  \n",
      "4          2.78                0.0  \n",
      "\n",
      "----- Describe ------\n",
      "                id     is_humor  humor_rating  humor_controversy\n",
      "count  1000.000000  1000.000000    616.000000         616.000000\n",
      "mean    500.500000     0.616000      2.263393           0.517857\n",
      "std     288.819436     0.486601      0.571492           0.500087\n",
      "min       1.000000     0.000000      0.100000           0.000000\n",
      "25%     250.750000     0.000000      1.865000           0.000000\n",
      "50%     500.500000     1.000000      2.300000           1.000000\n",
      "75%     750.250000     1.000000      2.650000           1.000000\n",
      "max    1000.000000     1.000000      3.850000           1.000000\n"
     ]
    }
   ],
   "source": [
    "\n",
    "# selecting important columns only\n",
    "# dropping 'offense_rating'\n",
    "dataset = dataset[['id', 'text', 'is_humor', 'humor_rating', 'humor_controversy']]\n",
    "print(dataset.shape)\n",
    "print(dataset.head())\n",
    "\n",
    "print(\"\\n----- Describe ------\")\n",
    "print(dataset.describe())"
   ]
  },
  {
   "cell_type": "code",
   "execution_count": 71,
   "metadata": {},
   "outputs": [
    {
     "data": {
      "text/plain": [
       "id                     0\n",
       "text                   0\n",
       "is_humor               0\n",
       "humor_rating         384\n",
       "humor_controversy    384\n",
       "dtype: int64"
      ]
     },
     "execution_count": 71,
     "metadata": {},
     "output_type": "execute_result"
    }
   ],
   "source": [
    "# checks if there are null values\n",
    "\n",
    "dataset.isnull().sum()"
   ]
  },
  {
   "cell_type": "markdown",
   "metadata": {},
   "source": [
    "This means we have to process these null values..."
   ]
  },
  {
   "cell_type": "code",
   "execution_count": 72,
   "metadata": {},
   "outputs": [
    {
     "data": {
      "text/html": [
       "<div>\n",
       "<style scoped>\n",
       "    .dataframe tbody tr th:only-of-type {\n",
       "        vertical-align: middle;\n",
       "    }\n",
       "\n",
       "    .dataframe tbody tr th {\n",
       "        vertical-align: top;\n",
       "    }\n",
       "\n",
       "    .dataframe thead th {\n",
       "        text-align: right;\n",
       "    }\n",
       "</style>\n",
       "<table border=\"1\" class=\"dataframe\">\n",
       "  <thead>\n",
       "    <tr style=\"text-align: right;\">\n",
       "      <th></th>\n",
       "      <th>id</th>\n",
       "      <th>text</th>\n",
       "      <th>is_humor</th>\n",
       "      <th>humor_rating</th>\n",
       "      <th>humor_controversy</th>\n",
       "    </tr>\n",
       "  </thead>\n",
       "  <tbody>\n",
       "    <tr>\n",
       "      <th>5</th>\n",
       "      <td>6</td>\n",
       "      <td>'Trabajo,' the Spanish word for work, comes fr...</td>\n",
       "      <td>0</td>\n",
       "      <td>NaN</td>\n",
       "      <td>NaN</td>\n",
       "    </tr>\n",
       "    <tr>\n",
       "      <th>6</th>\n",
       "      <td>7</td>\n",
       "      <td>I enrolled on some skill training and extra cu...</td>\n",
       "      <td>0</td>\n",
       "      <td>NaN</td>\n",
       "      <td>NaN</td>\n",
       "    </tr>\n",
       "    <tr>\n",
       "      <th>8</th>\n",
       "      <td>9</td>\n",
       "      <td>Men who ejaculated 21 times or more a month ha...</td>\n",
       "      <td>0</td>\n",
       "      <td>NaN</td>\n",
       "      <td>NaN</td>\n",
       "    </tr>\n",
       "    <tr>\n",
       "      <th>9</th>\n",
       "      <td>10</td>\n",
       "      <td>I got REALLY angry today and it wasn't about n...</td>\n",
       "      <td>0</td>\n",
       "      <td>NaN</td>\n",
       "      <td>NaN</td>\n",
       "    </tr>\n",
       "    <tr>\n",
       "      <th>10</th>\n",
       "      <td>11</td>\n",
       "      <td>A dog in Mexico named Frida saved the lives of...</td>\n",
       "      <td>0</td>\n",
       "      <td>NaN</td>\n",
       "      <td>NaN</td>\n",
       "    </tr>\n",
       "  </tbody>\n",
       "</table>\n",
       "</div>"
      ],
      "text/plain": [
       "    id                                               text  is_humor  \\\n",
       "5    6  'Trabajo,' the Spanish word for work, comes fr...         0   \n",
       "6    7  I enrolled on some skill training and extra cu...         0   \n",
       "8    9  Men who ejaculated 21 times or more a month ha...         0   \n",
       "9   10  I got REALLY angry today and it wasn't about n...         0   \n",
       "10  11  A dog in Mexico named Frida saved the lives of...         0   \n",
       "\n",
       "    humor_rating  humor_controversy  \n",
       "5            NaN                NaN  \n",
       "6            NaN                NaN  \n",
       "8            NaN                NaN  \n",
       "9            NaN                NaN  \n",
       "10           NaN                NaN  "
      ]
     },
     "execution_count": 72,
     "metadata": {},
     "output_type": "execute_result"
    }
   ],
   "source": [
    "dataset[dataset['is_humor']==0].head()"
   ]
  },
  {
   "cell_type": "code",
   "execution_count": 73,
   "metadata": {},
   "outputs": [
    {
     "data": {
      "text/plain": [
       "(384, 5)"
      ]
     },
     "execution_count": 73,
     "metadata": {},
     "output_type": "execute_result"
    }
   ],
   "source": [
    "dataset[dataset['is_humor']==0].shape"
   ]
  },
  {
   "cell_type": "markdown",
   "metadata": {},
   "source": [
    "As the number of null values is equal to the rows classifying the text as not humor, dropping these lines would drop important data for the models."
   ]
  },
  {
   "cell_type": "markdown",
   "metadata": {},
   "source": [
    "### Data types"
   ]
  },
  {
   "cell_type": "code",
   "execution_count": 74,
   "metadata": {},
   "outputs": [
    {
     "data": {
      "text/plain": [
       "id                     int64\n",
       "text                  object\n",
       "is_humor               int64\n",
       "humor_rating         float64\n",
       "humor_controversy    float64\n",
       "dtype: object"
      ]
     },
     "execution_count": 74,
     "metadata": {},
     "output_type": "execute_result"
    }
   ],
   "source": [
    "dataset.dtypes"
   ]
  },
  {
   "cell_type": "markdown",
   "metadata": {},
   "source": [
    "And it's done! Now some graphics to analyse text statictics... (in progress)"
   ]
  },
  {
   "cell_type": "markdown",
   "metadata": {},
   "source": [
    "### Text statistics analysis"
   ]
  },
  {
   "cell_type": "markdown",
   "metadata": {},
   "source": [
    "#### No. of characters by each line"
   ]
  },
  {
   "cell_type": "code",
   "execution_count": 75,
   "metadata": {},
   "outputs": [
    {
     "data": {
      "text/plain": [
       "<AxesSubplot:>"
      ]
     },
     "execution_count": 75,
     "metadata": {},
     "output_type": "execute_result"
    },
    {
     "data": {
      "image/png": "[encoded data removed]",
      "text/plain": [
       "<Figure size 432x288 with 1 Axes>"
      ]
     },
     "metadata": {
      "needs_background": "light"
     },
     "output_type": "display_data"
    }
   ],
   "source": [
    "dataset['text'].str.len().hist()"
   ]
  },
  {
   "cell_type": "markdown",
   "metadata": {},
   "source": [
    "This histogram shows that each line has, generally, between 40 to 150 characters."
   ]
  },
  {
   "cell_type": "markdown",
   "metadata": {},
   "source": [
    "#### No. of words by each line"
   ]
  },
  {
   "cell_type": "code",
   "execution_count": 76,
   "metadata": {},
   "outputs": [
    {
     "data": {
      "text/plain": [
       "<AxesSubplot:>"
      ]
     },
     "execution_count": 76,
     "metadata": {},
     "output_type": "execute_result"
    },
    {
     "data": {
      "image/png": "[encoded data removed]",
      "text/plain": [
       "<Figure size 432x288 with 1 Axes>"
      ]
     },
     "metadata": {
      "needs_background": "light"
     },
     "output_type": "display_data"
    }
   ],
   "source": [
    "dataset['text'].str.split().\\\n",
    "    map(lambda x: len(x)).\\\n",
    "    hist()"
   ]
  },
  {
   "cell_type": "markdown",
   "metadata": {},
   "source": [
    "For instance, this histogram shows that each line has, generally, between 10 and 30 words. "
   ]
  },
  {
   "cell_type": "markdown",
   "metadata": {},
   "source": [
    "#### Average word length"
   ]
  },
  {
   "cell_type": "code",
   "execution_count": 77,
   "metadata": {},
   "outputs": [
    {
     "data": {
      "text/plain": [
       "<AxesSubplot:>"
      ]
     },
     "execution_count": 77,
     "metadata": {},
     "output_type": "execute_result"
    },
    {
     "data": {
      "image/png": "[encoded data removed]",
      "text/plain": [
       "<Figure size 432x288 with 1 Axes>"
      ]
     },
     "metadata": {
      "needs_background": "light"
     },
     "output_type": "display_data"
    }
   ],
   "source": [
    "dataset['text'].str.split().\\\n",
    "   apply(lambda x : [len(i) for i in x]). \\\n",
    "   map(lambda x: np.mean(x)).hist()"
   ]
  },
  {
   "cell_type": "markdown",
   "metadata": {},
   "source": [
    "This histogram shows that the average word length is mostly, between, 3 to 6 characters (with 4 and 5 being the most common length). So, this may show that the dataset has a high amount of stopwords and analyzing its amount and types can give a good insight about the data."
   ]
  },
  {
   "cell_type": "markdown",
   "metadata": {},
   "source": [
    "### Most common stopwords"
   ]
  },
  {
   "cell_type": "code",
   "execution_count": 79,
   "metadata": {},
   "outputs": [
    {
     "data": {
      "text/plain": [
       "<BarContainer object of 10 artists>"
      ]
     },
     "execution_count": 79,
     "metadata": {},
     "output_type": "execute_result"
    },
    {
     "data": {
      "image/png": "[encoded data removed]",
      "text/plain": [
       "<Figure size 432x288 with 1 Axes>"
      ]
     },
     "metadata": {
      "needs_background": "light"
     },
     "output_type": "display_data"
    }
   ],
   "source": [
    "'''https://towardsdatascience.com/exploratory-data-analysis-for-natural-language-processing-ff0046ab3571'''\n",
    "\n",
    "import matplotlib.pyplot as plt\n",
    "\n",
    "corpus=[]\n",
    "stop = set(stopwords.words('english'))\n",
    "words = dataset['text'].str.split()\n",
    "words = words.values.tolist()\n",
    "corpus = [word for i in words for word in i]\n",
    "\n",
    "from collections import defaultdict\n",
    "dic = defaultdict(int)\n",
    "for word in corpus:\n",
    "    if word in stop:\n",
    "        dic[word] += 1\n",
    "        \n",
    "top=sorted(dic.items(), key=lambda x:x[1],reverse=True)[:10] \n",
    "x,y=zip(*top)\n",
    "plt.bar(x,y)"
   ]
  },
  {
   "cell_type": "markdown",
   "metadata": {},
   "source": [
    "This plot shows that is important to remove stopwords, due to its frequency."
   ]
  },
  {
   "cell_type": "markdown",
   "metadata": {},
   "source": [
    "### Most common words (excluding stopwords)"
   ]
  },
  {
   "cell_type": "markdown",
   "metadata": {},
   "source": [
    "After a initial analysis, we concluded that there were some common words with contractions. Therefore, we must first expand these contractions first and plot the common words after."
   ]
  },
  {
   "cell_type": "code",
   "execution_count": 80,
   "metadata": {},
   "outputs": [
    {
     "name": "stdout",
     "output_type": "stream",
     "text": [
      "0    TENNESSEE: We are the best state. Nobody even ...\n",
      "1    A man inserted an advertisement in the classif...\n",
      "2    How many men does it take to open a can of bee...\n",
      "3    Told my mom I hit 1200 Twitter followers. She ...\n",
      "4    Roses are dead. Love is fake. Weddings are bas...\n",
      "Name: text, dtype: object\n"
     ]
    }
   ],
   "source": [
    "'''adapted from https://www.analyticsvidhya.com/blog/2020/04/beginners-guide-exploratory-data-analysis-text-data/'''\n",
    "from collections import Counter\n",
    "import seaborn as sns\n",
    "\n",
    "contractions_dict = {\n",
    "     'I\\'m': 'I am',\n",
    "     'can\\'t': 'can not',\n",
    "     'We\\'re': 'We are',\n",
    "     'wasn\\'t': 'was not',\n",
    "     'you\\'ve': 'you have',\n",
    "     'What\\'s': 'What is',\n",
    "}\n",
    "\n",
    "# Regular expression for finding contractions\n",
    "contractions_re=re.compile('(%s)' % '|'.join(contractions_dict.keys()))\n",
    "\n",
    "# function for expanding contractions\n",
    "def expand_contractions(text, contractions_dict=contractions_dict):\n",
    "    return contractions_re.sub(lambda match : contractions_dict[match.group(0)], text)\n",
    "\n",
    "dataset['text'] = dataset['text'].apply(lambda x : expand_contractions(x))\n",
    "print(dataset['text'].head(5))\n",
    "\n",
    "words = dataset['text'].str.split()\n",
    "words = words.values.tolist()\n",
    "corpus = [word for i in words for word in i]\n",
    "\n"
   ]
  },
  {
   "cell_type": "code",
   "execution_count": 81,
   "metadata": {},
   "outputs": [
    {
     "data": {
      "text/plain": [
       "<AxesSubplot:>"
      ]
     },
     "execution_count": 81,
     "metadata": {},
     "output_type": "execute_result"
    },
    {
     "data": {
      "image/png": "[encoded data removed]",
      "text/plain": [
       "<Figure size 432x288 with 1 Axes>"
      ]
     },
     "metadata": {
      "needs_background": "light"
     },
     "output_type": "display_data"
    }
   ],
   "source": [
    "'''https://towardsdatascience.com/exploratory-data-analysis-for-natural-language-processing-ff0046ab3571'''\n",
    "\n",
    "counter = Counter(corpus)\n",
    "most = counter.most_common()\n",
    "x, y = [], []\n",
    "for word, count in most[:100]:\n",
    "    if (word.lower() not in stop):\n",
    "        x.append(word)\n",
    "        y.append(count)\n",
    "        \n",
    "sns.barplot(x=y,y=x)"
   ]
  },
  {
   "cell_type": "markdown",
   "metadata": {},
   "source": [
    "This plot means that 'me:', 'wife' and 'black', generally indicate that the sentence has humor. (temos que fazer matching disto com o is_humor)"
   ]
  },
  {
   "cell_type": "markdown",
   "metadata": {},
   "source": [
    "### Humor rating distribution"
   ]
  },
  {
   "cell_type": "code",
   "execution_count": 82,
   "metadata": {},
   "outputs": [
    {
     "data": {
      "text/plain": [
       "<AxesSubplot:>"
      ]
     },
     "execution_count": 82,
     "metadata": {},
     "output_type": "execute_result"
    },
    {
     "data": {
      "image/png": "[encoded data removed]",
      "text/plain": [
       "<Figure size 432x288 with 1 Axes>"
      ]
     },
     "metadata": {
      "needs_background": "light"
     },
     "output_type": "display_data"
    }
   ],
   "source": [
    "dataset['humor_rating'].hist()"
   ]
  },
  {
   "cell_type": "markdown",
   "metadata": {},
   "source": [
    "## Data preprocessing"
   ]
  },
  {
   "cell_type": "code",
   "execution_count": 83,
   "metadata": {},
   "outputs": [],
   "source": [
    "\n",
    "\n",
    "data_list =[]\n",
    "data_list2 =[]\n",
    "\n",
    "raw_text =\"\"\n",
    "stop_words = tuple(set(stopwords.words(\"english\")))\n",
    "\n",
    "def lemmatization(token_sentence):\n",
    "    res = []\n",
    "    for word in token_sentence:\n",
    "        lemmatizer.lemmatize(word)\n",
    "        res.append(word)\n",
    "    return res\n",
    "\n",
    "\n",
    "def get_wordnet_pos(word):\n",
    "    \"\"\"Map POS tag to first character lemmatize() accepts\"\"\"\n",
    "    tag = nltk.pos_tag([word])[0][1][0].upper()\n",
    "    tag_dict = {\"J\": wordnet.ADJ,\n",
    "                \"N\": wordnet.NOUN,\n",
    "                \"V\": wordnet.VERB,\n",
    "                \"R\": wordnet.ADV}\n",
    "    return tag_dict.get(tag, wordnet.NOUN)\n",
    "\n",
    "\n",
    "# Simple test\n",
    "def input_test(classifier):\n",
    "    sample_text = input(\"Enter joke: \")\n",
    "    sample_text = re.sub(r'[-.?!,:;()|0-9]', ' ', sample_text).lower().split()\n",
    "    sample_text = ' '.join([lemmatizer.lemmatize(word, get_wordnet_pos(word)) for word in sample_text])\n",
    "    X = vectorizer.transform([sample_text]).toarray()\n",
    "    \n",
    "    #testing------------------------\n",
    "    dfTesting = pd.DataFrame(X.tolist())\n",
    "    dfTesting[3973] = float(input(\"Enter rating: \"))\n",
    "    dfTesting[3974] = int(input(\"Enter controversy: \"))\n",
    "    X = dfTesting.to_numpy()\n",
    "    np.nan_to_num(X, copy=False)\n",
    "    #testing------------------------\n",
    "    \n",
    "\n",
    "    print(X.shape)\n",
    "    print(X)\n",
    "\n",
    "    if(classifier.predict(X) == [1]):\n",
    "        print(\"It's a joke! (+)\")\n",
    "    else:\n",
    "        print(\"It's not a joke! (-)\")\n",
    "\n",
    "# range = dataset range\n",
    "for i in range(0,dataset.shape[0]):\n",
    "    \n",
    "   humor_sentence = dataset['text'][i]\n",
    "\n",
    "   #Tokenization by words or sentences\n",
    "   humor_sentence = word_tokenize(humor_sentence)\n",
    "   #remove stopwords and lemmatization with pos_tag\n",
    "   humor_sentence = \" \".join([lemmatizer.lemmatize(word, get_wordnet_pos(word)) for word in humor_sentence if word not in set(stopwords.words('english'))])  \n",
    "      \n",
    "   # remove alpha chars/not alphabetical caracters \n",
    "   humor_sentence2 = re.sub(r'[-.?!,:;()|0-9]', ' ', dataset['text'][i])\n",
    "   \n",
    "   humor_sentence2 = humor_sentence2.lower()\n",
    "   humor_sentence2 = word_tokenize(humor_sentence2)\n",
    "   humor_sentence2 = \" \".join([lemmatizer.lemmatize(word, get_wordnet_pos(word)) for word in humor_sentence2 if word not in set(stopwords.words('english'))])  \n",
    "      \n",
    "   #raw_text += aux_reader+ \"\\n\"\n",
    "   \n",
    "    \n",
    "    # aggregate all the rows of the dataset in one corpus ('data_list')\n",
    "   data_list.append(humor_sentence)\n",
    "    \n",
    "    # how data_list2 is different from data_list?\n",
    "   data_list2.append(humor_sentence2)\n"
   ]
  },
  {
   "cell_type": "markdown",
   "metadata": {},
   "source": [
    "## Extract features from data"
   ]
  },
  {
   "cell_type": "code",
   "execution_count": 85,
   "metadata": {},
   "outputs": [
    {
     "name": "stdout",
     "output_type": "stream",
     "text": [
      "['000', '10', '100', '1000', '100ft', '106', '11th', '12', '1200', '13', '1313', '14', '14gm', '15', '150', '16', '17', '1759', '18', '1800', '1861', '1872', '19', '1930s', '1940', '1945', '1948', '1950s', '1964', '1984', '1995', '1998', '1st', '20', '200', '2000', '2001', '2003', '2013', '2014', '2017', '2018', '2019', '2020', '2052', '21', '2125', '22', '23', '24', '242', '25', '26', '28', '29', '30', '300k', '30pm', '31', '33', '35', '3629', '365', '37', '37th', '3d', '3rd', '40', '40th', '429', '43', '45', '48', '50', '500', '52', '57', '5sos', '60', '63', '666', '6x', '70', '72', '75', '80', '85', '90999', '911', '99', '999', 'aaaaafddasfrwe', 'abc', 'abdul', 'ability', 'able', 'aboard', 'about', 'abraham', 'abroad', 'absent', 'absolutely', 'absorption', 'abulia', 'abuse', 'abuzz', 'academy', 'accent', 'accept', 'acceptance', 'access', 'accessible', 'accident', 'accidentally', 'accord', 'account', 'accountable', 'accuse', 'accuses', 'achievement', 'ackles', 'acne', 'acquire', 'across', 'act', 'action', 'active', 'activity', 'actor', 'actual', 'actually', 'ad', 'adapt', 'add', 'addict', 'addition', 'address', 'adele', 'adept', 'adhd', 'adjust', 'admit', 'adopt', 'adult', 'adventure', 'adversity', 'advertisement', 'advice', 'aed', 'af', 'affect', 'affected', 'afford', 'affordable', 'afraid', 'africa', 'african', 'after', 'afterlife', 'age', 'agency', 'ago', 'agree', 'ahead', 'ai', 'aid', 'aids', 'ailment', 'air', 'airline', 'airplane', 'airpod', 'airport', 'ajar', 'akaraiwai', 'album', 'alcohol', 'ale', 'alert', 'alexander', 'algae', 'align', 'alive', 'all', 'allah', 'alles', 'allow', 'almost', 'aloe', 'alone', 'aloni', 'alpha', 'already', 'alright', 'also', 'always', 'alzheimer', 'am', 'ama', 'amal', 'amara', 'amaze', 'amazon', 'ambition', 'america', 'american', 'americans', 'amount', 'amputee', 'an', 'ana', 'anal', 'analogy', 'anand', 'anatomy', 'ancient', 'and', 'angel', 'angeles', 'angels', 'anger', 'angle', 'angry', 'animal', 'animals', 'animatronic', 'ankle', 'anniversary', 'announce', 'annoy', 'annoying', 'another', 'answer', 'ant', 'antarctica', 'anti', 'antidepressant', 'antifreeze', 'antioxidant', 'antivenin', 'anxiety', 'any', 'anybody', 'anycockledoooooo', 'anymore', 'anyone', 'anything', 'anyway', 'anywhere', 'apart', 'apnea', 'apologizes', 'apology', 'app', 'apparently', 'appearance', 'apple', 'apply', 'appreciate', 'approach', 'appropriate', 'approximately', 'april', 'arabs', 'are', 'argue', 'argument', 'aristotle', 'arkansas', 'arm', 'armageddon', 'arnold', 'around', 'arrangement', 'arrest', 'arrive', 'art', 'arthur', 'article', 'artisanal', 'artist', 'artistically', 'as', 'asap', 'ash', 'asian', 'aside', 'ask', 'asking', 'asks', 'asleep', 'ass', 'assassinate', 'assault', 'associated', 'association', 'astray', 'astronaut', 'astronomical', 'astros', 'asylum', 'at', 'ate', 'atom', 'atomic', 'attack', 'attenborough', 'attention', 'attitude', 'attorney', 'attract', 'attractive', 'auctioneer', 'audhubillah', 'auntie', 'austen', 'authentically', 'authority', 'auto', 'autocorrected', 'automatic', 'available', 'average', 'aviv', 'avoid', 'award', 'awareness', 'away', 'awesome', 'awful', 'awkward', 'awww', 'b4', 'ba', 'baby', 'bachelor', 'back', 'backup', 'backwards', 'bacteria', 'bad', 'badger', 'badlands', 'bag', 'baghdad', 'bagpipe', 'balance', 'ball', 'balsamic', 'bambi', 'ban', 'banana', 'band', 'bandit', 'bangkok', 'bank', 'banning', 'baptize', 'bar', 'barack', 'barbara', 'barbecue', 'barber', 'barbie', 'barely', 'bargaining', 'barman', 'barn', 'barrel', 'barrier', 'base', 'based', 'basic', 'basically', 'basin', 'basket', 'basketball', 'bath', 'bathing', 'bathroom', 'battery', 'bbq', 'be', 'beach', 'beat', 'beater', 'beating', 'beatles', 'beautiful', 'because', 'become', 'becomes', 'bed', 'bedroom', 'bee', 'beef', 'beehive', 'beep', 'beer', 'bees', 'beethoven', 'before', 'begin', 'behavior', 'behavioral', 'being', 'believe', 'belly', 'belt', 'bench', 'benefit', 'benign', 'beside', 'best', 'bet', 'beta', 'betrayed', 'between', 'beverage', 'bible', 'biddah', 'big', 'bike', 'biker', 'bill', 'billy', 'bingley', 'bipoc', 'bird', 'birdbath', 'birds', 'birth', 'birthday', 'birthing', 'bit', 'bite', 'bitey', 'biting', 'bitten', 'bitterness', 'bk', 'black', 'blacken', 'blacksmith', 'bladder', 'blair', 'blasio', 'blast', 'bless', 'blessing', 'blimey', 'blind', 'blindfold', 'blindly', 'blink', 'bliss', 'blissfully', 'blk', 'blm', 'bloat', 'block', 'blond', 'blonde', 'blood', 'blow', 'blowjob', 'blue', 'blueberry', 'board', 'bob', 'body', 'boil', 'bold', 'bomb', 'bond', 'bondage', 'bone', 'boob', 'book', 'boom', 'boomboxes', 'boost', 'boot', 'booty', 'boredom', 'boring', 'born', 'bos', 'boss', 'both', 'bother', 'bottle', 'bottom', 'boufhal', 'bought', 'bounce', 'bouquet', 'bow', 'bowl', 'box', 'boy', 'boyardee', 'boycott', 'boyfriend', 'brad', 'brain', 'branch', 'brand', 'brazilian', 'bread', 'break', 'breakfast', 'breaking', 'breast', 'breath', 'breathe', 'breathing', 'breed', 'brewery', 'bride', 'bridesmaid', 'brie', 'bring', 'brings', 'brisk', 'britain', 'british', 'bro', 'broad', 'broadcast', 'brochure', 'broken', 'bronte', 'broom', 'brothel', 'brother', 'brothers', 'brought', 'brown', 'browser', 'bruce', 'bruh', 'bruise', 'bruvs', 'buck', 'budge', 'buff', 'bug', 'build', 'building', 'bulb', 'bullet', 'bulls', 'bullshit', 'bunch', 'burger', 'burglar', 'burgle', 'burn', 'burning', 'burrow', 'bury', 'bus', 'bushy', 'business', 'bust', 'busy', 'but', 'butt', 'butterfly', 'button', 'buy', 'buying', 'buzz', 'buzzer', 'by', 'ca', 'cadbury', 'cake', 'calcium', 'california', 'call', 'calm', 'calmly', 'came', 'can', 'canada', 'canadian', 'cancel', 'cancer', 'cancerous', 'candidate', 'candy', 'cane', 'cannabis', 'cannibal', 'cant', 'canâ', 'cap', 'cape', 'capital', 'capitol', 'captain', 'caption', 'capture', 'car', 'carbon', 'carbs', 'card', 'cardboard', 'care', 'career', 'caregiving', 'carotene', 'carpet', 'carry', 'cars', 'case', 'cash', 'cashier', 'casino', 'cassette', 'cast', 'cat', 'catch', 'catechin', 'category', 'catholics', 'catwoman', 'cauc', 'caucasian', 'caught', 'cause', 'caveman', 'celebrate', 'celebration', 'celebratory', 'cell', 'cellphone', 'cement', 'cemetery', 'center', 'centimeter', 'century', 'certain', 'certainly', 'chair', 'challenge', 'champagne', 'chan', 'chance', 'change', 'character', 'charade', 'charge', 'charity', 'charles', 'charlie', 'charlotte', 'chase', 'chasing', 'chat', 'cheap', 'cheat', 'check', 'cheek', 'cheer', 'cheese', 'cheetah', 'cheetos', 'chef', 'chemist', 'cherished', 'cherry', 'cheryl', 'chest', 'chiara', 'chick', 'chicken', 'child', 'chili', 'chimney', 'chin', 'chinatown', 'chinese', 'ching', 'chino', 'chirp', 'chocolate', 'choice', 'choir', 'choose', 'chooses', 'choosing', 'chop', 'chosen', 'chp', 'christ', 'christian', 'christians', 'christmas', 'christopher', 'chromatica', 'chuck', 'church', 'churchitoes', 'cider', 'cig', 'cigarette', 'circle', 'circumcisor', 'cite', 'citizen', 'city', 'civil', 'class', 'classic', 'classically', 'classified', 'claus', 'claw', 'clay', 'clean', 'cleaner', 'clear', 'clearer', 'clearly', 'cliche', 'click', 'climate', 'climbed', 'clinic', 'clinical', 'clinton', 'close', 'closed', 'closer', 'closet', 'clot', 'clothes', 'cloud', 'clown', 'clowns', 'club', 'cnn', 'co', 'coach', 'coast', 'cob', 'coca', 'cocaine', 'cock', 'code', 'coffee', 'cola', 'colbert', 'cold', 'collection', 'college', 'collide', 'color', 'colorado', 'combat', 'comcast', 'come', 'comfortable', 'comic', 'command', 'comment', 'commit', 'common', 'communicate', 'communion', 'community', 'company', 'compare', 'compared', 'compensation', 'compete', 'competition', 'complain', 'complaint', 'complete', 'completely', 'compliment', 'comprehend', 'compress', 'compromise', 'compton', 'computer', 'concern', 'concerned', 'conclusion', 'condescend', 'condition', 'condolence', 'condom', 'cone', 'confidence', 'confront', 'confuse', 'congratulations', 'congress', 'connect', 'connectivity', 'connector', 'consent', 'consider', 'constantly', 'constipate', 'constipated', 'consultant', 'consumes', 'consumption', 'contact', 'contain', 'contains', 'contemplate', 'contestant', 'context', 'continent', 'continually', 'control', 'controol', 'conversation', 'convert', 'cook', 'cooking', 'cool', 'cooler', 'cooter', 'cooterpie', 'cootie', 'cop', 'copper', 'copy', 'corn', 'cornea', 'corner', 'corny', 'corporate', 'correction', 'corrects', 'correlation', 'corso', 'cost', 'costco', 'costume', 'cotillion', 'couch', 'could', 'counsel', 'count', 'country', 'couple', 'couples', 'courage', 'course', 'courteous', 'cousin', 'cover', 'cow', 'cowboy', 'coworker', 'coworkers', 'crack', 'crackdown', 'cracker', 'crap', 'crawdads', 'crayon', 'crazy', 'cream', 'create', 'creature', 'credit', 'creepier', 'cremation', 'crescent', 'crew', 'crime', 'criminalize', 'crisis', 'critical', 'criticism', 'criticize', 'crocs', 'croix', 'cross', 'crossfit', 'crow', 'crowd', 'crows', 'crueler', 'cruise', 'crush', 'crust', 'cry', 'cub', 'cube', 'cubic', 'cucumber', 'cue', 'cult', 'culturally', 'culture', 'cum', 'cunt', 'cup', 'cupcake', 'curb', 'curious', 'currently', 'curriculum', 'curry', 'curtain', 'customer', 'cut', 'cute', 'cuz', 'cyclops', 'da', 'dad', 'daddy', 'dads', 'dagan', 'dagger', 'dago', 'dahl', 'daily', 'dalai', 'damage', 'damn', 'dan', 'dance', 'dancing', 'dandruff', 'danger', 'dangerous', 'dangerously', 'danone', 'darcy', 'dare', 'dark', 'darkness', 'darwin', 'date', 'dates', 'daughter', 'david', 'day', 'daytime', 'dc', 'de', 'dead', 'deadlift', 'deadly', 'deadtome', 'deaf', 'deal', 'dealer', 'dealership', 'dean', 'death', 'deathbed', 'decade', 'decapitate', 'decide', 'decision', 'declare', 'decline', 'decrease', 'dedication', 'deed', 'deen', 'deep', 'deepen', 'deeply', 'deer', 'def', 'defend', 'defendant', 'defenseless', 'deficiency', 'defines', 'definitely', 'defy', 'degeneration', 'degree', 'dehydration', 'delaware', 'delay', 'delete', 'delia', 'delicious', 'delight', 'deliver', 'delivery', 'delusion', 'demolition', 'demons', 'denial', 'densest', 'denver', 'deodorant', 'department', 'depend', 'dependent', 'depression', 'derail', 'derby', 'desalination', 'describe', 'described', 'deserve', 'deserves', 'design', 'designate', 'designer', 'desire', 'despise', 'despite', 'dessert', 'destroy', 'destroyed', 'destruct', 'destruction', 'destructive', 'detail', 'detain', 'detect', 'detective', 'detector', 'detention', 'develop', 'developed', 'develops', 'devil', 'diabetes', 'diagnose', 'dial', 'dialogue', 'diary', 'dick', 'dickens', 'did', 'die', 'diet', 'difference', 'different', 'difficult', 'difficulty', 'digest', 'dildo', 'dinner', 'dinosaur', 'dioxide', 'direction', 'director', 'dirty', 'disagree', 'disappoint', 'disappointed', 'disappointedly', 'disclosure', 'discover', 'discriminate', 'discus', 'disease', 'disguise', 'disgust', 'disk', 'dismiss', 'disobedience', 'disorder', 'disorient', 'distance', 'distress', 'district', 'dive', 'division', 'divorce', 'dizzy', 'dm', 'do', 'doc', 'dockers', 'doctor', 'documentation', 'dodgers', 'does', 'dog', 'dogs', 'doing', 'doll', 'dollop', 'dolphin', 'dome', 'don', 'donate', 'donation', 'donkey', 'dont', 'donut', 'doomsday', 'door', 'doorbell', 'doorway', 'dorian', 'double', 'doubt', 'down', 'downs', 'downstairs', 'doyouhaveasoreass', 'dozen', 'dr', 'drag', 'dragon', 'dragons', 'drama', 'drank', 'drape', 'draw', 'dream', 'dreamt', 'dress', 'drift', 'drink', 'drinkable', 'drinker', 'drinking', 'drive', 'driver', 'driveway', 'drop', 'dropbox', 'drown', 'drug', 'drunk', 'dry', 'dryer', 'dryness', 'dsaf', 'dub', 'dublin', 'duck', 'dude', 'due', 'dug', 'dumb', 'dumbledore', 'during', 'dust', 'dustpan', 'duty', 'dwarf', 'dwayne', 'dy', 'dyk', 'dynamite', 'dynasty', 'each', 'ear', 'early', 'earth', 'earthquake', 'ease', 'easily', 'east', 'eastern', 'easy', 'eat', 'eating', 'eats', 'ebola', 'ed', 'education', 'educational', 'educator', 'eeyore', 'effective', 'efficient', 'efficiently', 'egg', 'eggo', 'egyptian', 'eid', 'eight', 'eightheist', 'eis', 'either', 'ejaculate', 'ejaculation', 'eleanor', 'election', 'electronics', 'elena', 'elevator', 'elevennessee', 'eliminate', 'else', 'em', 'email', 'embark', 'embarrass', 'embarrassment', 'embrace', 'emergency', 'emeritus', 'emmanuel', 'emos', 'emoticon', 'emotion', 'emotional', 'employee', 'employment', 'empty', 'enchant', 'encouraged', 'end', 'endangered', 'endorphin', 'endure', 'english', 'enjoy', 'enough', 'enrol', 'ensure', 'enter', 'enters', 'entertainment', 'entire', 'entirety', 'envelope', 'environmental', 'envy', 'enzyme', 'ep', 'epileptic', 'epileptikjlfasd', 'episode', 'equal', 'equally', 'equity', 'er', 'erase', 'erdman', 'erection', 'erepsin', 'escape', 'escort', 'especially', 'essential', 'est', 'establishes', 'esteem', 'estimate', 'etc', 'ethiopian', 'ethnic', 'european', 'evacuee', 'evans', 'evaporate', 'even', 'evening', 'event', 'eventually', 'ever', 'every', 'everybody', 'everyone', 'everything', 'everytime', 'everywhere', 'evidence', 'evil', 'evolve', 'eww', 'exactly', 'example', 'excellent', 'except', 'excessive', 'excite', 'execution', 'executive', 'exhale', 'exhaust', 'exhaustion', 'exist', 'exit', 'exorcise', 'expand', 'expect', 'expensive', 'experience', 'expert', 'explode', 'expose', 'express', 'expression', 'extensive', 'extra', 'extremely', 'eye', 'eyeball', 'eyebrow', 'eyelash', 'eyes', 'eyesight', 'faberge', 'face', 'facebook', 'facepalm', 'facial', 'facility', 'fact', 'factory', 'fail', 'failing', 'failure', 'fairly', 'fairy', 'fake', 'faking', 'fall', 'falon', 'falsely', 'fami', 'family', 'fan', 'fantastic', 'far', 'farfrompoopin', 'fart', 'farting', 'fast', 'faster', 'fat', 'fatal', 'father', 'fatigue', 'fault', 'favor', 'favorite', 'favourite', 'fear', 'fearless', 'feast', 'feather', 'fedex', 'feed', 'feel', 'feeling', 'fellas', 'fellow', 'felt', 'female', 'feminism', 'feminist', 'ff', 'fiber', 'fiddle', 'field', 'fifth', 'fight', 'fighter', 'figuratively', 'figure', 'fil', 'fill', 'film', 'final', 'finale', 'finally', 'financial', 'find', 'finding', 'fine', 'finger', 'finish', 'fire', 'firefighter', 'fireproof', 'first', 'fish', 'fishing', 'fit', 'fitness', 'five', 'fix', 'fixate', 'flag', 'flame', 'flamin', 'flash', 'flasher', 'flat', 'flatter', 'flattery', 'flavor', 'flick', 'flight', 'flint', 'flip', 'flirt', 'float', 'flock', 'floor', 'floss', 'flow', 'flower', 'fluid', 'fly', 'flying', 'focus', 'folk', 'follow', 'follower', 'folow', 'food', 'foods', 'fool', 'foot', 'footprint', 'for', 'force', 'forehead', 'forest', 'forever', 'forge', 'forget', 'forgive', 'forgot', 'form', 'formally', 'forrest', 'fort', 'fortunate', 'forty', 'forward', 'found', 'foundation', 'founder', 'four', 'fox', 'frame', 'francoise', 'frank', 'frankly', 'free', 'freedom', 'freeze', 'freezer', 'french', 'freshwater', 'frida', 'fridge', 'friend', 'friendship', 'friggin', 'frighten', 'frito', 'frittata', 'from', 'front', 'fruit', 'frustration', 'fry', 'ft', 'fuck', 'fuckin', 'fucking', 'fuel', 'fulfil', 'fulfill', 'full', 'fun', 'function', 'fund', 'fundamental', 'funding', 'funeral', 'fungimentalist', 'funny', 'furious', 'furniture', 'furry', 'fury', 'futurama', 'future', 'ga', 'gala', 'galaxy', 'gallon', 'game', 'games', 'gang', 'gangster', 'gangthter', 'gap', 'garbage', 'garden', 'gas', 'gasp', 'gate', 'gay', 'gedeon', 'geek', 'gel', 'general', 'generally', 'generation', 'generic', 'genie', 'genius', 'genx', 'george', 'gerd', 'german', 'germany', 'get', 'gettin', 'getting', 'gf', 'ghost', 'gift', 'gigantic', 'gim', 'ginger', 'gingerbread', 'giridharadas', 'girl', 'girlfriend', 'girls', 'give', 'giving', 'glad', 'gladly', 'glance', 'glass', 'globalization', 'glorious', 'glove', 'glynne', 'gnc', 'go', 'god', 'goddamnit', 'gold', 'golden', 'golf', 'golfer', 'gomez', 'gon', 'good', 'goodbye', 'goodmans', 'goodnight', 'goodyear', 'google', 'googled', 'gordon', 'gorilla', 'got', 'gotten', 'government', 'governmental', 'grab', 'gracias', 'graduates', 'gram', 'grandeur', 'grandma', 'grandmother', 'grandpa', 'grandparent', 'grandson', 'grant', 'grapes', 'grateful', 'gravity', 'gravy', 'grease', 'great', 'greece', 'greek', 'green', 'greenleaf', 'greet', 'greg', 'grenade', 'grey', 'grief', 'grills', 'grog', 'groom', 'gross', 'grouch', 'ground', 'group', 'groups', 'grow', 'grown', 'grows', 'grudge', 'grumpy', 'guaranteed', 'guess', 'guest', 'guinness', 'guitar', 'gump', 'gun', 'gut', 'guy', 'guys', 'gwiivdcfbf', 'gym', 'haaaaay', 'hack', 'haha', 'hair', 'hairdresser', 'half', 'halitosis', 'hall', 'halloween', 'hamster', 'hand', 'handsome', 'hannover', 'hans', 'happen', 'happening', 'happens', 'happier', 'happiness', 'happy', 'harbor', 'hard', 'harder', 'hardest', 'hardware', 'hardwood', 'harrison', 'harry', 'harsh', 'harvard', 'hate', 'hater', 'haters', 'hath', 'hatred', 'haunt', 'have', 'having', 'hawaii', 'hawking', 'hbcu', 'he', 'head', 'headache', 'headbanging', 'heading', 'headless', 'heal', 'heals', 'health', 'healthcare', 'healthier', 'healthy', 'hear', 'heard', 'heart', 'heat', 'heating', 'heaven', 'heavier', 'heavy', 'hegazi', 'helen', 'hell', 'hellen', 'helluva', 'help', 'henry', 'her', 'herb', 'here', 'herman', 'hero', 'heroin', 'heroine', 'hey', 'heyyyy', 'hiddleston', 'hide', 'hiding', 'hieroglyphic', 'high', 'highly', 'hilarious', 'him', 'hippie', 'hipster', 'hire', 'hiroshima', 'his', 'hispanic', 'historically', 'history', 'hit', 'hitchhiker', 'ho', 'hobo', 'hold', 'hole', 'holiday', 'holidays', 'holistic', 'home', 'homeless', 'homicide', 'homolone', 'homophobic', 'homosexual', 'honest', 'honesty', 'honey', 'honeybee', 'honor', 'hoo', 'hook', 'hope', 'hopefully', 'hopeless', 'horny', 'horoscope', 'horrible', 'horror', 'horse', 'hose', 'hosen', 'hospital', 'hot', 'hotel', 'hotter', 'hour', 'house', 'houseboat', 'how', 'however', 'hr', 'http', 'hub', 'hug', 'huge', 'hugh', 'human', 'humanity', 'humans', 'humidity', 'hummingbird', 'hummusexual', 'humor', 'hun', 'hundred', 'hunger', 'hungry', 'hurricane', 'hurt', 'husband', 'hyper', 'hyperbole', 'hyphen', 'hypothetical', 'ice', 'iced', 'icon', 'icu', 'idea', 'identify', 'idiot', 'idk', 'if', 'ignore', 'ignores', 'ihop', 'ii', 'iii', 'ill', 'illness', 'im', 'image', 'imaginary', 'imagine', 'imitation', 'immature', 'immediate', 'immediately', 'immunity', 'impact', 'impersonal', 'impersonate', 'importance', 'important', 'impossible', 'impress', 'impressive', 'improve', 'improves', 'in', 'inability', 'inc', 'incarcerate', 'incinerate', 'inclined', 'include', 'income', 'increase', 'incredible', 'independence', 'india', 'indian', 'indiana', 'indication', 'indigenous', 'industry', 'inevitable', 'infamous', 'infection', 'inflammatory', 'inflate', 'information', 'informational', 'inhaler', 'inject', 'inmate', 'inn', 'inner', 'inning', 'innocent', 'innovation', 'insane', 'insect', 'insert', 'inside', 'insist', 'insomnia', 'inspirational', 'inspire', 'instagram', 'instant', 'instead', 'instinct', 'insurance', 'intake', 'intend', 'intense', 'intensive', 'intentionally', 'inter', 'intercourse', 'interest', 'interested', 'intern', 'international', 'internationally', 'internet', 'interpreter', 'intersection', 'interview', 'interviewed', 'interviewer', 'intrusive', 'invalidate', 'invent', 'inventive', 'inventor', 'investor', 'invite', 'involuntary', 'involves', 'iphone', 'iqs', 'iran', 'iraq', 'iraqed', 'ireland', 'irish', 'irishman', 'iron', 'irritated', 'is', 'isis', 'islam', 'islamic', 'islamism', 'islams', 'island', 'israel', 'israeli', 'issue', 'it', 'italian', 'italy', 'itch', 'its', 'iv', 'iy', 'iyanla', 'jackie', 'jagger', 'jaguar', 'jail', 'james', 'jane', 'janitor', 'january', 'javelin', 'jaws', 'jay', 'jaywalking', 'jefferson', 'jehovas', 'jerry', 'jersey', 'jess', 'jesus', 'jet', 'jew', 'jewish', 'jewpiter', 'jigglypuff', 'jihad', 'jim', 'jimbly', 'jimcarrey', 'jimmy', 'jk', 'jnf', 'jnfnc', 'job', 'joe', 'joel', 'john', 'johnson', 'join', 'joint', 'joke', 'joker', 'joking', 'jones', 'jong', 'jordan', 'journal', 'joy', 'judge', 'judgement', 'judgmental', 'juice', 'jump', 'junior', 'junky', 'jupiter', 'jury', 'just', 'justice', 'juvenile', 'kale', 'karate', 'kayak', 'keanu', 'keep', 'keller', 'kellogg', 'kennedy', 'kentucky', 'kept', 'kerr', 'kettle', 'kevin', 'kfc', 'kick', 'kid', 'kids', 'kill', 'killer', 'killing', 'kilomockingbirds', 'kim', 'kind', 'kinda', 'kindergarten', 'king', 'kinky', 'kiss', 'kitchen', 'kitten', 'kiwi', 'knee', 'knew', 'knife', 'knock', 'know', 'knowing', 'knowledge', 'kobe', 'kohls', 'kong', 'kool', 'korma', 'kosher', 'kraken', 'krasinski', 'kraut', 'la', 'lab', 'labor', 'lack', 'ladder', 'ladies', 'lady', 'ladybug', 'laid', 'lake', 'lakers', 'lama', 'laminate', 'land', 'landlord', 'language', 'large', 'laser', 'last', 'late', 'later', 'latin', 'laugh', 'laughing', 'laughter', 'laundry', 'laurie', 'lavender', 'law', 'lawn', 'lawsuit', 'lay', 'lazy', 'lb', 'lead', 'leader', 'leadership', 'leaf', 'leafy', 'leak', 'learn', 'learns', 'lease', 'least', 'leave', 'lee', 'left', 'leftover', 'leg', 'legal', 'legged', 'leper', 'lesbian', 'less', 'let', 'lets', 'letter', 'lettuce', 'level', 'lgbt', 'librarian', 'library', 'license', 'lick', 'lie', 'life', 'lifelike', 'lifter', 'light', 'lightbulb', 'lighthearted', 'lightning', 'like', 'likely', 'linda', 'line', 'lion', 'liquid', 'lisdexic', 'list', 'listen', 'listening', 'listservs', 'lit', 'literally', 'litre', 'little', 'live', 'liver', 'lives', 'livestock', 'living', 'll', 'lmao', 'local', 'lock', 'logic', 'lol', 'london', 'loneliness', 'lonely', 'long', 'longer', 'look', 'lookin', 'looking', 'looks', 'lord', 'lordin', 'los', 'lose', 'loss', 'lot', 'lotion', 'lottery', 'loud', 'louisiana', 'lov', 'love', 'lovely', 'low', 'lower', 'loyal', 'lucas', 'luck', 'lucky', 'lumberjack', 'lump', 'lunch', 'lung', 'lust', 'lutein', 'lying', 'lyric', 'ma', 'mac', 'macfayden', 'machine', 'macular', 'mad', 'mag', 'magazine', 'magic', 'magical', 'magnesium', 'mail', 'main', 'make', 'maker', 'makeup', 'making', 'malcolm', 'male', 'malt', 'mama', 'man', 'manage', 'mandalorian', 'manganese', 'manly', 'mannequin', 'many', 'map', 'mar', 'march', 'marcus', 'marijuana', 'mario', 'mark', 'marketing', 'marma', 'maroon', 'marriage', 'married', 'marry', 'mars', 'mash', 'mashed', 'mask', 'mass', 'massage', 'masseuse', 'master', 'masturbation', 'mat', 'matador', 'match', 'mate', 'material', 'mating', 'mattel', 'matter', 'matthew', 'maturity', 'max', 'maxim', 'may', 'maybe', 'mayonnaise', 'mcdonalds', 'mchat', 'mclovin', 'mcmaster', 'md', 'me', 'meal', 'mean', 'meaning', 'meant', 'med', 'medical', 'medication', 'meditation', 'medium', 'meet', 'mega', 'meh', 'melville', 'member', 'membrane', 'memoir', 'memorable', 'memorial', 'memory', 'men', 'mend', 'mendes', 'mental', 'menthol', 'meow', 'meowntain', 'mermaid', 'mess', 'message', 'met', 'metabolism', 'meth', 'mething', 'method', 'meundies', 'mexican', 'mexicans', 'mexico', 'mia', 'michael', 'michelle', 'michigan', 'mick', 'microbiology', 'middle', 'midget', 'midnight', 'midseason', 'might', 'migraine', 'mike', 'mile', 'miley', 'military', 'milk', 'millenials', 'millennials', 'million', 'millions', 'mills', 'min', 'mind', 'mindalorian', 'mindfulness', 'minds', 'mindy', 'mine', 'mineral', 'minimize', 'minor', 'mint', 'mintz', 'minute', 'miracle', 'mirror', 'miss', 'missouri', 'mist', 'mistake', 'mistakes', 'mister', 'mistook', 'misunderstood', 'mmh', 'mmmm', 'mobility', 'mockingbird', 'model', 'mole', 'mom', 'moma', 'momma', 'monday', 'mondelez', 'money', 'monkey', 'monopoly', 'monoxide', 'monster', 'montanez', 'month', 'mood', 'moon', 'more', 'morehouse', 'mormon', 'mormons', 'morning', 'moron', 'morse', 'mosquito', 'most', 'mostly', 'mother', 'motto', 'mouse', 'mouth', 'move', 'movement', 'movie', 'mow', 'mower', 'mr', 'mrs', 'ms', 'mubarak', 'much', 'muffler', 'mugger', 'mugshot', 'multiculturalism', 'multiple', 'mumbai', 'mural', 'murder', 'muscle', 'muscular', 'mushroom', 'music', 'muslim', 'muslims', 'must', 'my', 'mysterious', 'na', 'naesm2016', 'nah', 'nail', 'naked', 'name', 'narnia', 'national', 'natural', 'naturally', 'nausea', 'navigate', 'navigating', 'nazi', 'nbhcsm', 'neal', 'nearby', 'nearly', 'nebraska', 'nectar', 'need', 'needle', 'negative', 'negro', 'neighbor', 'neighborhood', 'neither', 'nemo', 'nerd', 'nerve', 'nervous', 'nest', 'nestle', 'netflix', 'netherlands', 'neutralizes', 'nevada', 'never', 'nevermind', 'new', 'news', 'newspaper', 'next', 'niacin', 'nice', 'nicety', 'nickname', 'nigeria', 'nigerians', 'nigga', 'night', 'nina', 'ninja', 'ninjavitis', 'nintendo', 'no', 'nobel', 'nobody', 'nod', 'noise', 'nominee', 'non', 'noncommittal', 'none', 'nonsense', 'normal', 'north', 'norway', 'nose', 'not', 'note', 'notebook', 'nothin', 'nothing', 'notice', 'nougat', 'now', 'nowadays', 'nowhere', 'nra', 'nuclear', 'number', 'numeral', 'numerous', 'nun', 'nut', 'nutrient', 'nuts', 'nwa', 'nwude', 'nyc', 'obama', 'obese', 'obey', 'obsession', 'occasionally', 'occur', 'ocd', 'ocean', 'october', 'odyssey', 'of', 'ofer', 'offend', 'offensive', 'offer', 'office', 'officer', 'official', 'officially', 'often', 'oh', 'ohio', 'oil', 'ok', 'okay', 'okra', 'old', 'olderandwiser', 'olympics', 'omg', 'omnivore', 'on', 'once', 'one', 'online', 'only', 'oooh', 'open', 'opening', 'opera', 'opportunity', 'oppose', 'oppression', 'opps', 'optimist', 'optimus', 'option', 'or', 'orange', 'orbison', 'orca', 'orcas', 'order', 'org', 'organise', 'orgasm', 'original', 'ornithologist', 'orphan', 'orwell', 'osmium', 'other', 'others', 'our', 'out', 'outermost', 'outfit', 'outkast', 'outside', 'outstanding', 'outta', 'oven', 'overall', 'overcome', 'overhear', 'overlook', 'overprotective', 'overweight', 'overwhelm', 'overwhelmed', 'owe', 'owens', 'own', 'owner', 'owners', 'oxygen', 'pacific', 'pack', 'package', 'packed', 'paddy', 'page', 'pageant', 'pager', 'paid', 'pain', 'painful', 'pakistan', 'pal', 'pallbearer', 'palm', 'pamphlet', 'panda', 'pandas', 'pandp', 'pang', 'panic', 'pant', 'paparazzo', 'paper', 'paramore', 'parent', 'park', 'parlor', 'parody', 'parrot', 'part', 'partial', 'partially', 'particular', 'particularly', 'partner', 'partnership', 'party', 'pas', 'pass', 'passion', 'passive', 'past', 'pasta', 'paste', 'pasteurise', 'pastor', 'patent', 'patriotic', 'patron', 'pave', 'paw', 'pay', 'pbs', 'pea', 'peace', 'peaceful', 'peek', 'peloton', 'pencil', 'penis', 'people', 'pepper', 'pepsico', 'per', 'perceive', 'percent', 'perform', 'perfume', 'period', 'peroxide', 'person', 'personal', 'personality', 'personally', 'pet', 'petal', 'petit', 'petrol', 'ph', 'pharaoh', 'pharmacy', 'philip', 'phone', 'phosphorous', 'photo', 'photographer', 'photography', 'phuket', 'physic', 'pic', 'pick', 'picked', 'picture', 'pie', 'piece', 'pigeon', 'piggyback', 'piglet', 'pile', 'pillow', 'pilot', 'pin', 'pinch', 'pine', 'ping', 'pinocchio', 'pint', 'pipe', 'pirate', 'piss', 'pitch', 'pits', 'pitt', 'pizza', 'place', 'plan', 'planck', 'plane', 'planet', 'planning', 'plant', 'plasse', 'plastic', 'platform', 'plato', 'play', 'pleasant', 'please', 'pleasure', 'plot', 'plow', 'plump', 'poacher', 'pocahontas', 'pod', 'podcast', 'podcasts', 'poetry', 'point', 'poison', 'poke', 'poker', 'polaroid', 'pole', 'police', 'policeman', 'policewoman', 'polish', 'political', 'politics', 'poly', 'poofreader', 'pool', 'pooping', 'poor', 'poorly', 'pop', 'popular', 'popularize', 'populate', 'population', 'porch', 'porcupine', 'portable', 'pose', 'position', 'possible', 'possibly', 'post', 'posture', 'potassium', 'potato', 'potential', 'pound', 'pour', 'powder', 'power', 'powered', 'practice', 'praise', 'pray', 'prayer', 'praying', 'predator', 'predict', 'pregnancy', 'pregnant', 'prejudice', 'premarital', 'premature', 'prematurity', 'prepare', 'prepared', 'present', 'preservation', 'preserve', 'preserver', 'presidency', 'president', 'presidential', 'press', 'pressure', 'pretend', 'pretreatment', 'pretty', 'pretzel', 'prevent', 'prevents', 'previous', 'price', 'pride', 'prideand', 'priest', 'primarily', 'prime', 'prince', 'prior', 'prison', 'prisoner', 'private', 'prize', 'probably', 'problem', 'probonoasl', 'process', 'procrastinate', 'produce', 'product', 'prof', 'professional', 'professor', 'program', 'prohibit', 'project', 'promiscuous', 'promise', 'promises', 'promo', 'promote', 'promotes', 'promptly', 'pronounce', 'proper', 'properly', 'property', 'prostate', 'prostitute', 'protect', 'protection', 'protective', 'protects', 'protein', 'protip', 'proven', 'provide', 'providence', 'provider', 'pst', 'psycho', 'pub', 'pubes', 'public', 'publicly', 'publish', 'puddle', 'puked', 'pull', 'pulp', 'punch', 'punishment', 'pupil', 'pure', 'purpose', 'pursue', 'purty', 'push', 'pussy', 'put', 'pyramid', 'quality', 'quantum', 'quarter', 'que', 'queen', 'queer', 'queerness', 'question', 'quiche', 'quick', 'quickly', 'quiet', 'quietly', 'quilted', 'quilty', 'quinoa', 'quit', 'quite', 'quote', 'qué', 'rabbi', 'race', 'racey', 'racial', 'racism', 'racist', 'raconteurs', 'radical', 'radio', 'rag', 'raid', 'railroad', 'rain', 'raise', 'ran', 'random', 'rang', 'range', 'rank', 'rare', 'rate', 'rather', 'rave', 'ravi', 'ray', 'razor', 're', 'reach', 'read', 'reader', 'reading', 'ready', 'real', 'realistic', 'reality', 'realize', 'really', 'reaper', 'reason', 'reasonable', 'rebuild', 'recap', 'recede', 'receive', 'recently', 'recipe', 'reclassify', 'recognize', 'recommend', 'record', 'records', 'recycle', 'red', 'redcliffe', 'redcross', 'redhead', 'reduce', 'reduces', 'reese', 'reeves', 'reflect', 'reframe', 'refuse', 'register', 'regret', 'regular', 'regularly', 'reindeer', 'reintroduce', 'reject', 'rejection', 'relapse', 'related', 'relation', 'relationship', 'release', 'reliably', 'relief', 'relieve', 'religion', 'religious', 'remain', 'remember', 'remind', 'reminder', 'remove', 'rent', 'repetitive', 'replace', 'replacing', 'reply', 'reporter', 'representation', 'republican', 'request', 'require', 'rerouting', 'research', 'researcher', 'resilience', 'resist', 'resource', 'resources', 'respect', 'respiratory', 'respond', 'responder', 'responding', 'responds', 'response', 'responsible', 'rest', 'restaurant', 'result', 'retire', 'return', 'retweet', 'reunite', 'reverse', 'revolution', 'revolve', 'rhode', 'rhyme', 'rich', 'richard', 'richest', 'rick', 'rid', 'ride', 'riders', 'right', 'rim', 'ring', 'riot', 'rip', 'ripped', 'rise', 'risk', 'risky', 'rival', 'river', 'rmscs', 'road', 'roald', 'robber', 'roberto', 'robot', 'robyn', 'rock', 'rode', 'rofl', 'rohypnol', 'role', 'roll', 'rolled', 'rollerblade', 'roman', 'romania', 'romps', 'roof', 'room', 'rooster', 'root', 'rope', 'roses', 'rough', 'rover', 'row', 'rowling', 'roy', 'royalty', 'rub', 'rubber', 'rubble', 'ruin', 'rule', 'rumor', 'run', 'rural', 'russia', 'russian', 'sack', 'sad', 'sadly', 'safe', 'safety', 'salad', 'sale', 'saltnpeppa', 'salty', 'sam', 'same', 'sample', 'sand', 'sandcastle', 'sandwich', 'sandy', 'sanitize', 'santa', 'sapien', 'sash', 'sauce', 'saunter', 'save', 'saving', 'saw', 'say', 'saying', 'says', 'scammer', 'scar', 'scarecrow', 'scene', 'scent', 'schedule', 'scheme', 'scholar', 'scholarship', 'school', 'schwarzenegger', 'science', 'scientist', 'scientists', 'scientology', 'scrabble', 'scratch', 'screech', 'screen', 'screw', 'scrub', 'sea', 'search', 'seashell', 'season', 'seat', 'seater', 'sec', 'second', 'secret', 'secretly', 'security', 'seducer', 'see', 'seed', 'seeing', 'seek', 'seem', 'seize', 'select', 'selena', 'self', 'selfie', 'sell', 'selling', 'sellout', 'senator', 'send', 'sending', 'sens', 'sense', 'sentence', 'september', 'septic', 'serengeti', 'serial', 'series', 'serious', 'serotonin', 'serve', 'service', 'serving', 'sesame', 'set', 'settle', 'seven', 'several', 'severe', 'sewage', 'sex', 'sexual', 'sexyphone', 'shade', 'shadow', 'shady', 'shake', 'shakespeare', 'shaking', 'shame', 'shampoo', 'shape', 'shaquille', 'share', 'shark', 'sharona', 'sharp', 'sharpie', 'shatter', 'shave', 'shawn', 'she', 'shea', 'sheepishly', 'sheeran', 'shell', 'sherlock', 'shero', 'shes', 'sheâ', 'ship', 'shirt', 'shit', 'shitfaced', 'shitpotle', 'shoe', 'shoebox', 'shooed', 'shoot', 'shop', 'shopping', 'short', 'shortest', 'shot', 'shoulder', 'shout', 'shovel', 'show', 'shower', 'showtime', 'shrink', 'shut', 'sick', 'sickness', 'side', 'sigh', 'sign', 'signal', 'significant', 'signing', 'silence', 'silencer', 'silent', 'silently', 'silly', 'sillyantro', 'silverback', 'similar', 'simple', 'simply', 'since', 'sincerest', 'sincerity', 'sing', 'singapore', 'singer', 'singh', 'single', 'sink', 'sir', 'siri', 'sister', 'sit', 'sitars', 'sitting', 'situation', 'six', 'size', 'skateboard', 'skeletons', 'skiing', 'skill', 'skin', 'skinny', 'skull', 'sky', 'skyline', 'slam', 'slave', 'slavery', 'sleep', 'slice', 'slightly', 'slim', 'slimy', 'slip', 'slow', 'small', 'smart', 'smell', 'smile', 'smiley', 'smoke', 'smoking', 'smuggle', 'snack', 'snail', 'snake', 'snapper', 'snatch', 'sneak', 'sneaker', 'sneeze', 'snort', 'snow', 'snowblower', 'snowblowing', 'snowman', 'so', 'sob', 'social', 'soda', 'sofa', 'sofishticated', 'soft', 'soften', 'soldier', 'solidarity', 'some', 'somebody', 'someone', 'something', 'sometimes', 'son', 'sondheim', 'song', 'soon', 'soothes', 'sorbo', 'sore', 'sorry', 'soul', 'soulmate', 'sound', 'soup', 'sour', 'south', 'southern', 'space', 'spacecraft', 'spaceship', 'spacesuit', 'spaghetti', 'spam', 'spanish', 'spark', 'speak', 'speaker', 'spear', 'special', 'specie', 'specific', 'specimen', 'speech', 'speechless', 'speed', 'spell', 'spellcheck', 'spelling', 'spend', 'spending', 'spent', 'sperm', 'spider', 'spiderweb', 'spielberg', 'spin', 'spinach', 'spit', 'split', 'spn', 'spoil', 'spoiler', 'spokesman', 'sponsor', 'spoonful', 'sport', 'spot', 'spouse', 'spray', 'spread', 'spring', 'sprinkle', 'squad', 'square', 'squirrels', 'st', 'stab', 'stage', 'stair', 'stairs', 'stall', 'stand', 'standard', 'standing', 'star', 'starbucks', 'stare', 'stars', 'start', 'state', 'statement', 'states', 'statistic', 'statistics', 'statue', 'stay', 'steal', 'steel', 'stem', 'step', 'stephan', 'stephen', 'stereo', 'stereotype', 'steve', 'steven', 'stick', 'stigma', 'still', 'stimulates', 'stole', 'stones', 'stool', 'stop', 'store', 'storm', 'story', 'straight', 'stranger', 'strategy', 'strawberry', 'stream', 'street', 'strength', 'stress', 'stressor', 'stretch', 'strictly', 'strip', 'stroke', 'strong', 'strongly', 'struggle', 'stuck', 'student', 'studies', 'study', 'stuff', 'stuffed', 'stumble', 'stupid', 'style', 'subatomic', 'subject', 'subsequent', 'substance', 'subtly', 'subversive', 'subway', 'succeed', 'success', 'successful', 'succession', 'suck', 'suddenly', 'sue', 'suffolk', 'sugar', 'suggest', 'suicide', 'suit', 'sulphur', 'sum', 'summer', 'summit', 'sun', 'sunday', 'sunglass', 'sunset', 'super', 'superbad', 'superman', 'supermom', 'supernatura', 'supernatural', 'support', 'suppose', 'suppress', 'sure', 'surface', 'surgeon', 'surgery', 'surround', 'susceptible', 'suspect', 'suspense', 'suspicion', 'sustainability', 'svc', 'swallow', 'swap', 'swear', 'sweat', 'sweet', 'sweeter', 'swift', 'swiftly', 'swim', 'swimcary2016', 'swing', 'switch', 'swordmaker', 'swore', 'symptom', 'syndrome', 'system', 'systemic', 'ta', 'tabacky', 'table', 'tablet', 'tac', 'taco', 'tag', 'take', 'taking', 'talent', 'talented', 'taliban', 'talk', 'talkative', 'tall', 'tame', 'tampax', 'tan', 'tandem', 'tank', 'tannins', 'tape', 'target', 'tarzan', 'task', 'taste', 'tattoo', 'taught', 'taurus', 'tax', 'taylor', 'tb', 'tea', 'teach', 'teacher', 'team', 'teamfollowback', 'tear', 'tease', 'tech', 'technique', 'tee', 'teen', 'teenage', 'teeth', 'teethbrush', 'tel', 'tell', 'temperature', 'tempt', 'ten', 'tend', 'tendency', 'tenne', 'tennesseans', 'tennessee', 'tennis', 'tension', 'terentius', 'term', 'terminator', 'terraform', 'terrible', 'terribly', 'terrify', 'terrorist', 'test', 'texas', 'text', 'thai', 'than', 'thank', 'thanks', 'that', 'the', 'theater', 'their', 'thekin', 'then', 'theory', 'therapist', 'therapy', 'there', 'thermostat', 'these', 'they', 'thicc', 'thigh', 'thin', 'thing', 'things', 'think', 'thinking', 'third', 'thirsty', 'this', 'thomas', 'thorn', 'those', 'though', 'thought', 'thoughts', 'thread', 'threat', 'threaten', 'three', 'threesome', 'thrones', 'throughout', 'throw', 'thrown', 'thru', 'thunder', 'thunderstorm', 'thursday', 'tic', 'ticket', 'tide', 'tie', 'tiger', 'tight', 'till', 'tim', 'timbly', 'time', 'times', 'timothy', 'tin', 'tinder', 'ting', 'tiny', 'tip', 'tire', 'tit', 'title', 'to', 'toast', 'tobacco', 'today', 'toddler', 'toe', 'together', 'toilet', 'tokyo', 'told', 'tolerate', 'tomorrow', 'ton', 'toner', 'tonigh', 'tonight', 'too', 'toodles', 'tooth', 'toothbrush', 'toothpaste', 'top', 'topic', 'tornado', 'torture', 'total', 'touch', 'tough', 'tour', 'toward', 'towel', 'town', 'toxic', 'trabajo', 'trace', 'track', 'trade', 'tradition', 'traffic', 'trail', 'train', 'training', 'trampoline', 'tranny', 'trans', 'transfer', 'transformation', 'transformer', 'transgender', 'transition', 'transvestite', 'trap', 'travel', 'treadmill', 'treasure', 'treat', 'treatment', 'tree', 'trend', 'trepaliare', 'trial', 'trick', 'trois', 'troll', 'trouble', 'troubleshoot', 'trouser', 'truck', 'true', 'truly', 'truman', 'trust', 'truth', 'try', 'tsar', 'tuesday', 'tumor', 'tune', 'tuned', 'turkey', 'turn', 'turnover', 'turns', 'tv', 'twain', 'tweet', 'tweeting', 'twitter', 'two', 'ty', 'tyler', 'type', 'typically', 'tyre', 'tyson', 'u2', 'ugliest', 'ugly', 'uh', 'uhh', 'ultraviolet', 'um', 'ummm', 'un', 'unable', 'unattractive', 'unbelievable', 'uncontrollable', 'undercover', 'underestimate', 'underground', 'underprivileged', 'understand', 'unemployed', 'unemployment', 'unexpectedly', 'unfair', 'unfaithful', 'unfortunately', 'unhealthy', 'unilever', 'united', 'universe', 'university', 'unjust', 'unless', 'unmotivated', 'unsafe', 'unsettle', 'unsung', 'until', 'untold', 'unusual', 'up', 'update', 'upload', 'upon', 'upset', 'upside', 'ur', 'urge', 'urine', 'us', 'usb', 'use', 'user', 'using', 'usps', 'utilize', 'va', 'vaccum', 'vacuum', 'valentine', 'value', 'vampire', 'vanzant', 'vaping', 'vapor', 'varro', 'vase', 'vasectomy', 've', 'vegan', 'vegetable', 'venomous', 'vera', 'verdict', 'very', 'vet', 'veteran', 'vhs', 'vi', 'vibrate', 'vice', 'video', 'vids', 'vietnam', 'view', 'vile', 'vinegar', 'vintage', 'violence', 'virgin', 'virginia', 'virtual', 'visibility', 'vision', 'visit', 'visitation', 'visitor', 'visual', 'vit', 'vitamin', 'vitaminwater', 'vlad', 'vocalization', 'voice', 'voiced', 'volunteer', 'vote', 'vulnerable', 'wacky', 'wafer', 'waffle', 'wait', 'waiter', 'wake', 'waldman', 'walk', 'walker', 'walkers', 'walks', 'wall', 'wallet', 'walmart', 'wan', 'want', 'wanted', 'war', 'warbirds', 'wardrobe', 'warm', 'warn', 'warner', 'wars', 'warsaw', 'was', 'wash', 'waste', 'wasting', 'watch', 'watching', 'water', 'waterwe', 'wave', 'way', 'wayyyyy', 'we', 'weak', 'weakness', 'wealthy', 'weapon', 'wear', 'web', 'webster', 'wedding', 'weddings', 'week', 'weekend', 'weigh', 'weight', 'weird', 'welcome', 'well', 'welp', 'wench', 'went', 'west', 'western', 'wetland', 'wetting', 'whale', 'what', 'whatever', 'whats', 'wheelchair', 'when', 'whenever', 'where', 'whereby', 'which', 'while', 'whine', 'whip', 'whisper', 'whistle', 'white', 'whiten', 'whiteness', 'whitney', 'who', 'whoa', 'whoever', 'whole', 'whorephans', 'whose', 'why', 'widdow', 'widow', 'wife', 'wiggle', 'wild', 'wildfire', 'wildly', 'william', 'willing', 'wilmore', 'win', 'wind', 'window', 'wine', 'wink', 'winter', 'wise', 'wisely', 'wish', 'witch', 'with', 'within', 'without', 'witnesses', 'witty', 'wo', 'woke', 'wolf', 'woman', 'wombat', 'women', 'wonder', 'wong', 'wonka', 'wood', 'woodchuck', 'woods', 'wop', 'word', 'work', 'worker', 'working', 'workout', 'workplace', 'world', 'worried', 'worse', 'worth', 'worthy', 'would', 'wound', 'wow', 'wrestler', 'wrinkle', 'write', 'writer', 'writes', 'wrong', 'wrote', 'wtf', 'xanax', 'ya', 'yahweh', 'yeah', 'year', 'yearly', 'yeast', 'yell', 'yellow', 'yes', 'yesterday', 'yet', 'yo', 'yoda', 'yoghurt', 'york', 'you', 'youll', 'young', 'your', 'youth', 'youtube', 'yr', 'zeal', 'zero', 'zombie', 'zombified', 'zone', 'zones', 'ㅤㅤ']\n",
      "(1000, 3973) (1000,)\n"
     ]
    }
   ],
   "source": [
    "\n",
    "# Create bag-of-words model\n",
    "from sklearn.feature_extraction.text import CountVectorizer\n",
    "\n",
    "\n",
    "vectorizer = CountVectorizer(max_features = 8000)\n",
    "X = vectorizer.fit_transform(data_list).toarray() # no. of features per phrase (phrase=X[row])\n",
    "y = dataset.iloc[:,2].values\n",
    "\n",
    "\n",
    "print(vectorizer.get_feature_names())\n",
    "print(X.shape, y.shape)\n"
   ]
  },
  {
   "cell_type": "markdown",
   "metadata": {},
   "source": [
    "#### Adding more features to the Bag of Words (This makes sense?)"
   ]
  },
  {
   "cell_type": "code",
   "execution_count": 86,
   "metadata": {},
   "outputs": [
    {
     "name": "stdout",
     "output_type": "stream",
     "text": [
      "   000  10  100  1000  100ft  106  11th  12  1200  13  ...  yr  zeal  zero  \\\n",
      "0    0   0    0     0      0    0     0   0     0   0  ...   0     0     0   \n",
      "1    0   0    0     1      0    0     0   0     0   0  ...   0     0     0   \n",
      "2    0   0    0     0      0    0     0   0     0   0  ...   0     0     0   \n",
      "3    0   0    0     0      0    0     0   0     1   0  ...   0     0     0   \n",
      "4    0   0    0     0      0    0     0   0     0   0  ...   0     0     0   \n",
      "\n",
      "   zombie  zombified  zone  zones  ㅤㅤ  humor_rating  humor_controversy  \n",
      "0       0          0     0      0   0          2.42                1.0  \n",
      "1       0          0     0      0   0          2.50                1.0  \n",
      "2       0          0     0      0   0          1.95                0.0  \n",
      "3       0          0     0      0   0          2.11                1.0  \n",
      "4       0          0     0      0   0          2.78                0.0  \n",
      "\n",
      "[5 rows x 3975 columns]\n",
      "[[0.   0.   0.   ... 0.   2.42 1.  ]\n",
      " [0.   0.   0.   ... 0.   2.5  1.  ]\n",
      " [0.   0.   0.   ... 0.   1.95 0.  ]\n",
      " ...\n",
      " [0.   0.   0.   ... 0.    nan  nan]\n",
      " [0.   0.   0.   ... 0.   1.72 1.  ]\n",
      " [0.   0.   0.   ... 0.    nan  nan]]\n",
      "[[0.   0.   0.   ... 0.   2.42 1.  ]\n",
      " [0.   0.   0.   ... 0.   2.5  1.  ]\n",
      " [0.   0.   0.   ... 0.   1.95 0.  ]\n",
      " ...\n",
      " [0.   0.   0.   ... 0.   0.   0.  ]\n",
      " [0.   0.   0.   ... 0.   1.72 1.  ]\n",
      " [0.   0.   0.   ... 0.   0.   0.  ]]\n"
     ]
    }
   ],
   "source": [
    "# converting X (numpy array) to a pandas DataFrame\n",
    "dataset_nlp = pd.DataFrame(X.tolist(), columns=vectorizer.get_feature_names())\n",
    "\n",
    "# adding 'humor_rating' and 'humor_controversy' columns\n",
    "dataset_nlp['humor_rating'] = dataset['humor_rating']\n",
    "dataset_nlp['humor_controversy'] = dataset['humor_controversy']\n",
    "print(dataset_nlp.head())\n",
    "\n",
    "X = dataset_nlp.to_numpy()\n",
    "print(X)\n",
    "# missing values were replaced by NaN\n",
    "\n",
    "# replace NaN with 0\n",
    "np.nan_to_num(X, copy=False)\n",
    "print(X)"
   ]
  },
  {
   "cell_type": "markdown",
   "metadata": {},
   "source": [
    "## Split dataset into training and test sets"
   ]
  },
  {
   "cell_type": "code",
   "execution_count": 87,
   "metadata": {},
   "outputs": [
    {
     "name": "stdout",
     "output_type": "stream",
     "text": [
      "(800, 3975) (800,)\n",
      "(200, 3975) (200,)\n"
     ]
    }
   ],
   "source": [
    "\n",
    "from sklearn.model_selection import train_test_split\n",
    "\n",
    "X_train, X_test, y_train, y_test = train_test_split(X, y, test_size = 0.20, random_state = 0)\n",
    "\n",
    "\n",
    "print(X_train.shape, y_train.shape)\n",
    "print(X_test.shape, y_test.shape)"
   ]
  },
  {
   "cell_type": "markdown",
   "metadata": {},
   "source": [
    "## Generate metrics"
   ]
  },
  {
   "cell_type": "code",
   "execution_count": 88,
   "metadata": {},
   "outputs": [],
   "source": [
    "\n",
    "from sklearn.metrics import confusion_matrix\n",
    "from sklearn.metrics import accuracy_score\n",
    "from sklearn.metrics import precision_score\n",
    "from sklearn.metrics import recall_score\n",
    "from sklearn.metrics import f1_score\n",
    "\n",
    "def print_metrics(y_test, y_pred):\n",
    "    # confusion matrix\n",
    "    print(confusion_matrix(y_test, y_pred))\n",
    "\n",
    "    # accuracy\n",
    "    print('Accuracy: ', accuracy_score(y_test, y_pred))\n",
    "\n",
    "    # precision\n",
    "    print('Precision: ', precision_score(y_test, y_pred))\n",
    "\n",
    "    # recall\n",
    "    print('Recall: ', recall_score(y_test, y_pred))\n",
    "\n",
    "    # f1\n",
    "    print('F1: ', f1_score(y_test, y_pred))"
   ]
  },
  {
   "cell_type": "markdown",
   "metadata": {},
   "source": [
    "## Text Classification"
   ]
  },
  {
   "cell_type": "code",
   "execution_count": 89,
   "metadata": {},
   "outputs": [
    {
     "name": "stdout",
     "output_type": "stream",
     "text": [
      "[[ 58  22]\n",
      " [  3 117]]\n",
      "Accuracy:  0.875\n",
      "Precision:  0.841726618705036\n",
      "Recall:  0.975\n",
      "F1:  0.9034749034749034\n"
     ]
    }
   ],
   "source": [
    "\n",
    "# Fit Naive Bayes to the training set\n",
    "\n",
    "from sklearn.naive_bayes import GaussianNB\n",
    "\n",
    "classifier = GaussianNB()\n",
    "classifier.fit(X_train, y_train)\n",
    "\n",
    "# Predict test set results\n",
    "y_pred = classifier.predict(X_test)\n",
    "print_metrics(y_test, y_pred)\n"
   ]
  },
  {
   "cell_type": "code",
   "execution_count": 90,
   "metadata": {},
   "outputs": [],
   "source": [
    "#input_test(classifier)\n"
   ]
  },
  {
   "cell_type": "code",
   "execution_count": 91,
   "metadata": {},
   "outputs": [
    {
     "name": "stdout",
     "output_type": "stream",
     "text": [
      "[[ 80   0]\n",
      " [  2 118]]\n",
      "Accuracy:  0.99\n",
      "Precision:  1.0\n",
      "Recall:  0.9833333333333333\n",
      "F1:  0.9915966386554621\n"
     ]
    }
   ],
   "source": [
    "# SVM\n",
    "\n",
    "from sklearn.svm import SVC\n",
    "\n",
    "classifier = SVC()\n",
    "classifier.fit(X_train, y_train)\n",
    "y_pred = classifier.predict(X_test)\n",
    "\n",
    "print_metrics(y_test, y_pred)"
   ]
  },
  {
   "cell_type": "code",
   "execution_count": 38,
   "metadata": {},
   "outputs": [
    {
     "name": "stdout",
     "output_type": "stream",
     "text": [
      "Enter joke: What word in English language is always spelled incorrectly? Answer : Incorrectly\n",
      "Enter rating: 0.4\n",
      "Enter controversy: 0\n",
      "(1, 3975)\n",
      "[[0.  0.  0.  ... 0.  0.4 0. ]]\n",
      "It's not a joke! (-)\n"
     ]
    }
   ],
   "source": [
    "input_test(classifier)"
   ]
  },
  {
   "cell_type": "code",
   "execution_count": 92,
   "metadata": {},
   "outputs": [
    {
     "name": "stdout",
     "output_type": "stream",
     "text": [
      "[[ 80   0]\n",
      " [  1 119]]\n",
      "Accuracy:  0.995\n",
      "Precision:  1.0\n",
      "Recall:  0.9916666666666667\n",
      "F1:  0.99581589958159\n"
     ]
    }
   ],
   "source": [
    "from sklearn.linear_model import LogisticRegression\n",
    "\n",
    "classifier = LogisticRegression()\n",
    "classifier.fit(X_train, y_train)\n",
    "y_pred = classifier.predict(X_test)\n",
    "\n",
    "print_metrics(y_test, y_pred)"
   ]
  },
  {
   "cell_type": "code",
   "execution_count": 93,
   "metadata": {},
   "outputs": [],
   "source": [
    "#input_test(classifier)"
   ]
  },
  {
   "cell_type": "code",
   "execution_count": 100,
   "metadata": {},
   "outputs": [
    {
     "name": "stdout",
     "output_type": "stream",
     "text": [
      "[[ 70  10]\n",
      " [  3 117]]\n",
      "Accuracy:  0.935\n",
      "Precision:  0.9212598425196851\n",
      "Recall:  0.975\n",
      "F1:  0.9473684210526315\n"
     ]
    }
   ],
   "source": [
    "from sklearn.neural_network import MLPClassifier\n",
    "\n",
    "classifier = MLPClassifier()\n",
    "classifier.fit(X_train, y_train)\n",
    "y_pred = classifier.predict(X_test)\n",
    "\n",
    "print_metrics(y_test, y_pred)"
   ]
  },
  {
   "cell_type": "code",
   "execution_count": 101,
   "metadata": {},
   "outputs": [],
   "source": [
    "#input_test(classifier)"
   ]
  },
  {
   "cell_type": "code",
   "execution_count": 102,
   "metadata": {},
   "outputs": [
    {
     "name": "stdout",
     "output_type": "stream",
     "text": [
      "[[ 71   9]\n",
      " [  3 117]]\n",
      "Accuracy:  0.94\n",
      "Precision:  0.9285714285714286\n",
      "Recall:  0.975\n",
      "F1:  0.951219512195122\n"
     ]
    }
   ],
   "source": [
    "from sklearn.neural_network import BernoulliRBM\n",
    "lassifier = BernoulliRBM()\n",
    "classifier.fit(X_train, y_train)\n",
    "y_pred = classifier.predict(X_test)\n",
    "\n",
    "print_metrics(y_test, y_pred)"
   ]
  },
  {
   "cell_type": "code",
   "execution_count": 103,
   "metadata": {},
   "outputs": [],
   "source": [
    "#input_test(classifier)"
   ]
  },
  {
   "cell_type": "code",
   "execution_count": 104,
   "metadata": {},
   "outputs": [
    {
     "name": "stdout",
     "output_type": "stream",
     "text": [
      "[[ 80   0]\n",
      " [  2 118]]\n",
      "Accuracy:  0.99\n",
      "Precision:  1.0\n",
      "Recall:  0.9833333333333333\n",
      "F1:  0.9915966386554621\n"
     ]
    }
   ],
   "source": [
    "from sklearn.neighbors import KNeighborsClassifier\n",
    "classifier = KNeighborsClassifier()\n",
    "classifier.fit(X_train, y_train)\n",
    "y_pred = classifier.predict(X_test)\n",
    "\n",
    "print_metrics(y_test, y_pred)"
   ]
  },
  {
   "cell_type": "code",
   "execution_count": 105,
   "metadata": {},
   "outputs": [
    {
     "name": "stdout",
     "output_type": "stream",
     "text": [
      "[[ 62  18]\n",
      " [  1 119]]\n",
      "Accuracy:  0.905\n",
      "Precision:  0.8686131386861314\n",
      "Recall:  0.9916666666666667\n",
      "F1:  0.926070038910506\n"
     ]
    }
   ],
   "source": [
    "from sklearn.naive_bayes import MultinomialNB\n",
    "classifier = MultinomialNB()\n",
    "classifier.fit(X_train, y_train)\n",
    "y_pred = classifier.predict(X_test)\n",
    "\n",
    "print_metrics(y_test, y_pred)"
   ]
  },
  {
   "cell_type": "code",
   "execution_count": null,
   "metadata": {},
   "outputs": [],
   "source": []
  },
  {
   "cell_type": "code",
   "execution_count": null,
   "metadata": {},
   "outputs": [],
   "source": []
  }
 ],
 "metadata": {
  "kernelspec": {
   "display_name": "Python 3",
   "language": "python",
   "name": "python3"
  },
  "language_info": {
   "codemirror_mode": {
    "name": "ipython",
    "version": 3
   },
   "file_extension": ".py",
   "mimetype": "text/x-python",
   "name": "python",
   "nbconvert_exporter": "python",
   "pygments_lexer": "ipython3",
   "version": "3.8.5"
  }
 },
 "nbformat": 4,
 "nbformat_minor": 4
}
